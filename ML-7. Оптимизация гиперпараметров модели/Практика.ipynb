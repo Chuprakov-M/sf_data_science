{
 "cells": [
  {
   "cell_type": "markdown",
   "id": "e664b68e",
   "metadata": {},
   "source": [
    "Наша практика будет основана на соревновании Kaggle: Predicting a Biological Response (Прогнозирование биологического ответа).\n",
    "\n",
    "Необходимо предсказать биологический ответ молекул (столбец 'Activity') по их химическому составу (столбцы D1-D1776).\n",
    "\n",
    "\n",
    "Данные представлены в формате CSV.  Каждая строка представляет молекулу. \n",
    "\n",
    "Первый столбец Activity содержит экспериментальные данные, описывающие фактический биологический ответ [0, 1]; \n",
    "Остальные столбцы D1-D1776 представляют собой молекулярные дескрипторы — это вычисляемые свойства, которые могут фиксировать некоторые характеристики молекулы, например размер, форму или состав элементов."
   ]
  },
  {
   "cell_type": "markdown",
   "id": "0954025a",
   "metadata": {},
   "source": [
    "### Оглавление\n",
    "\n",
    "[0. Подготовка](#0.-Подготовка)\n",
    "   * [0.1. Загрузка библиотек, подготовка данных](#0.1.-Загрузка-библиотек,-подготовка-данных)\n",
    "   * [0.2. Логистическая регрессия и случайный лес - baselines](#0.2.-Логистическая-регрессия-и-случайный-лес---baselines)\n",
    "\n",
    "[1. Поиск по сетке GridSearchCV](#1.-Поиск-по-сетке-GridSearchCV)\n",
    "   * [1.1. Логистическая регрессия](#1.1.-Логистическая-регрессия)\n",
    "   * [1.2. Cлучайный лес](#1.2.-Cлучайный-лес)\n",
    "\n",
    "[2. Случайный поиск по сетке RandomizedSearchCV](#2.-Случайный-поиск-по-сетке-RandomizedSearchCV)\n",
    "   * [2.1. Логистическая регрессия](#2.1.-Логистическая-регрессия)\n",
    "   * [2.2. Cлучайный лес](#2.2.-Cлучайный-лес)\n",
    "   \n",
    "[3. Использование Hyperopt](#3.-Использование-Hyperopt)\n",
    "   * [3.1. Логистическая регрессия](#3.1.-Логистическая-регрессия)\n",
    "   * [3.2. Cлучайный лес](#3.2.-Cлучайный-лес)\n",
    "   \n",
    "[4. Использование Optuna](#4.-Использование-Optuna)\n",
    "   * [4.1. Логистическая регрессия](#4.1.-Логистическая-регрессия)\n",
    "   * [4.2. Cлучайный лес](#4.2.-Cлучайный-лес)\n",
    "\n",
    "[5. Итого](#5.-Итого)"
   ]
  },
  {
   "cell_type": "markdown",
   "id": "7660ed9e",
   "metadata": {},
   "source": [
    "### 0. Подготовка"
   ]
  },
  {
   "cell_type": "markdown",
   "id": "641483ac",
   "metadata": {},
   "source": [
    "### 0.1. Загрузка библиотек, подготовка данных"
   ]
  },
  {
   "cell_type": "code",
   "execution_count": 1,
   "id": "2982f5ce",
   "metadata": {},
   "outputs": [],
   "source": [
    "#импорт библиотек\n",
    "import numpy as np #для матричных вычислений\n",
    "import pandas as pd #для анализа и предобработки данных\n",
    "import matplotlib.pyplot as plt #для визуализации\n",
    "import seaborn as sns #для визуализации\n",
    "\n",
    "from sklearn import linear_model #линейные моделиё\n",
    "from sklearn import tree #деревья решений\n",
    "from sklearn import ensemble #ансамбли\n",
    "from sklearn import metrics #метрики\n",
    "from sklearn import preprocessing #предобработка\n",
    "from sklearn.model_selection import train_test_split #сплитование выборки\n",
    "from sklearn.model_selection import GridSearchCV #поиск по сетке\n",
    "from sklearn.model_selection import RandomizedSearchCV # случайный поиск по сетке\n",
    "\n",
    "from sklearn.model_selection import cross_val_score #кросс-валидация\n",
    "import hyperopt #библиотека продвинутого поиска гиперпараметров\n",
    "\n",
    "# fmin - основная функция, она будет минимизировать наш функционал\n",
    "# tpe - алгоритм оптимизации\n",
    "# hp - включает набор методов для объявления пространства поиска гиперпараметров\n",
    "# trails - используется для логирования результатов\n",
    "from hyperopt import hp, fmin, tpe, Trials\n",
    "\n",
    "#Optuna\n",
    "import optuna"
   ]
  },
  {
   "cell_type": "code",
   "execution_count": 2,
   "id": "4aec25ba",
   "metadata": {},
   "outputs": [],
   "source": [
    "N_JOBS = 14 #16 ядер, 2 - для чего-то еще, пока модели считаются\n",
    "RANDOM_STATE = 42"
   ]
  },
  {
   "cell_type": "code",
   "execution_count": 3,
   "id": "cc75ff1d",
   "metadata": {},
   "outputs": [
    {
     "name": "stdout",
     "output_type": "stream",
     "text": [
      "(3751, 1777)\n"
     ]
    },
    {
     "data": {
      "text/html": [
       "<div>\n",
       "<style scoped>\n",
       "    .dataframe tbody tr th:only-of-type {\n",
       "        vertical-align: middle;\n",
       "    }\n",
       "\n",
       "    .dataframe tbody tr th {\n",
       "        vertical-align: top;\n",
       "    }\n",
       "\n",
       "    .dataframe thead th {\n",
       "        text-align: right;\n",
       "    }\n",
       "</style>\n",
       "<table border=\"1\" class=\"dataframe\">\n",
       "  <thead>\n",
       "    <tr style=\"text-align: right;\">\n",
       "      <th></th>\n",
       "      <th>Activity</th>\n",
       "      <th>D1</th>\n",
       "      <th>D2</th>\n",
       "      <th>D3</th>\n",
       "      <th>D4</th>\n",
       "      <th>D5</th>\n",
       "      <th>D6</th>\n",
       "      <th>D7</th>\n",
       "      <th>D8</th>\n",
       "      <th>D9</th>\n",
       "      <th>...</th>\n",
       "      <th>D1767</th>\n",
       "      <th>D1768</th>\n",
       "      <th>D1769</th>\n",
       "      <th>D1770</th>\n",
       "      <th>D1771</th>\n",
       "      <th>D1772</th>\n",
       "      <th>D1773</th>\n",
       "      <th>D1774</th>\n",
       "      <th>D1775</th>\n",
       "      <th>D1776</th>\n",
       "    </tr>\n",
       "  </thead>\n",
       "  <tbody>\n",
       "    <tr>\n",
       "      <th>0</th>\n",
       "      <td>1</td>\n",
       "      <td>0.000000</td>\n",
       "      <td>0.497009</td>\n",
       "      <td>0.10</td>\n",
       "      <td>0.0</td>\n",
       "      <td>0.132956</td>\n",
       "      <td>0.678031</td>\n",
       "      <td>0.273166</td>\n",
       "      <td>0.585445</td>\n",
       "      <td>0.743663</td>\n",
       "      <td>...</td>\n",
       "      <td>0</td>\n",
       "      <td>0</td>\n",
       "      <td>0</td>\n",
       "      <td>0</td>\n",
       "      <td>0</td>\n",
       "      <td>0</td>\n",
       "      <td>0</td>\n",
       "      <td>0</td>\n",
       "      <td>0</td>\n",
       "      <td>0</td>\n",
       "    </tr>\n",
       "    <tr>\n",
       "      <th>1</th>\n",
       "      <td>1</td>\n",
       "      <td>0.366667</td>\n",
       "      <td>0.606291</td>\n",
       "      <td>0.05</td>\n",
       "      <td>0.0</td>\n",
       "      <td>0.111209</td>\n",
       "      <td>0.803455</td>\n",
       "      <td>0.106105</td>\n",
       "      <td>0.411754</td>\n",
       "      <td>0.836582</td>\n",
       "      <td>...</td>\n",
       "      <td>1</td>\n",
       "      <td>1</td>\n",
       "      <td>1</td>\n",
       "      <td>1</td>\n",
       "      <td>0</td>\n",
       "      <td>1</td>\n",
       "      <td>0</td>\n",
       "      <td>0</td>\n",
       "      <td>1</td>\n",
       "      <td>0</td>\n",
       "    </tr>\n",
       "    <tr>\n",
       "      <th>2</th>\n",
       "      <td>1</td>\n",
       "      <td>0.033300</td>\n",
       "      <td>0.480124</td>\n",
       "      <td>0.00</td>\n",
       "      <td>0.0</td>\n",
       "      <td>0.209791</td>\n",
       "      <td>0.610350</td>\n",
       "      <td>0.356453</td>\n",
       "      <td>0.517720</td>\n",
       "      <td>0.679051</td>\n",
       "      <td>...</td>\n",
       "      <td>0</td>\n",
       "      <td>0</td>\n",
       "      <td>0</td>\n",
       "      <td>0</td>\n",
       "      <td>0</td>\n",
       "      <td>0</td>\n",
       "      <td>0</td>\n",
       "      <td>0</td>\n",
       "      <td>0</td>\n",
       "      <td>0</td>\n",
       "    </tr>\n",
       "    <tr>\n",
       "      <th>3</th>\n",
       "      <td>1</td>\n",
       "      <td>0.000000</td>\n",
       "      <td>0.538825</td>\n",
       "      <td>0.00</td>\n",
       "      <td>0.5</td>\n",
       "      <td>0.196344</td>\n",
       "      <td>0.724230</td>\n",
       "      <td>0.235606</td>\n",
       "      <td>0.288764</td>\n",
       "      <td>0.805110</td>\n",
       "      <td>...</td>\n",
       "      <td>0</td>\n",
       "      <td>0</td>\n",
       "      <td>0</td>\n",
       "      <td>0</td>\n",
       "      <td>0</td>\n",
       "      <td>0</td>\n",
       "      <td>0</td>\n",
       "      <td>0</td>\n",
       "      <td>0</td>\n",
       "      <td>0</td>\n",
       "    </tr>\n",
       "    <tr>\n",
       "      <th>4</th>\n",
       "      <td>0</td>\n",
       "      <td>0.100000</td>\n",
       "      <td>0.517794</td>\n",
       "      <td>0.00</td>\n",
       "      <td>0.0</td>\n",
       "      <td>0.494734</td>\n",
       "      <td>0.781422</td>\n",
       "      <td>0.154361</td>\n",
       "      <td>0.303809</td>\n",
       "      <td>0.812646</td>\n",
       "      <td>...</td>\n",
       "      <td>0</td>\n",
       "      <td>0</td>\n",
       "      <td>0</td>\n",
       "      <td>0</td>\n",
       "      <td>0</td>\n",
       "      <td>0</td>\n",
       "      <td>0</td>\n",
       "      <td>0</td>\n",
       "      <td>0</td>\n",
       "      <td>0</td>\n",
       "    </tr>\n",
       "  </tbody>\n",
       "</table>\n",
       "<p>5 rows × 1777 columns</p>\n",
       "</div>"
      ],
      "text/plain": [
       "   Activity        D1        D2    D3   D4        D5        D6        D7  \\\n",
       "0         1  0.000000  0.497009  0.10  0.0  0.132956  0.678031  0.273166   \n",
       "1         1  0.366667  0.606291  0.05  0.0  0.111209  0.803455  0.106105   \n",
       "2         1  0.033300  0.480124  0.00  0.0  0.209791  0.610350  0.356453   \n",
       "3         1  0.000000  0.538825  0.00  0.5  0.196344  0.724230  0.235606   \n",
       "4         0  0.100000  0.517794  0.00  0.0  0.494734  0.781422  0.154361   \n",
       "\n",
       "         D8        D9  ...  D1767  D1768  D1769  D1770  D1771  D1772  D1773  \\\n",
       "0  0.585445  0.743663  ...      0      0      0      0      0      0      0   \n",
       "1  0.411754  0.836582  ...      1      1      1      1      0      1      0   \n",
       "2  0.517720  0.679051  ...      0      0      0      0      0      0      0   \n",
       "3  0.288764  0.805110  ...      0      0      0      0      0      0      0   \n",
       "4  0.303809  0.812646  ...      0      0      0      0      0      0      0   \n",
       "\n",
       "   D1774  D1775  D1776  \n",
       "0      0      0      0  \n",
       "1      0      1      0  \n",
       "2      0      0      0  \n",
       "3      0      0      0  \n",
       "4      0      0      0  \n",
       "\n",
       "[5 rows x 1777 columns]"
      ]
     },
     "metadata": {},
     "output_type": "display_data"
    }
   ],
   "source": [
    "data = pd.read_csv('./data/_train_sem09 (1).csv')\n",
    "print(data.shape)\n",
    "display(data.head())"
   ]
  },
  {
   "cell_type": "code",
   "execution_count": 4,
   "id": "5460eca8",
   "metadata": {},
   "outputs": [
    {
     "name": "stdout",
     "output_type": "stream",
     "text": [
      "всего пустых значений: 0\n"
     ]
    }
   ],
   "source": [
    "# проверка на пропуски\n",
    "print(f\"всего пустых значений: {data.isnull().sum().sum()}\")"
   ]
  },
  {
   "cell_type": "code",
   "execution_count": 5,
   "id": "c9535171",
   "metadata": {},
   "outputs": [
    {
     "name": "stdout",
     "output_type": "stream",
     "text": [
      "все числовые\n"
     ]
    }
   ],
   "source": [
    "# проверка на нечисловые переменные\n",
    "types = data.dtypes\n",
    "cat_features = list(types[(types == 'object')].index)\n",
    "if cat_features:\n",
    "    print(cat_features)\n",
    "else:\n",
    "    print('все числовые')"
   ]
  },
  {
   "cell_type": "code",
   "execution_count": 6,
   "id": "29b8ff91",
   "metadata": {},
   "outputs": [],
   "source": [
    "# разбиение на train / test\n",
    "X = data.drop(['Activity'], axis=1)\n",
    "y = data['Activity']\n",
    "\n",
    "X_train, X_test, y_train, y_test = train_test_split(X, y, stratify=y, random_state = 1, test_size = 0.2)"
   ]
  },
  {
   "cell_type": "markdown",
   "id": "36dd7993",
   "metadata": {},
   "source": [
    "### 0.2. Логистическая регрессия и случайный лес - baselines"
   ]
  },
  {
   "cell_type": "markdown",
   "id": "828fe6e6",
   "metadata": {},
   "source": [
    "Логистическая регрессия:"
   ]
  },
  {
   "cell_type": "code",
   "execution_count": 7,
   "id": "832323c7",
   "metadata": {},
   "outputs": [
    {
     "name": "stdout",
     "output_type": "stream",
     "text": [
      "Wall time: 1.32 s\n",
      "Лог-регресия - accuracy на тестовом наборе: 0.76\n",
      "Лог-регресия - f1_score на тестовом наборе: 0.78\n"
     ]
    }
   ],
   "source": [
    "#Создаем объект класса логистическая регрессия\n",
    "log_reg = linear_model.LogisticRegression(random_state=RANDOM_STATE, max_iter = 1000)\n",
    "\n",
    "#Обучаем модель, минимизируя logloss\n",
    "%time log_reg.fit(X_train, y_train)\n",
    "\n",
    "y_test_log_pred = log_reg.predict(X_test)\n",
    "print(f\"Лог-регресия - accuracy на тестовом наборе: {log_reg.score(X_test, y_test):.2f}\")\n",
    "print(f\"Лог-регресия - f1_score на тестовом наборе: {metrics.f1_score(y_test, y_test_log_pred):.2f}\")"
   ]
  },
  {
   "cell_type": "code",
   "execution_count": 8,
   "id": "0f49c361",
   "metadata": {},
   "outputs": [
    {
     "name": "stdout",
     "output_type": "stream",
     "text": [
      "Wall time: 1.27 s\n",
      "Случайный лес - accuracy на тестовом наборе: 0.79\n",
      "Случайный лес - f1_score на тестовом наборе: 0.81\n"
     ]
    }
   ],
   "source": [
    "#Создаем объект класса случайный лес\n",
    "rf = ensemble.RandomForestClassifier(random_state=RANDOM_STATE)\n",
    "\n",
    "#Обучаем модель\n",
    "%time rf.fit(X_train, y_train)\n",
    "\n",
    "y_test_rf_pred = rf.predict(X_test)\n",
    "print(f\"Случайный лес - accuracy на тестовом наборе: {rf.score(X_test, y_test):.2f}\")\n",
    "print(f\"Случайный лес - f1_score на тестовом наборе: {metrics.f1_score(y_test, y_test_rf_pred):.2f}\")"
   ]
  },
  {
   "cell_type": "markdown",
   "id": "ad2efbc3",
   "metadata": {},
   "source": [
    "### 1. Поиск по сетке GridSearchCV"
   ]
  },
  {
   "cell_type": "code",
   "execution_count": 9,
   "id": "918e9258",
   "metadata": {},
   "outputs": [],
   "source": [
    "# сетка для логистической регрессии\n",
    "param_grid_logreg = {\n",
    "    'penalty': ['l2', 'none'], #тип регурялизации\n",
    "    'solver': ['lbfgs', 'saga'], #алгоритм оптимизации\n",
    "    'C': list(np.linspace(0.01, 1, 10, dtype=float))\n",
    "    }\n",
    "\n",
    "# сетка для случайного леса\n",
    "param_grid_rf = {'n_estimators': list(range(50, 250, 50)),\n",
    "              'min_samples_leaf': list(range(3, 6, 1)),\n",
    "              'max_depth': list(np.linspace(7, 10, 4, dtype=int))\n",
    "              }"
   ]
  },
  {
   "cell_type": "markdown",
   "id": "f292d519",
   "metadata": {},
   "source": [
    "### 1.1. Логистическая регрессия"
   ]
  },
  {
   "cell_type": "code",
   "execution_count": 10,
   "id": "40fa7b33",
   "metadata": {},
   "outputs": [
    {
     "name": "stdout",
     "output_type": "stream",
     "text": [
      "Wall time: 6min 8s\n",
      "Лог-регресия - accuracy на тестовом наборе: 0.76\n",
      "Лог-регресия - f1_score на тестовом наборе: 0.79\n",
      "Наилучшие значения гиперпараметров: {'C': 0.12, 'penalty': 'l2', 'solver': 'lbfgs'}\n"
     ]
    }
   ],
   "source": [
    "grid_search_logreg = GridSearchCV(\n",
    "    estimator=log_reg, \n",
    "    param_grid=param_grid_logreg, \n",
    "    cv=5, \n",
    "    n_jobs = N_JOBS\n",
    "    )\n",
    "\n",
    "%time grid_search_logreg.fit(X_train, y_train)\n",
    "\n",
    "y_test_log_gridsearch_pred = grid_search_logreg.predict(X_test)\n",
    "print(f\"Лог-регресия - accuracy на тестовом наборе: {metrics.accuracy_score(y_test, y_test_log_gridsearch_pred):.2f}\")\n",
    "print(f\"Лог-регресия - f1_score на тестовом наборе: {metrics.f1_score(y_test, y_test_log_gridsearch_pred):.2f}\")\n",
    "print(f\"Наилучшие значения гиперпараметров: {grid_search_logreg.best_params_}\")"
   ]
  },
  {
   "cell_type": "markdown",
   "id": "cde9037a",
   "metadata": {},
   "source": [
    "### 1.2. Cлучайный лес"
   ]
  },
  {
   "cell_type": "code",
   "execution_count": 11,
   "id": "c2d20df4",
   "metadata": {},
   "outputs": [
    {
     "name": "stdout",
     "output_type": "stream",
     "text": [
      "Wall time: 37.2 s\n",
      "Случайный лес - accuracy на тестовом наборе: 0.79\n",
      "Случайный лес - f1_score на тестовом наборе: 0.81\n",
      "Наилучшие значения гиперпараметров: {'max_depth': 10, 'min_samples_leaf': 3, 'n_estimators': 200}\n"
     ]
    }
   ],
   "source": [
    "grid_search_rf = GridSearchCV(\n",
    "    estimator=rf, \n",
    "    param_grid=param_grid_rf, \n",
    "    cv=5, \n",
    "    n_jobs = N_JOBS\n",
    "    )\n",
    "\n",
    "%time grid_search_rf.fit(X_train, y_train)\n",
    "\n",
    "y_test_rf_gridsearch_pred = grid_search_rf.predict(X_test)\n",
    "print(f\"Случайный лес - accuracy на тестовом наборе: {metrics.accuracy_score(y_test, y_test_rf_gridsearch_pred):.2f}\")\n",
    "print(f\"Случайный лес - f1_score на тестовом наборе: {metrics.f1_score(y_test, y_test_rf_gridsearch_pred):.2f}\")\n",
    "print(f\"Наилучшие значения гиперпараметров: {grid_search_rf.best_params_}\")"
   ]
  },
  {
   "cell_type": "markdown",
   "id": "b3d173a4",
   "metadata": {},
   "source": [
    "### 2. Случайный поиск по сетке RandomizedSearchCV"
   ]
  },
  {
   "cell_type": "markdown",
   "id": "b2eeacb5",
   "metadata": {},
   "source": [
    "### 2.1. Логистическая регрессия"
   ]
  },
  {
   "cell_type": "code",
   "execution_count": 12,
   "id": "04a5e1f2",
   "metadata": {},
   "outputs": [
    {
     "name": "stdout",
     "output_type": "stream",
     "text": [
      "Wall time: 3min 19s\n",
      "Лог-регресия - accuracy на тестовом наборе: 0.79\n",
      "Лог-регресия - f1_score на тестовом наборе: 0.81\n",
      "Наилучшие значения гиперпараметров: {'solver': 'lbfgs', 'penalty': 'l2', 'C': 0.12}\n"
     ]
    }
   ],
   "source": [
    "rand_grid_search_logreg = RandomizedSearchCV(\n",
    "    estimator=log_reg, \n",
    "    param_distributions=param_grid_logreg, \n",
    "    cv=5,\n",
    "    n_iter = 20, \n",
    "    n_jobs = N_JOBS\n",
    "    )\n",
    "\n",
    "%time rand_grid_search_logreg.fit(X_train, y_train)\n",
    "\n",
    "y_test_log_rand_gridsearch_pred = rf.predict(X_test)\n",
    "print(f\"Лог-регресия - accuracy на тестовом наборе: {metrics.accuracy_score(y_test, y_test_log_rand_gridsearch_pred):.2f}\")\n",
    "print(f\"Лог-регресия - f1_score на тестовом наборе: {metrics.f1_score(y_test, y_test_log_rand_gridsearch_pred):.2f}\")\n",
    "print(f\"Наилучшие значения гиперпараметров: {rand_grid_search_logreg.best_params_}\")"
   ]
  },
  {
   "cell_type": "markdown",
   "id": "fe1a8704",
   "metadata": {},
   "source": [
    "### 2.2. Cлучайный лес"
   ]
  },
  {
   "cell_type": "code",
   "execution_count": 13,
   "id": "c22d42aa",
   "metadata": {},
   "outputs": [
    {
     "name": "stdout",
     "output_type": "stream",
     "text": [
      "Wall time: 9.71 s\n",
      "Случайный лес - accuracy на тестовом наборе: 0.79\n",
      "Случайный лес - f1_score на тестовом наборе: 0.81\n",
      "Наилучшие значения гиперпараметров: {'n_estimators': 100, 'min_samples_leaf': 3, 'max_depth': 10}\n"
     ]
    }
   ],
   "source": [
    "rand_grid_search_rf = RandomizedSearchCV(\n",
    "    estimator=rf, \n",
    "    param_distributions=param_grid_rf, \n",
    "    cv=5,\n",
    "    n_iter = 10, \n",
    "    n_jobs = N_JOBS\n",
    "    )\n",
    "\n",
    "%time rand_grid_search_rf.fit(X_train, y_train)\n",
    "\n",
    "y_test_rf_rand_gridsearch_pred = rf.predict(X_test)\n",
    "print(f\"Случайный лес - accuracy на тестовом наборе: {metrics.accuracy_score(y_test, y_test_rf_rand_gridsearch_pred):.2f}\")\n",
    "print(f\"Случайный лес - f1_score на тестовом наборе: {metrics.f1_score(y_test, y_test_rf_rand_gridsearch_pred):.2f}\")\n",
    "print(f\"Наилучшие значения гиперпараметров: {rand_grid_search_rf.best_params_}\")"
   ]
  },
  {
   "cell_type": "markdown",
   "id": "508c9041",
   "metadata": {},
   "source": [
    "### 3. Использование Hyperopt"
   ]
  },
  {
   "cell_type": "markdown",
   "id": "5a5363d0",
   "metadata": {},
   "source": [
    "### 3.1. Логистическая регрессия"
   ]
  },
  {
   "cell_type": "code",
   "execution_count": 14,
   "id": "160a6320",
   "metadata": {},
   "outputs": [],
   "source": [
    "list_penalty=['l2', 'none']\n",
    "list_solver=['lbfgs', 'saga']\n",
    "\n",
    "space_hyperopt_logreg = {\n",
    "    'penalty': hp.choice('penalty', list_penalty), #тип регурялизации\n",
    "    'solver': hp.choice('solver', list_solver), #алгоритм оптимизации\n",
    "    'C': hp.uniform('C', 0.01, 1)\n",
    "    }"
   ]
  },
  {
   "cell_type": "code",
   "execution_count": 15,
   "id": "b763d023",
   "metadata": {},
   "outputs": [],
   "source": [
    "def hyperopt_log(params, cv=5, X=X_train, y=y_train, random_state=RANDOM_STATE):\n",
    "    # используем эту комбинацию для построения модели\n",
    "    params = {'penalty': params['penalty'],\n",
    "              'solver': params['solver'],\n",
    "              'C': params['C']\n",
    "             }\n",
    "    \n",
    "    model = linear_model.LogisticRegression(**params, random_state=RANDOM_STATE, max_iter=1000)\n",
    "\n",
    "    # обучаем модель\n",
    "    #model.fit(X, y)\n",
    "    #score = metrics.f1_score(y, model.predict(X))\n",
    "    \n",
    "    # обучать модель можно также с помощью кросс-валидации\n",
    "    # применим  cross validation с тем же количеством фолдов\n",
    "    score = cross_val_score(model, X, y, cv=cv, scoring=\"f1\", n_jobs=N_JOBS).mean()\n",
    "\n",
    "    # метрику необходимо минимизировать, поэтому ставим знак минус\n",
    "    return -score"
   ]
  },
  {
   "cell_type": "code",
   "execution_count": 16,
   "id": "e2f741ef",
   "metadata": {},
   "outputs": [
    {
     "name": "stdout",
     "output_type": "stream",
     "text": [
      "100%|███████████████████████████████████████████████| 30/30 [06:19<00:00, 12.65s/trial, best loss: -0.7838505949712216]\n",
      "Наилучшие значения гиперпараметров {'C': 0.02856439121520049, 'penalty': 0, 'solver': 0}\n"
     ]
    }
   ],
   "source": [
    "# начинаем подбор гиперпараметров\n",
    "trials_logreg = Trials() # используется для логирования результатов\n",
    "\n",
    "best_logreg=fmin(hyperopt_log, # наша функция \n",
    "                 space=space_hyperopt_logreg, # пространство гиперпараметров\n",
    "                 algo=tpe.suggest, # алгоритм оптимизации, установлен по умолчанию, задавать необязательно\n",
    "                 max_evals=30, # максимальное количество итераций\n",
    "                 trials=trials_logreg, # логирование результатов\n",
    "                 rstate=np.random.default_rng(RANDOM_STATE)# фиксируем для повторяемости результата\n",
    "                 )\n",
    "print(\"Наилучшие значения гиперпараметров {}\".format(best_logreg))"
   ]
  },
  {
   "cell_type": "code",
   "execution_count": 17,
   "id": "599cfdb6",
   "metadata": {},
   "outputs": [
    {
     "name": "stdout",
     "output_type": "stream",
     "text": [
      "лучшие параметры: C = 0.02856439121520049, penalty = l2, solver = lbfgs\n",
      "Лог-регресия - accuracy на тестовом наборе: 0.77\n",
      "Лог-регресия - f1_score на тестовом наборе: 0.80\n"
     ]
    }
   ],
   "source": [
    "# рассчитаем точность для тестовой выборки\n",
    "model_hyperopt_logreg = linear_model.LogisticRegression(\n",
    "    random_state=RANDOM_STATE, \n",
    "    C=best_logreg['C'],\n",
    "    penalty=list_penalty[best_logreg['penalty']],\n",
    "    solver=list_solver[best_logreg['solver']],\n",
    "    max_iter=1000\n",
    "    )\n",
    "\n",
    "model_hyperopt_logreg.fit(X_train, y_train)\n",
    "\n",
    "print(f\"лучшие параметры: C = {best_logreg['C']}, penalty = {list_penalty[best_logreg['penalty']]}, \\\n",
    "solver = {list_solver[best_logreg['solver']]}\"\n",
    "    )\n",
    "\n",
    "y_test_hyperopt_logreg_pred = model_hyperopt_logreg.predict(X_test)\n",
    "print(f\"Лог-регресия - accuracy на тестовом наборе: {metrics.accuracy_score(y_test, y_test_hyperopt_logreg_pred):.2f}\")\n",
    "print(f\"Лог-регресия - f1_score на тестовом наборе: {metrics.f1_score(y_test, y_test_hyperopt_logreg_pred):.2f}\")"
   ]
  },
  {
   "cell_type": "markdown",
   "id": "33876ec3",
   "metadata": {},
   "source": [
    "### 3.2. Cлучайный лес"
   ]
  },
  {
   "cell_type": "code",
   "execution_count": 18,
   "id": "a75575b0",
   "metadata": {},
   "outputs": [],
   "source": [
    "# зададим пространство поиска гиперпараметров\n",
    "space_hyperopt_rf={\n",
    "    'n_estimators': hp.quniform('n_estimators', 100, 200, 1),\n",
    "    'max_depth' : hp.quniform('max_depth', 15, 26, 1),\n",
    "    'min_samples_leaf': hp.quniform('min_samples_leaf', 2, 10, 1)\n",
    "    }"
   ]
  },
  {
   "cell_type": "code",
   "execution_count": 19,
   "id": "2083994c",
   "metadata": {},
   "outputs": [],
   "source": [
    "def hyperopt_rf(params, cv=5, X=X_train, y=y_train, random_state=RANDOM_STATE):\n",
    "    # функция получает комбинацию гиперпараметров в \"params\"\n",
    "    params = {'n_estimators': int(params['n_estimators']), \n",
    "              'max_depth': int(params['max_depth']), \n",
    "             'min_samples_leaf': int(params['min_samples_leaf'])\n",
    "              }\n",
    "  \n",
    "    # используем эту комбинацию для построения модели\n",
    "    model = ensemble.RandomForestClassifier(**params, random_state=RANDOM_STATE)\n",
    "\n",
    "    # обучаем модель\n",
    "    #model.fit(X, y)\n",
    "    #score = metrics.f1_score(y, model.predict(X))\n",
    "    \n",
    "    # обучать модель можно также с помощью кросс-валидации\n",
    "    # применим  cross validation с тем же количеством фолдов\n",
    "    score = cross_val_score(model, X, y, cv=cv, scoring=\"f1\", n_jobs=N_JOBS).mean()\n",
    "\n",
    "    # метрику необходимо минимизировать, поэтому ставим знак минус\n",
    "    return -score"
   ]
  },
  {
   "cell_type": "code",
   "execution_count": 20,
   "id": "6736978c",
   "metadata": {},
   "outputs": [
    {
     "name": "stdout",
     "output_type": "stream",
     "text": [
      "100%|███████████████████████████████████████████████| 20/20 [00:36<00:00,  1.84s/trial, best loss: -0.8080577050312506]\n",
      "Наилучшие значения гиперпараметров {'max_depth': 18.0, 'min_samples_leaf': 2.0, 'n_estimators': 103.0}\n",
      "Wall time: 36.8 s\n"
     ]
    }
   ],
   "source": [
    "%%time\n",
    "\n",
    "trials_rf = Trials() # используется для логирования результатов\n",
    "\n",
    "best_rf=fmin(hyperopt_rf, # наша функция \n",
    "          space=space_hyperopt_rf, # пространство гиперпараметров\n",
    "          algo=tpe.suggest, # алгоритм оптимизации, установлен по умолчанию, задавать необязательно\n",
    "          max_evals=20, # максимальное количество итераций\n",
    "          trials=trials_rf, # логирование результатов\n",
    "          rstate=np.random.default_rng(RANDOM_STATE) # фиксируем для повторяемости результата\n",
    "         )\n",
    "print(\"Наилучшие значения гиперпараметров {}\".format(best_rf))"
   ]
  },
  {
   "cell_type": "code",
   "execution_count": 21,
   "id": "1e42cded",
   "metadata": {},
   "outputs": [
    {
     "name": "stdout",
     "output_type": "stream",
     "text": [
      "лучшие параметры: {'max_depth': 18.0, 'min_samples_leaf': 2.0, 'n_estimators': 103.0}\n",
      "Лог-регресия - accuracy на тестовом наборе: 0.80\n",
      "Лог-регресия - f1_score на тестовом наборе: 0.82\n"
     ]
    }
   ],
   "source": [
    "# рассчитаем точность для тестовой выборки\n",
    "model_hyperopt_rf = ensemble.RandomForestClassifier(\n",
    "    random_state=RANDOM_STATE, \n",
    "    max_depth=int(best_rf['max_depth']),\n",
    "    min_samples_leaf=int(best_rf['min_samples_leaf']),\n",
    "    n_estimators=int(best_rf['n_estimators'])\n",
    "    )\n",
    "\n",
    "model_hyperopt_rf.fit(X_train, y_train)\n",
    "\n",
    "print(f\"лучшие параметры: {best_rf}\")\n",
    "\n",
    "y_test_hyperopt_rf_pred = model_hyperopt_rf.predict(X_test)\n",
    "print(f\"Лог-регресия - accuracy на тестовом наборе: {metrics.accuracy_score(y_test, y_test_hyperopt_rf_pred):.2f}\")\n",
    "print(f\"Лог-регресия - f1_score на тестовом наборе: {metrics.f1_score(y_test, y_test_hyperopt_rf_pred):.2f}\")"
   ]
  },
  {
   "cell_type": "markdown",
   "id": "4943aee5",
   "metadata": {},
   "source": [
    "### 4. Использование Optuna"
   ]
  },
  {
   "cell_type": "markdown",
   "id": "5ae884a4",
   "metadata": {},
   "source": [
    "### 4.1. Логистическая регрессия"
   ]
  },
  {
   "cell_type": "code",
   "execution_count": 22,
   "id": "b76fe28f",
   "metadata": {},
   "outputs": [],
   "source": [
    "def optuna_log(trial):\n",
    "    # задаем пространства поиска гиперпараметров\n",
    "    penalty = trial.suggest_categorical('penalty', list_penalty)\n",
    "    solver = trial.suggest_categorical('solver', list_solver)\n",
    "    C = trial.suggest_float('C', 0.01, 1)\n",
    "\n",
    "    # создаем модель\n",
    "    model = linear_model.LogisticRegression(\n",
    "        penalty=penalty,\n",
    "        solver=solver,\n",
    "        random_state=RANDOM_STATE,\n",
    "        max_iter=1000)\n",
    "        \n",
    "    # обучаем модель\n",
    "    #model.fit(X_train_scaled, y_train)\n",
    "    #score = metrics.f1_score(y_train, model.predict(X_train_scaled))\n",
    "    \n",
    "    cv = 5\n",
    "    score = cross_val_score(model, X, y, cv=cv, scoring=\"f1\", n_jobs=N_JOBS).mean()\n",
    "\n",
    "    return score"
   ]
  },
  {
   "cell_type": "code",
   "execution_count": 23,
   "id": "112df85c",
   "metadata": {},
   "outputs": [
    {
     "name": "stderr",
     "output_type": "stream",
     "text": [
      "\u001b[32m[I 2023-04-22 15:54:02,575]\u001b[0m A new study created in memory with name: LogisticRegression\u001b[0m\n",
      "\u001b[32m[I 2023-04-22 15:54:19,564]\u001b[0m Trial 0 finished with value: 0.7233925031705929 and parameters: {'penalty': 'none', 'solver': 'lbfgs', 'C': 0.10309234953534055}. Best is trial 0 with value: 0.7233925031705929.\u001b[0m\n",
      "\u001b[32m[I 2023-04-22 15:55:02,050]\u001b[0m Trial 1 finished with value: 0.7567875582638045 and parameters: {'penalty': 'none', 'solver': 'saga', 'C': 0.3600378388507649}. Best is trial 1 with value: 0.7567875582638045.\u001b[0m\n",
      "\u001b[32m[I 2023-04-22 15:55:19,021]\u001b[0m Trial 2 finished with value: 0.7233925031705929 and parameters: {'penalty': 'none', 'solver': 'lbfgs', 'C': 0.8418164504879109}. Best is trial 1 with value: 0.7567875582638045.\u001b[0m\n",
      "\u001b[32m[I 2023-04-22 15:55:49,177]\u001b[0m Trial 3 finished with value: 0.7749759884359712 and parameters: {'penalty': 'l2', 'solver': 'saga', 'C': 0.9219114714637002}. Best is trial 3 with value: 0.7749759884359712.\u001b[0m\n",
      "\u001b[32m[I 2023-04-22 15:56:06,010]\u001b[0m Trial 4 finished with value: 0.7233925031705929 and parameters: {'penalty': 'none', 'solver': 'lbfgs', 'C': 0.8115568782591001}. Best is trial 3 with value: 0.7749759884359712.\u001b[0m\n",
      "\u001b[32m[I 2023-04-22 15:56:22,812]\u001b[0m Trial 5 finished with value: 0.7233925031705929 and parameters: {'penalty': 'none', 'solver': 'lbfgs', 'C': 0.01617612411132783}. Best is trial 3 with value: 0.7749759884359712.\u001b[0m\n",
      "\u001b[32m[I 2023-04-22 15:57:06,545]\u001b[0m Trial 6 finished with value: 0.7567875582638045 and parameters: {'penalty': 'none', 'solver': 'saga', 'C': 0.18835971990289527}. Best is trial 3 with value: 0.7749759884359712.\u001b[0m\n",
      "\u001b[32m[I 2023-04-22 15:57:49,207]\u001b[0m Trial 7 finished with value: 0.7567875582638045 and parameters: {'penalty': 'none', 'solver': 'saga', 'C': 0.34830264904720837}. Best is trial 3 with value: 0.7749759884359712.\u001b[0m\n",
      "\u001b[32m[I 2023-04-22 15:58:19,619]\u001b[0m Trial 8 finished with value: 0.7749759884359712 and parameters: {'penalty': 'l2', 'solver': 'saga', 'C': 0.5223755472479427}. Best is trial 3 with value: 0.7749759884359712.\u001b[0m\n",
      "\u001b[32m[I 2023-04-22 15:58:36,652]\u001b[0m Trial 9 finished with value: 0.7233925031705929 and parameters: {'penalty': 'none', 'solver': 'lbfgs', 'C': 0.48007270213892}. Best is trial 3 with value: 0.7749759884359712.\u001b[0m\n",
      "\u001b[32m[I 2023-04-22 15:59:07,828]\u001b[0m Trial 10 finished with value: 0.7749759884359712 and parameters: {'penalty': 'l2', 'solver': 'saga', 'C': 0.9715234164130545}. Best is trial 3 with value: 0.7749759884359712.\u001b[0m\n",
      "\u001b[32m[I 2023-04-22 15:59:36,858]\u001b[0m Trial 11 finished with value: 0.7749759884359712 and parameters: {'penalty': 'l2', 'solver': 'saga', 'C': 0.6613383535653086}. Best is trial 3 with value: 0.7749759884359712.\u001b[0m\n",
      "\u001b[32m[I 2023-04-22 16:00:07,501]\u001b[0m Trial 12 finished with value: 0.7749759884359712 and parameters: {'penalty': 'l2', 'solver': 'saga', 'C': 0.6502186322595276}. Best is trial 3 with value: 0.7749759884359712.\u001b[0m\n",
      "\u001b[32m[I 2023-04-22 16:00:38,111]\u001b[0m Trial 13 finished with value: 0.7749759884359712 and parameters: {'penalty': 'l2', 'solver': 'saga', 'C': 0.9844988522876178}. Best is trial 3 with value: 0.7749759884359712.\u001b[0m\n",
      "\u001b[32m[I 2023-04-22 16:01:09,636]\u001b[0m Trial 14 finished with value: 0.7749759884359712 and parameters: {'penalty': 'l2', 'solver': 'saga', 'C': 0.6310476193703763}. Best is trial 3 with value: 0.7749759884359712.\u001b[0m\n",
      "\u001b[32m[I 2023-04-22 16:01:41,418]\u001b[0m Trial 15 finished with value: 0.7749759884359712 and parameters: {'penalty': 'l2', 'solver': 'saga', 'C': 0.7981476555719402}. Best is trial 3 with value: 0.7749759884359712.\u001b[0m\n",
      "\u001b[32m[I 2023-04-22 16:02:11,038]\u001b[0m Trial 16 finished with value: 0.7749759884359712 and parameters: {'penalty': 'l2', 'solver': 'saga', 'C': 0.5235937111669511}. Best is trial 3 with value: 0.7749759884359712.\u001b[0m\n",
      "\u001b[32m[I 2023-04-22 16:02:41,042]\u001b[0m Trial 17 finished with value: 0.7749759884359712 and parameters: {'penalty': 'l2', 'solver': 'saga', 'C': 0.7391745146129898}. Best is trial 3 with value: 0.7749759884359712.\u001b[0m\n",
      "\u001b[32m[I 2023-04-22 16:03:11,613]\u001b[0m Trial 18 finished with value: 0.7749759884359712 and parameters: {'penalty': 'l2', 'solver': 'saga', 'C': 0.9294701379480685}. Best is trial 3 with value: 0.7749759884359712.\u001b[0m\n",
      "\u001b[32m[I 2023-04-22 16:03:42,557]\u001b[0m Trial 19 finished with value: 0.7749759884359712 and parameters: {'penalty': 'l2', 'solver': 'saga', 'C': 0.9057893491585637}. Best is trial 3 with value: 0.7749759884359712.\u001b[0m\n",
      "\u001b[32m[I 2023-04-22 16:04:13,683]\u001b[0m Trial 20 finished with value: 0.7749759884359712 and parameters: {'penalty': 'l2', 'solver': 'saga', 'C': 0.7315867034221852}. Best is trial 3 with value: 0.7749759884359712.\u001b[0m\n",
      "\u001b[32m[I 2023-04-22 16:04:43,431]\u001b[0m Trial 21 finished with value: 0.7749759884359712 and parameters: {'penalty': 'l2', 'solver': 'saga', 'C': 0.9373610852771932}. Best is trial 3 with value: 0.7749759884359712.\u001b[0m\n",
      "\u001b[32m[I 2023-04-22 16:05:14,045]\u001b[0m Trial 22 finished with value: 0.7749759884359712 and parameters: {'penalty': 'l2', 'solver': 'saga', 'C': 0.9920395383208556}. Best is trial 3 with value: 0.7749759884359712.\u001b[0m\n",
      "\u001b[32m[I 2023-04-22 16:05:46,528]\u001b[0m Trial 23 finished with value: 0.7749759884359712 and parameters: {'penalty': 'l2', 'solver': 'saga', 'C': 0.8464051442168684}. Best is trial 3 with value: 0.7749759884359712.\u001b[0m\n",
      "\u001b[32m[I 2023-04-22 16:06:17,871]\u001b[0m Trial 24 finished with value: 0.7749759884359712 and parameters: {'penalty': 'l2', 'solver': 'saga', 'C': 0.9936543375093944}. Best is trial 3 with value: 0.7749759884359712.\u001b[0m\n",
      "\u001b[32m[I 2023-04-22 16:06:48,710]\u001b[0m Trial 25 finished with value: 0.7749759884359712 and parameters: {'penalty': 'l2', 'solver': 'saga', 'C': 0.8727796512298648}. Best is trial 3 with value: 0.7749759884359712.\u001b[0m\n",
      "\u001b[32m[I 2023-04-22 16:07:19,374]\u001b[0m Trial 26 finished with value: 0.7749759884359712 and parameters: {'penalty': 'l2', 'solver': 'saga', 'C': 0.7662688006268105}. Best is trial 3 with value: 0.7749759884359712.\u001b[0m\n",
      "\u001b[32m[I 2023-04-22 16:07:27,434]\u001b[0m Trial 27 finished with value: 0.7756204822596272 and parameters: {'penalty': 'l2', 'solver': 'lbfgs', 'C': 0.9136317933243497}. Best is trial 27 with value: 0.7756204822596272.\u001b[0m\n",
      "\u001b[32m[I 2023-04-22 16:07:36,532]\u001b[0m Trial 28 finished with value: 0.7756204822596272 and parameters: {'penalty': 'l2', 'solver': 'lbfgs', 'C': 0.8722610978570249}. Best is trial 27 with value: 0.7756204822596272.\u001b[0m\n",
      "\u001b[32m[I 2023-04-22 16:07:45,522]\u001b[0m Trial 29 finished with value: 0.7756204822596272 and parameters: {'penalty': 'l2', 'solver': 'lbfgs', 'C': 0.8933699161529142}. Best is trial 27 with value: 0.7756204822596272.\u001b[0m\n"
     ]
    },
    {
     "name": "stdout",
     "output_type": "stream",
     "text": [
      "Наилучшие значения гиперпараметров {'penalty': 'l2', 'solver': 'lbfgs', 'C': 0.9136317933243497}\n",
      "f1_score на обучающем наборе: 0.78\n",
      "Wall time: 13min 42s\n"
     ]
    }
   ],
   "source": [
    "%%time\n",
    "# cоздаем объект исследования\n",
    "# можем напрямую указать, что нам необходимо максимизировать метрику direction=\"maximize\"\n",
    "study_log = optuna.create_study(study_name=\"LogisticRegression\", direction=\"maximize\")\n",
    "# ищем лучшую комбинацию гиперпараметров n_trials раз\n",
    "study_log.optimize(optuna_log, n_trials=30)\n",
    "\n",
    "# выводим результаты на обучающей выборке\n",
    "print(\"Наилучшие значения гиперпараметров {}\".format(study_log.best_params))\n",
    "print(\"f1_score на обучающем наборе: {:.2f}\".format(study_log.best_value))"
   ]
  },
  {
   "cell_type": "code",
   "execution_count": 24,
   "id": "9916d7cb",
   "metadata": {},
   "outputs": [
    {
     "name": "stdout",
     "output_type": "stream",
     "text": [
      "accuracy на тестовом наборе: 0.76\n",
      "f1_score на тестовом наборе: 0.78\n"
     ]
    },
    {
     "name": "stderr",
     "output_type": "stream",
     "text": [
      "C:\\Users\\micha\\anaconda3\\lib\\site-packages\\sklearn\\linear_model\\_logistic.py:814: ConvergenceWarning: lbfgs failed to converge (status=1):\n",
      "STOP: TOTAL NO. of ITERATIONS REACHED LIMIT.\n",
      "\n",
      "Increase the number of iterations (max_iter) or scale the data as shown in:\n",
      "    https://scikit-learn.org/stable/modules/preprocessing.html\n",
      "Please also refer to the documentation for alternative solver options:\n",
      "    https://scikit-learn.org/stable/modules/linear_model.html#logistic-regression\n",
      "  n_iter_i = _check_optimize_result(\n"
     ]
    }
   ],
   "source": [
    "# рассчитаем точность для тестовой выборки\n",
    "model_optuna_log = linear_model.LogisticRegression(**study_log.best_params,random_state=RANDOM_STATE)\n",
    "model_optuna_log.fit(X_train, y_train)\n",
    "y_train_optuna_log_pred = model_optuna_log.predict(X_train)\n",
    "print(\"accuracy на тестовом наборе: {:.2f}\".format(model_optuna_log.score(X_test, y_test)))\n",
    "y_test_optuna_log_pred = model_optuna_log.predict(X_test)\n",
    "print('f1_score на тестовом наборе: {:.2f}'.format(metrics.f1_score(y_test_optuna_log_pred, y_test)))"
   ]
  },
  {
   "cell_type": "markdown",
   "id": "e78273d4",
   "metadata": {},
   "source": [
    "### 3.2. Cлучайный лес"
   ]
  },
  {
   "cell_type": "code",
   "execution_count": 25,
   "id": "b4c54bb8",
   "metadata": {},
   "outputs": [],
   "source": [
    "def optuna_rf(trial):\n",
    "    # задаем пространства поиска гиперпараметров\n",
    "    n_estimators = trial.suggest_int('n_estimators', 100, 200, 1)\n",
    "    max_depth = trial.suggest_int('max_depth', 10, 30, 1)\n",
    "    min_samples_leaf = trial.suggest_int('min_samples_leaf', 2, 10, 1) \n",
    "\n",
    "    # создаем модель\n",
    "    model = ensemble.RandomForestClassifier(n_estimators=n_estimators,\n",
    "                                            max_depth=max_depth,\n",
    "                                            min_samples_leaf=min_samples_leaf,\n",
    "                                            random_state=RANDOM_STATE)\n",
    "    # обучаем модель\n",
    "    #model.fit(X_train_scaled, y_train)\n",
    "    #score = metrics.f1_score(y_train, model.predict(X_train_scaled))\n",
    "    \n",
    "    cv = 5\n",
    "    score = cross_val_score(model, X, y, cv=cv, scoring=\"f1\", n_jobs=N_JOBS).mean()\n",
    "\n",
    "    return score"
   ]
  },
  {
   "cell_type": "code",
   "execution_count": 26,
   "id": "5ff4026c",
   "metadata": {},
   "outputs": [
    {
     "name": "stderr",
     "output_type": "stream",
     "text": [
      "\u001b[32m[I 2023-04-22 16:07:46,003]\u001b[0m A new study created in memory with name: RandomForestClassifier\u001b[0m\n",
      "\u001b[32m[I 2023-04-22 16:07:49,376]\u001b[0m Trial 0 finished with value: 0.8026287133558003 and parameters: {'n_estimators': 199, 'max_depth': 21, 'min_samples_leaf': 6}. Best is trial 0 with value: 0.8026287133558003.\u001b[0m\n",
      "\u001b[32m[I 2023-04-22 16:07:51,751]\u001b[0m Trial 1 finished with value: 0.7966918913204883 and parameters: {'n_estimators': 142, 'max_depth': 11, 'min_samples_leaf': 8}. Best is trial 0 with value: 0.8026287133558003.\u001b[0m\n",
      "\u001b[32m[I 2023-04-22 16:07:53,827]\u001b[0m Trial 2 finished with value: 0.8046600169262316 and parameters: {'n_estimators': 109, 'max_depth': 23, 'min_samples_leaf': 7}. Best is trial 2 with value: 0.8046600169262316.\u001b[0m\n",
      "\u001b[32m[I 2023-04-22 16:07:56,706]\u001b[0m Trial 3 finished with value: 0.7991830434433653 and parameters: {'n_estimators': 149, 'max_depth': 25, 'min_samples_leaf': 8}. Best is trial 2 with value: 0.8046600169262316.\u001b[0m\n",
      "\u001b[32m[I 2023-04-22 16:07:59,246]\u001b[0m Trial 4 finished with value: 0.8051061966550603 and parameters: {'n_estimators': 132, 'max_depth': 29, 'min_samples_leaf': 4}. Best is trial 4 with value: 0.8051061966550603.\u001b[0m\n",
      "\u001b[32m[I 2023-04-22 16:08:01,875]\u001b[0m Trial 5 finished with value: 0.7961088090231545 and parameters: {'n_estimators': 156, 'max_depth': 14, 'min_samples_leaf': 9}. Best is trial 4 with value: 0.8051061966550603.\u001b[0m\n",
      "\u001b[32m[I 2023-04-22 16:08:04,369]\u001b[0m Trial 6 finished with value: 0.8030470727019846 and parameters: {'n_estimators': 142, 'max_depth': 20, 'min_samples_leaf': 6}. Best is trial 4 with value: 0.8051061966550603.\u001b[0m\n",
      "\u001b[32m[I 2023-04-22 16:08:06,873]\u001b[0m Trial 7 finished with value: 0.7945438100188424 and parameters: {'n_estimators': 133, 'max_depth': 27, 'min_samples_leaf': 10}. Best is trial 4 with value: 0.8051061966550603.\u001b[0m\n",
      "\u001b[32m[I 2023-04-22 16:08:10,395]\u001b[0m Trial 8 finished with value: 0.815327551860315 and parameters: {'n_estimators': 173, 'max_depth': 28, 'min_samples_leaf': 2}. Best is trial 8 with value: 0.815327551860315.\u001b[0m\n",
      "\u001b[32m[I 2023-04-22 16:08:12,738]\u001b[0m Trial 9 finished with value: 0.7990748826065881 and parameters: {'n_estimators': 153, 'max_depth': 11, 'min_samples_leaf': 6}. Best is trial 8 with value: 0.815327551860315.\u001b[0m\n",
      "\u001b[32m[I 2023-04-22 16:08:16,249]\u001b[0m Trial 10 finished with value: 0.8159804024203867 and parameters: {'n_estimators': 185, 'max_depth': 30, 'min_samples_leaf': 2}. Best is trial 10 with value: 0.8159804024203867.\u001b[0m\n",
      "\u001b[32m[I 2023-04-22 16:08:19,692]\u001b[0m Trial 11 finished with value: 0.8159804024203867 and parameters: {'n_estimators': 185, 'max_depth': 30, 'min_samples_leaf': 2}. Best is trial 10 with value: 0.8159804024203867.\u001b[0m\n",
      "\u001b[32m[I 2023-04-22 16:08:23,299]\u001b[0m Trial 12 finished with value: 0.8170061447354531 and parameters: {'n_estimators': 194, 'max_depth': 30, 'min_samples_leaf': 2}. Best is trial 12 with value: 0.8170061447354531.\u001b[0m\n",
      "\u001b[32m[I 2023-04-22 16:08:26,811]\u001b[0m Trial 13 finished with value: 0.8088985815658472 and parameters: {'n_estimators': 197, 'max_depth': 17, 'min_samples_leaf': 4}. Best is trial 12 with value: 0.8170061447354531.\u001b[0m\n",
      "\u001b[32m[I 2023-04-22 16:08:29,869]\u001b[0m Trial 14 finished with value: 0.8089351594627259 and parameters: {'n_estimators': 177, 'max_depth': 26, 'min_samples_leaf': 4}. Best is trial 12 with value: 0.8170061447354531.\u001b[0m\n",
      "\u001b[32m[I 2023-04-22 16:08:33,075]\u001b[0m Trial 15 finished with value: 0.8106460478423843 and parameters: {'n_estimators': 169, 'max_depth': 30, 'min_samples_leaf': 3}. Best is trial 12 with value: 0.8170061447354531.\u001b[0m\n",
      "\u001b[32m[I 2023-04-22 16:08:37,294]\u001b[0m Trial 16 finished with value: 0.8139977401737266 and parameters: {'n_estimators': 189, 'max_depth': 24, 'min_samples_leaf': 3}. Best is trial 12 with value: 0.8170061447354531.\u001b[0m\n",
      "\u001b[32m[I 2023-04-22 16:08:40,622]\u001b[0m Trial 17 finished with value: 0.8124905038775209 and parameters: {'n_estimators': 164, 'max_depth': 21, 'min_samples_leaf': 2}. Best is trial 12 with value: 0.8170061447354531.\u001b[0m\n",
      "\u001b[32m[I 2023-04-22 16:08:43,639]\u001b[0m Trial 18 finished with value: 0.8049626012893952 and parameters: {'n_estimators': 183, 'max_depth': 27, 'min_samples_leaf': 5}. Best is trial 12 with value: 0.8170061447354531.\u001b[0m\n",
      "\u001b[32m[I 2023-04-22 16:08:45,742]\u001b[0m Trial 19 finished with value: 0.8111500484658783 and parameters: {'n_estimators': 108, 'max_depth': 18, 'min_samples_leaf': 3}. Best is trial 12 with value: 0.8170061447354531.\u001b[0m\n",
      "\u001b[32m[I 2023-04-22 16:08:49,036]\u001b[0m Trial 20 finished with value: 0.8057672258131353 and parameters: {'n_estimators': 193, 'max_depth': 23, 'min_samples_leaf': 5}. Best is trial 12 with value: 0.8170061447354531.\u001b[0m\n",
      "\u001b[32m[I 2023-04-22 16:08:52,640]\u001b[0m Trial 21 finished with value: 0.8157827353383638 and parameters: {'n_estimators': 183, 'max_depth': 30, 'min_samples_leaf': 2}. Best is trial 12 with value: 0.8170061447354531.\u001b[0m\n",
      "\u001b[32m[I 2023-04-22 16:08:56,163]\u001b[0m Trial 22 finished with value: 0.8152094108236165 and parameters: {'n_estimators': 186, 'max_depth': 30, 'min_samples_leaf': 2}. Best is trial 12 with value: 0.8170061447354531.\u001b[0m\n",
      "\u001b[32m[I 2023-04-22 16:08:59,162]\u001b[0m Trial 23 finished with value: 0.8117117023208078 and parameters: {'n_estimators': 165, 'max_depth': 28, 'min_samples_leaf': 3}. Best is trial 12 with value: 0.8170061447354531.\u001b[0m\n",
      "\u001b[32m[I 2023-04-22 16:09:02,701]\u001b[0m Trial 24 finished with value: 0.8161414278441216 and parameters: {'n_estimators': 177, 'max_depth': 26, 'min_samples_leaf': 2}. Best is trial 12 with value: 0.8170061447354531.\u001b[0m\n",
      "\u001b[32m[I 2023-04-22 16:09:05,956]\u001b[0m Trial 25 finished with value: 0.8118761078181166 and parameters: {'n_estimators': 176, 'max_depth': 26, 'min_samples_leaf': 3}. Best is trial 12 with value: 0.8170061447354531.\u001b[0m\n",
      "\u001b[32m[I 2023-04-22 16:09:09,150]\u001b[0m Trial 26 finished with value: 0.806252173795977 and parameters: {'n_estimators': 193, 'max_depth': 28, 'min_samples_leaf': 4}. Best is trial 12 with value: 0.8170061447354531.\u001b[0m\n",
      "\u001b[32m[I 2023-04-22 16:09:12,180]\u001b[0m Trial 27 finished with value: 0.8061468759359725 and parameters: {'n_estimators': 179, 'max_depth': 25, 'min_samples_leaf': 5}. Best is trial 12 with value: 0.8170061447354531.\u001b[0m\n",
      "\u001b[32m[I 2023-04-22 16:09:15,987]\u001b[0m Trial 28 finished with value: 0.8152615768220898 and parameters: {'n_estimators': 200, 'max_depth': 27, 'min_samples_leaf': 2}. Best is trial 12 with value: 0.8170061447354531.\u001b[0m\n",
      "\u001b[32m[I 2023-04-22 16:09:18,840]\u001b[0m Trial 29 finished with value: 0.813019535072876 and parameters: {'n_estimators': 161, 'max_depth': 23, 'min_samples_leaf': 3}. Best is trial 12 with value: 0.8170061447354531.\u001b[0m\n"
     ]
    },
    {
     "name": "stdout",
     "output_type": "stream",
     "text": [
      "Наилучшие значения гиперпараметров {'n_estimators': 194, 'max_depth': 30, 'min_samples_leaf': 2}\n",
      "f1_score на обучающем наборе: 0.82\n",
      "Wall time: 1min 32s\n"
     ]
    }
   ],
   "source": [
    "%%time\n",
    "# cоздаем объект исследования\n",
    "# можем напрямую указать, что нам необходимо максимизировать метрику direction=\"maximize\"\n",
    "study_rf = optuna.create_study(study_name=\"RandomForestClassifier\", direction=\"maximize\")\n",
    "# ищем лучшую комбинацию гиперпараметров n_trials раз\n",
    "study_rf.optimize(optuna_rf, n_trials=30)\n",
    "\n",
    "# выводим результаты на обучающей выборке\n",
    "print(\"Наилучшие значения гиперпараметров {}\".format(study_rf.best_params))\n",
    "print(\"f1_score на обучающем наборе: {:.2f}\".format(study_rf.best_value))"
   ]
  },
  {
   "cell_type": "code",
   "execution_count": 27,
   "id": "c8cb7988",
   "metadata": {},
   "outputs": [
    {
     "name": "stdout",
     "output_type": "stream",
     "text": [
      "accuracy на тестовом наборе: 0.80\n",
      "f1_score на тестовом наборе: 0.82\n"
     ]
    }
   ],
   "source": [
    "# рассчитаем точность для тестовой выборки\n",
    "model_optuna_rf = ensemble.RandomForestClassifier(**study_rf.best_params,random_state=RANDOM_STATE)\n",
    "model_optuna_rf.fit(X_train, y_train)\n",
    "y_train_optuna_rf_pred = model_optuna_rf.predict(X_train)\n",
    "print(\"accuracy на тестовом наборе: {:.2f}\".format(model_optuna_rf.score(X_test, y_test)))\n",
    "y_test_optuna_rf_pred = model_optuna_rf.predict(X_test)\n",
    "print('f1_score на тестовом наборе: {:.2f}'.format(metrics.f1_score(y_test_optuna_rf_pred, y_test)))"
   ]
  },
  {
   "cell_type": "markdown",
   "id": "77e7c7c9",
   "metadata": {},
   "source": [
    "#### 5. Итого\n",
    "\n",
    "Методы хорошие, полезные и интересные. \n",
    "\n",
    "Logistic на таких количествах признаков считается неприлично долго. Лес вырастить, понятное дело, быстрее.\n",
    "\n",
    "Optuna понравилась по удобству - проще Hyperopt, да и вроде как побыстрее будет.\n",
    "Результаты похожи с точностью до случайных колебаний и округлений.\n",
    "\n",
    "Если есть время, можно делать полный Grid search. Чем больше вариантов, тем лучше.\n",
    "\n",
    "А вообще пришлось еще почитать, т.к. не все необходимое было дано в курсе."
   ]
  }
 ],
 "metadata": {
  "kernelspec": {
   "display_name": "Python 3 (ipykernel)",
   "language": "python",
   "name": "python3"
  },
  "language_info": {
   "codemirror_mode": {
    "name": "ipython",
    "version": 3
   },
   "file_extension": ".py",
   "mimetype": "text/x-python",
   "name": "python",
   "nbconvert_exporter": "python",
   "pygments_lexer": "ipython3",
   "version": "3.9.13"
  }
 },
 "nbformat": 4,
 "nbformat_minor": 5
}
