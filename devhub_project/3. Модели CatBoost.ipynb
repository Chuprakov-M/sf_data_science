{
 "cells": [
  {
   "cell_type": "markdown",
   "id": "75dd5150",
   "metadata": {},
   "source": [
    "## <center> Модели CatBoost"
   ]
  },
  {
   "cell_type": "markdown",
   "id": "d9d53d19",
   "metadata": {},
   "source": [
    "Так как бустинг - довольно долгая процедура, а последовательность PPH-PPH-PPH-PPH мы предсказываем довольно неплохо, то исключим ее из построения. Исключаем после деления на train/test, чтобы деление оставалось такое же, как и в предыдущих моделях для сравнимости результатов."
   ]
  },
  {
   "cell_type": "markdown",
   "id": "29b7c774",
   "metadata": {},
   "source": [
    "Были подобраны параметры обучения, которые поднимают качество, и при этом модель считается за приемлемое (10-15 минут) время. \n",
    "\n",
    "При увеличении параметра depth качество растет, но и время тоже. Также рост будет при увеличении iterations. Но тогда время будет совсем большим. На видеокарте, как отмечено в комментариях кода, расчет будет гораздо быстрее, но каждый раз с новым результатом.\n",
    "\n",
    "Построим модели по департаметам:"
   ]
  },
  {
   "cell_type": "markdown",
   "id": "384cf960",
   "metadata": {},
   "source": [
    "Загрузка библиотек"
   ]
  },
  {
   "cell_type": "code",
   "execution_count": 1,
   "id": "8bc3139f",
   "metadata": {},
   "outputs": [],
   "source": [
    "import numpy as np #массивы\n",
    "import pandas as pd #работа с данными\n",
    "import pickle #загрузка-выгрузка pickle-файлов\n",
    "\n",
    "from sklearn import metrics #метрики\n",
    "from sklearn.model_selection import train_test_split #деление выборки на train/test\n",
    "\n",
    "from catboost import CatBoostClassifier #бустинг\n",
    "\n",
    "from IPython.display import display, HTML #параметры отображения\n",
    "\n",
    "pd.set_option('display.max_colwidth', None)\n",
    "pd.set_option('display.max_columns', 1000)"
   ]
  },
  {
   "cell_type": "markdown",
   "id": "bfb85650",
   "metadata": {},
   "source": [
    "Подготовка базы для моделирования"
   ]
  },
  {
   "cell_type": "code",
   "execution_count": 2,
   "id": "a75f4241",
   "metadata": {},
   "outputs": [
    {
     "name": "stdout",
     "output_type": "stream",
     "text": [
      "['001' '002' '003' '004' '005' '006' '007' '008' '009' '010' '011' '012'\n",
      " '013' '014' '015' '016' '017' '018' '019' '021' '022' '023' '024' '025'\n",
      " '026' '027' '028' '029' '02A' '02B' '030' '031' '032' '033' '034' '035'\n",
      " '036' '037' '038' '039' '040' '041' '042' '043' '044' '045' '046' '047'\n",
      " '048' '049' '050' '051' '052' '053' '054' '055' '056' '057' '058' '059'\n",
      " '060' '061' '062' '063' '064' '065' '066' '067' '068' '069' '070' '071'\n",
      " '072' '073' '074' '076' '077' '078' '079' '080' '081' '082' '083' '084'\n",
      " '085' '086' '087' '088' '089' '090' '091' '094' '095']\n",
      "CPU times: total: 7.16 s\n",
      "Wall time: 7.15 s\n"
     ]
    }
   ],
   "source": [
    "%%time\n",
    "\n",
    "my_random = 42 #случайное число, если процедура позволяет или требует его задать\n",
    "\n",
    "#загрузка базы для модели\n",
    "with open('./files/df_all_model.pkl', 'rb') as pkl_file:\n",
    "    df_all_model = pickle.load(pkl_file)\n",
    "\n",
    "#загрузка базы с разметкой по модели случайного леса, кодом департамента и последовательностью растений\n",
    "with open('./files/y_forest_dep.pkl', 'rb') as pkl_file:\n",
    "    y_forest_dep = pickle.load(pkl_file)\n",
    "\n",
    "#список переменных для моделирования\n",
    "var_list = [\n",
    "    'gr t-1_0', 'gr t-1_1', 'gr t-1_2', 'gr t-1_3', 'gr t-1_4',\n",
    "    'gr t-2_0', 'gr t-2_1', 'gr t-2_2', 'gr t-2_3', 'gr t-2_4',\n",
    "    'gr t-3_0', 'gr t-3_1', 'gr t-3_2', 'gr t-3_3', 'gr t-3_4',\n",
    "    'gr t-4_0', 'gr t-4_1', 'gr t-4_2', 'gr t-4_3', 'gr t-4_4',\n",
    "    'cult t-1_0', 'cult t-1_1', 'cult t-1_2', 'cult t-1_3', 'cult t-1_4',\n",
    "    'cult t-1_5', 'cult t-1_6', 'cult t-1_7', 'cult t-1_8',\n",
    "    'cult t-2_0', 'cult t-2_1', 'cult t-2_2', 'cult t-2_3', 'cult t-2_4',\n",
    "    'cult t-2_5', 'cult t-2_6', 'cult t-2_7', 'cult t-2_8',\n",
    "    'cult t-3_0', 'cult t-3_1', 'cult t-3_2', 'cult t-3_3', 'cult t-3_4',\n",
    "    'cult t-3_5', 'cult t-3_6', 'cult t-3_7',\n",
    "    'cult t-4_0', 'cult t-4_1', 'cult t-4_2', 'cult t-4_3', 'cult t-4_4', \n",
    "    'cult t-4_5', 'cult t-4_6', 'cult t-4_7',\n",
    "    'DEP_RATTAC_0', 'DEP_RATTAC_1', 'DEP_RATTAC_2', 'DEP_RATTAC_3', 'DEP_RATTAC_4', 'DEP_RATTAC_5', 'DEP_RATTAC_6',\n",
    "    'x_round', 'y_round'\n",
    "]\n",
    "\n",
    "target = 'CODE_CULTU'\n",
    "\n",
    "#выборка для построения\n",
    "X = df_all_model[df_all_model['type'] == 'modelling'][var_list + ['culture_str'] + ['DEP_RATTAC']]\n",
    "\n",
    "#целевая переменная\n",
    "y = df_all_model[df_all_model['type'] == 'modelling'][target]\n",
    "\n",
    "#train/test\n",
    "X_train, X_test, y_train, y_test = train_test_split(X, y, random_state=my_random, test_size=0.2)\n",
    "\n",
    "#список департаментов\n",
    "department_list = df_all_model['DEP_RATTAC'].unique()\n",
    "department_list.sort()\n",
    "print(department_list)"
   ]
  },
  {
   "cell_type": "code",
   "execution_count": 3,
   "id": "db517154",
   "metadata": {},
   "outputs": [
    {
     "name": "stdout",
     "output_type": "stream",
     "text": [
      "CPU times: total: 1.64 s\n",
      "Wall time: 1.63 s\n"
     ]
    }
   ],
   "source": [
    "%%time\n",
    "\n",
    "#обработка баз train и test\n",
    "#флаг train/test\n",
    "X_train['train'] = 1\n",
    "X_test['train'] = 0\n",
    "\n",
    "#флаг наличия последовательности культур 'PPH-PPH-PPH-PPH'\n",
    "X_train['PPH'] = X_train['culture_str'].apply(lambda x: 1 if x == 'PPH-PPH-PPH-PPH' else 0)\n",
    "X_test['PPH'] = X_test['culture_str'].apply(lambda x: 1 if x == 'PPH-PPH-PPH-PPH' else 0)\n",
    "\n",
    "X_y_train = pd.concat([X_train, y_train], axis = 1)\n",
    "X_y_test = pd.concat([X_test, y_test], axis = 1)\n",
    "\n",
    "X_y = pd.concat([X_y_train, X_y_test], axis = 0)\n",
    "\n",
    "#переменные для удаления из X\n",
    "del_vars = ['CODE_CULTU', 'DEP_RATTAC', 'culture_str', 'train', 'PPH']"
   ]
  },
  {
   "cell_type": "code",
   "execution_count": 4,
   "id": "1e80804a",
   "metadata": {},
   "outputs": [
    {
     "name": "stdout",
     "output_type": "stream",
     "text": [
      "CPU times: total: 0 ns\n",
      "Wall time: 0 ns\n"
     ]
    }
   ],
   "source": [
    "%%time\n",
    "\n",
    "#функция построения модели и расчета результатов по департаменту с помощью CatBoost\n",
    "def department_boosting(department):\n",
    "    #отбор департамента\n",
    "    X_y_dep = X_y[X_y['DEP_RATTAC'] == department].copy()\n",
    "    \n",
    "    print(f\"департамент {department}. наблюдений: {X_y_dep[(X_y_dep['train'] == 1) & (X_y_dep['PPH'] == 0)].shape[0]} \")\n",
    "\n",
    "    #задание параметров модели\n",
    "    boost_model = CatBoostClassifier(\n",
    "        #task_type='GPU', - быстрее в 10+ раз, но результаты невоспроизводимы:\n",
    "        #https://catboost.ai/en/docs/features/training-on-gpu - Training on GPU is non-deterministic\n",
    "        loss_function='MultiClass',\n",
    "        random_seed=my_random,\n",
    "        max_depth=9,\n",
    "        thread_count=12,\n",
    "        iterations=250,\n",
    "        verbose=0\n",
    "    )\n",
    "\n",
    "    #построение модели\n",
    "    boost_model.fit(\n",
    "        X_y_dep[(X_y_dep['train'] == 1) & (X_y_dep['PPH'] == 0)].drop(columns=del_vars),\n",
    "        X_y_dep[(X_y_dep['train'] == 1) & (X_y_dep['PPH'] == 0)]['CODE_CULTU']\n",
    "    )\n",
    "\n",
    "    #применение модели, добавление столбца с предсказанием\n",
    "    y_pred = boost_model.predict(X_y_dep.drop(columns=del_vars))\n",
    "    X_y_dep['predict_boost'] = y_pred.copy()\n",
    "\n",
    "    #пересчет предсказания для строк 'PPH-PPH-PPH-PPH'\n",
    "    def pph_add(x):\n",
    "        if x['culture_str'] == 'PPH-PPH-PPH-PPH':\n",
    "            predict_final = 'PPH'\n",
    "        else:\n",
    "            predict_final = x['predict_boost']\n",
    "        return predict_final\n",
    "\n",
    "    X_y_dep['predict_final'] = X_y_dep.apply(lambda x: pph_add(x), axis=1)\n",
    "\n",
    "    #выделение X и y в train/test\n",
    "    y_train_calc = X_y_dep[X_y_dep['train'] == 1]['predict_final']\n",
    "    y_train_fact = X_y_dep[X_y_dep['train'] == 1]['CODE_CULTU']\n",
    "    y_test_calc = X_y_dep[X_y_dep['train'] == 0]['predict_final']\n",
    "    y_test_fact = X_y_dep[X_y_dep['train'] == 0]['CODE_CULTU']\n",
    "\n",
    "    print(f\"accuracy на train: {metrics.accuracy_score(y_train_calc, y_train_fact) * 100:.2f}%\")\n",
    "    print(f\"accuracy на test: {metrics.accuracy_score(y_test_calc, y_test_fact) * 100:.2f}%\")\n",
    "    \n",
    "    #выгрузка модели\n",
    "    with open(f\"./boosting/boost_dep_{department}.pkl\", 'wb') as output:\n",
    "        str_ = f\"pickle.dump(boost_model, output)\"\n",
    "        exec(str_)\n",
    "    \n",
    "    #выгрузка результатов\n",
    "    result = X_y_dep[['train', 'PPH', 'CODE_CULTU', 'predict_boost', 'predict_final']]\n",
    "    with open(f\"./boosting/calc_dep_{department}.pkl\", 'wb') as output:\n",
    "        pickle.dump(result, output)\n",
    "        \n",
    "    print('-----' * 10)"
   ]
  },
  {
   "cell_type": "code",
   "execution_count": 5,
   "id": "77714193",
   "metadata": {},
   "outputs": [
    {
     "name": "stdout",
     "output_type": "stream",
     "text": [
      "всего департаментов 93\n",
      "['001' '002' '003' '004' '005' '006' '007' '008' '009' '010' '011' '012'\n",
      " '013' '014' '015' '016' '017' '018' '019' '021' '022' '023' '024' '025'\n",
      " '026' '027' '028' '029' '02A' '02B' '030' '031' '032' '033' '034' '035'\n",
      " '036' '037' '038' '039' '040' '041' '042' '043' '044' '045' '046' '047'\n",
      " '048' '049' '050' '051' '052' '053' '054' '055' '056' '057' '058' '059'\n",
      " '060' '061' '062' '063' '064' '065' '066' '067' '068' '069' '070' '071'\n",
      " '072' '073' '074' '076' '077' '078' '079' '080' '081' '082' '083' '084'\n",
      " '085' '086' '087' '088' '089' '090' '091' '094' '095']\n",
      "CPU times: total: 93.8 ms\n",
      "Wall time: 94 ms\n"
     ]
    }
   ],
   "source": [
    "%%time\n",
    "\n",
    "#список департаментов\n",
    "department_list = X['DEP_RATTAC'].unique()\n",
    "department_list.sort()\n",
    "print(f\"всего департаментов {len(department_list)}\")\n",
    "print(department_list)"
   ]
  },
  {
   "cell_type": "markdown",
   "id": "b038829d",
   "metadata": {},
   "source": [
    "Будем запускать порциями по 5 департаментов в одной ячейке - ~60 минут на порцию, 19 порций. Больше для удобства, чем для какой-то практической цели."
   ]
  },
  {
   "cell_type": "code",
   "execution_count": 6,
   "id": "090a84e0",
   "metadata": {},
   "outputs": [
    {
     "name": "stdout",
     "output_type": "stream",
     "text": [
      "департамент 001. наблюдений: 20109 \n",
      "accuracy на train: 92.63%\n",
      "accuracy на test: 79.90%\n",
      "--------------------------------------------------\n",
      "департамент 002. наблюдений: 21026 \n",
      "accuracy на train: 92.18%\n",
      "accuracy на test: 78.99%\n",
      "--------------------------------------------------\n",
      "департамент 003. наблюдений: 12881 \n",
      "accuracy на train: 96.66%\n",
      "accuracy на test: 83.81%\n",
      "--------------------------------------------------\n",
      "департамент 004. наблюдений: 19395 \n",
      "accuracy на train: 95.76%\n",
      "accuracy на test: 84.46%\n",
      "--------------------------------------------------\n",
      "департамент 005. наблюдений: 10800 \n",
      "accuracy на train: 97.53%\n",
      "accuracy на test: 88.83%\n",
      "--------------------------------------------------\n",
      "CPU times: total: 2h 28min 27s\n",
      "Wall time: 24min 43s\n"
     ]
    }
   ],
   "source": [
    "%%time\n",
    "part = 1\n",
    "for department in department_list[(part - 1) * 5:min(part * 5, len(department_list))]:\n",
    "    department_boosting(department=department)"
   ]
  },
  {
   "cell_type": "code",
   "execution_count": 7,
   "id": "7823662b",
   "metadata": {},
   "outputs": [
    {
     "name": "stdout",
     "output_type": "stream",
     "text": [
      "департамент 006. наблюдений: 244 \n",
      "accuracy на train: 99.34%\n",
      "accuracy на test: 94.59%\n",
      "--------------------------------------------------\n",
      "департамент 007. наблюдений: 21716 \n",
      "accuracy на train: 97.47%\n",
      "accuracy на test: 89.21%\n",
      "--------------------------------------------------\n",
      "департамент 008. наблюдений: 10518 \n",
      "accuracy на train: 96.88%\n",
      "accuracy на test: 82.89%\n",
      "--------------------------------------------------\n",
      "департамент 009. наблюдений: 9483 \n",
      "accuracy на train: 98.95%\n",
      "accuracy на test: 89.28%\n",
      "--------------------------------------------------\n",
      "департамент 010. наблюдений: 22250 \n",
      "accuracy на train: 90.73%\n",
      "accuracy на test: 75.08%\n",
      "--------------------------------------------------\n",
      "CPU times: total: 2h 2min 40s\n",
      "Wall time: 21min 29s\n"
     ]
    }
   ],
   "source": [
    "%%time\n",
    "part = 2\n",
    "for department in department_list[(part - 1) * 5:min(part * 5, len(department_list))]:\n",
    "    department_boosting(department=department)"
   ]
  },
  {
   "cell_type": "code",
   "execution_count": 8,
   "id": "9cf6be65",
   "metadata": {},
   "outputs": [
    {
     "name": "stdout",
     "output_type": "stream",
     "text": [
      "департамент 011. наблюдений: 34591 \n",
      "accuracy на train: 96.09%\n",
      "accuracy на test: 89.20%\n",
      "--------------------------------------------------\n",
      "департамент 012. наблюдений: 57027 \n",
      "accuracy на train: 89.63%\n",
      "accuracy на test: 81.89%\n",
      "--------------------------------------------------\n",
      "департамент 013. наблюдений: 755 \n",
      "accuracy на train: 100.00%\n",
      "accuracy на test: 79.43%\n",
      "--------------------------------------------------\n",
      "департамент 014. наблюдений: 15496 \n",
      "accuracy на train: 93.44%\n",
      "accuracy на test: 83.34%\n",
      "--------------------------------------------------\n",
      "департамент 015. наблюдений: 13660 \n",
      "accuracy на train: 97.99%\n",
      "accuracy на test: 94.85%\n",
      "--------------------------------------------------\n",
      "CPU times: total: 2h 38min 42s\n",
      "Wall time: 43min 41s\n"
     ]
    }
   ],
   "source": [
    "%%time\n",
    "part = 3\n",
    "for department in department_list[(part - 1) * 5:min(part * 5, len(department_list))]:\n",
    "    department_boosting(department=department)"
   ]
  },
  {
   "cell_type": "code",
   "execution_count": 9,
   "id": "7bbce991",
   "metadata": {},
   "outputs": [
    {
     "name": "stdout",
     "output_type": "stream",
     "text": [
      "департамент 016. наблюдений: 47857 \n",
      "accuracy на train: 90.79%\n",
      "accuracy на test: 81.69%\n",
      "--------------------------------------------------\n",
      "департамент 017. наблюдений: 53699 \n",
      "accuracy на train: 87.84%\n",
      "accuracy на test: 78.07%\n",
      "--------------------------------------------------\n",
      "департамент 018. наблюдений: 21879 \n",
      "accuracy на train: 94.17%\n",
      "accuracy на test: 80.58%\n",
      "--------------------------------------------------\n",
      "департамент 019. наблюдений: 15767 \n",
      "accuracy на train: 97.92%\n",
      "accuracy на test: 92.54%\n",
      "--------------------------------------------------\n",
      "департамент 021. наблюдений: 25599 \n",
      "accuracy на train: 92.54%\n",
      "accuracy на test: 82.30%\n",
      "--------------------------------------------------\n",
      "CPU times: total: 3h 59min 13s\n",
      "Wall time: 1h 24min 23s\n"
     ]
    }
   ],
   "source": [
    "%%time\n",
    "part = 4\n",
    "for department in department_list[(part - 1) * 5:min(part * 5, len(department_list))]:\n",
    "    department_boosting(department=department)"
   ]
  },
  {
   "cell_type": "code",
   "execution_count": 10,
   "id": "d7f8bca6",
   "metadata": {},
   "outputs": [
    {
     "name": "stdout",
     "output_type": "stream",
     "text": [
      "департамент 022. наблюдений: 56547 \n",
      "accuracy на train: 80.58%\n",
      "accuracy на test: 71.44%\n",
      "--------------------------------------------------\n",
      "департамент 023. наблюдений: 27400 \n",
      "accuracy на train: 94.30%\n",
      "accuracy на test: 88.44%\n",
      "--------------------------------------------------\n",
      "департамент 024. наблюдений: 34764 \n",
      "accuracy на train: 95.06%\n",
      "accuracy на test: 84.37%\n",
      "--------------------------------------------------\n",
      "департамент 025. наблюдений: 6720 \n",
      "accuracy на train: 98.56%\n",
      "accuracy на test: 92.32%\n",
      "--------------------------------------------------\n",
      "департамент 026. наблюдений: 28758 \n",
      "accuracy на train: 95.56%\n",
      "accuracy на test: 83.14%\n",
      "--------------------------------------------------\n",
      "CPU times: total: 3h 54min 24s\n",
      "Wall time: 1h 24min 48s\n"
     ]
    }
   ],
   "source": [
    "%%time\n",
    "part = 5\n",
    "for department in department_list[(part - 1) * 5:min(part * 5, len(department_list))]:\n",
    "    department_boosting(department=department)"
   ]
  },
  {
   "cell_type": "code",
   "execution_count": 11,
   "id": "9d6f660c",
   "metadata": {},
   "outputs": [
    {
     "name": "stdout",
     "output_type": "stream",
     "text": [
      "департамент 027. наблюдений: 18822 \n",
      "accuracy на train: 90.20%\n",
      "accuracy на test: 79.65%\n",
      "--------------------------------------------------\n",
      "департамент 028. наблюдений: 20516 \n",
      "accuracy на train: 89.79%\n",
      "accuracy на test: 77.84%\n",
      "--------------------------------------------------\n",
      "департамент 029. наблюдений: 36090 \n",
      "accuracy на train: 85.78%\n",
      "accuracy на test: 70.70%\n",
      "--------------------------------------------------\n",
      "департамент 02A. наблюдений: 447 \n",
      "accuracy на train: 99.83%\n",
      "accuracy на test: 94.25%\n",
      "--------------------------------------------------\n",
      "департамент 02B. наблюдений: 666 \n",
      "accuracy на train: 99.61%\n",
      "accuracy на test: 95.28%\n",
      "--------------------------------------------------\n",
      "CPU times: total: 2h 11min 30s\n",
      "Wall time: 39min 14s\n"
     ]
    }
   ],
   "source": [
    "%%time\n",
    "part = 6\n",
    "for department in department_list[(part - 1) * 5:min(part * 5, len(department_list))]:\n",
    "    department_boosting(department=department)"
   ]
  },
  {
   "cell_type": "code",
   "execution_count": 12,
   "id": "4a3475bc",
   "metadata": {},
   "outputs": [
    {
     "name": "stdout",
     "output_type": "stream",
     "text": [
      "департамент 030. наблюдений: 32116 \n",
      "accuracy на train: 96.61%\n",
      "accuracy на test: 87.31%\n",
      "--------------------------------------------------\n",
      "департамент 031. наблюдений: 29313 \n",
      "accuracy на train: 92.21%\n",
      "accuracy на test: 79.63%\n",
      "--------------------------------------------------\n",
      "департамент 032. наблюдений: 43314 \n",
      "accuracy на train: 89.93%\n",
      "accuracy на test: 76.70%\n",
      "--------------------------------------------------\n",
      "департамент 033. наблюдений: 20820 \n",
      "accuracy на train: 98.29%\n",
      "accuracy на test: 92.43%\n",
      "--------------------------------------------------\n",
      "департамент 034. наблюдений: 39422 \n",
      "accuracy на train: 95.85%\n",
      "accuracy на test: 91.53%\n",
      "--------------------------------------------------\n",
      "CPU times: total: 3h 57min 39s\n",
      "Wall time: 1h 29min 35s\n"
     ]
    }
   ],
   "source": [
    "%%time\n",
    "part = 7\n",
    "for department in department_list[(part - 1) * 5:min(part * 5, len(department_list))]:\n",
    "    department_boosting(department=department)"
   ]
  },
  {
   "cell_type": "code",
   "execution_count": 13,
   "id": "b4ab1c56",
   "metadata": {},
   "outputs": [
    {
     "name": "stdout",
     "output_type": "stream",
     "text": [
      "департамент 035. наблюдений: 33242 \n",
      "accuracy на train: 88.11%\n",
      "accuracy на test: 75.80%\n",
      "--------------------------------------------------\n",
      "департамент 036. наблюдений: 29688 \n",
      "accuracy на train: 93.18%\n",
      "accuracy на test: 80.56%\n",
      "--------------------------------------------------\n",
      "департамент 037. наблюдений: 26907 \n",
      "accuracy на train: 92.75%\n",
      "accuracy на test: 77.17%\n",
      "--------------------------------------------------\n",
      "департамент 038. наблюдений: 32266 \n",
      "accuracy на train: 92.36%\n",
      "accuracy на test: 83.40%\n",
      "--------------------------------------------------\n",
      "департамент 039. наблюдений: 11112 \n",
      "accuracy на train: 97.81%\n",
      "accuracy на test: 88.43%\n",
      "--------------------------------------------------\n",
      "CPU times: total: 3h 23min 52s\n",
      "Wall time: 1h 5min\n"
     ]
    }
   ],
   "source": [
    "%%time\n",
    "part = 8\n",
    "for department in department_list[(part - 1) * 5:min(part * 5, len(department_list))]:\n",
    "    department_boosting(department=department)"
   ]
  },
  {
   "cell_type": "code",
   "execution_count": 14,
   "id": "429df4f7",
   "metadata": {},
   "outputs": [
    {
     "name": "stdout",
     "output_type": "stream",
     "text": [
      "департамент 040. наблюдений: 21957 \n",
      "accuracy на train: 94.48%\n",
      "accuracy на test: 85.62%\n",
      "--------------------------------------------------\n",
      "департамент 041. наблюдений: 15240 \n",
      "accuracy на train: 94.95%\n",
      "accuracy на test: 77.52%\n",
      "--------------------------------------------------\n",
      "департамент 042. наблюдений: 19521 \n",
      "accuracy на train: 94.99%\n",
      "accuracy на test: 84.02%\n",
      "--------------------------------------------------\n",
      "департамент 043. наблюдений: 30031 \n",
      "accuracy на train: 94.63%\n",
      "accuracy на test: 83.96%\n",
      "--------------------------------------------------\n",
      "департамент 044. наблюдений: 30507 \n",
      "accuracy на train: 89.30%\n",
      "accuracy на test: 75.24%\n",
      "--------------------------------------------------\n",
      "CPU times: total: 3h 20min 5s\n",
      "Wall time: 56min 41s\n"
     ]
    }
   ],
   "source": [
    "%%time\n",
    "part = 9\n",
    "for department in department_list[(part - 1) * 5:min(part * 5, len(department_list))]:\n",
    "    department_boosting(department=department)"
   ]
  },
  {
   "cell_type": "code",
   "execution_count": 15,
   "id": "76cdaa83",
   "metadata": {},
   "outputs": [
    {
     "name": "stdout",
     "output_type": "stream",
     "text": [
      "департамент 045. наблюдений: 21906 \n",
      "accuracy на train: 92.41%\n",
      "accuracy на test: 74.89%\n",
      "--------------------------------------------------\n",
      "департамент 046. наблюдений: 36022 \n",
      "accuracy на train: 94.28%\n",
      "accuracy на test: 87.34%\n",
      "--------------------------------------------------\n",
      "департамент 047. наблюдений: 26100 \n",
      "accuracy на train: 93.56%\n",
      "accuracy на test: 79.31%\n",
      "--------------------------------------------------\n",
      "департамент 048. наблюдений: 32258 \n",
      "accuracy на train: 96.40%\n",
      "accuracy на test: 91.03%\n",
      "--------------------------------------------------\n",
      "департамент 049. наблюдений: 29062 \n",
      "accuracy на train: 93.12%\n",
      "accuracy на test: 75.84%\n",
      "--------------------------------------------------\n",
      "CPU times: total: 3h 30min 16s\n",
      "Wall time: 1h 7min 23s\n"
     ]
    }
   ],
   "source": [
    "%%time\n",
    "part = 10\n",
    "for department in department_list[(part - 1) * 5:min(part * 5, len(department_list))]:\n",
    "    department_boosting(department=department)"
   ]
  },
  {
   "cell_type": "code",
   "execution_count": 16,
   "id": "a91c42ac",
   "metadata": {},
   "outputs": [
    {
     "name": "stdout",
     "output_type": "stream",
     "text": [
      "департамент 050. наблюдений: 33537 \n",
      "accuracy на train: 88.64%\n",
      "accuracy на test: 82.01%\n",
      "--------------------------------------------------\n",
      "департамент 051. наблюдений: 33916 \n",
      "accuracy на train: 88.59%\n",
      "accuracy на test: 75.20%\n",
      "--------------------------------------------------\n",
      "департамент 052. наблюдений: 9735 \n",
      "accuracy на train: 96.75%\n",
      "accuracy на test: 83.49%\n",
      "--------------------------------------------------\n",
      "департамент 053. наблюдений: 9382 \n",
      "accuracy на train: 94.67%\n",
      "accuracy на test: 79.31%\n",
      "--------------------------------------------------\n",
      "департамент 054. наблюдений: 13367 \n",
      "accuracy на train: 95.48%\n",
      "accuracy на test: 83.77%\n",
      "--------------------------------------------------\n",
      "CPU times: total: 2h 28min 53s\n",
      "Wall time: 39min 39s\n"
     ]
    }
   ],
   "source": [
    "%%time\n",
    "part = 11\n",
    "for department in department_list[(part - 1) * 5:min(part * 5, len(department_list))]:\n",
    "    department_boosting(department=department)"
   ]
  },
  {
   "cell_type": "code",
   "execution_count": 17,
   "id": "72d500b2",
   "metadata": {},
   "outputs": [
    {
     "name": "stdout",
     "output_type": "stream",
     "text": [
      "департамент 055. наблюдений: 8062 \n",
      "accuracy на train: 97.96%\n",
      "accuracy на test: 83.14%\n",
      "--------------------------------------------------\n",
      "департамент 056. наблюдений: 23329 \n",
      "accuracy на train: 89.61%\n",
      "accuracy на test: 73.04%\n",
      "--------------------------------------------------\n",
      "департамент 057. наблюдений: 15724 \n",
      "accuracy на train: 96.32%\n",
      "accuracy на test: 85.67%\n",
      "--------------------------------------------------\n",
      "департамент 058. наблюдений: 12395 \n",
      "accuracy на train: 96.95%\n",
      "accuracy на test: 86.81%\n",
      "--------------------------------------------------\n",
      "департамент 059. наблюдений: 23774 \n",
      "accuracy на train: 90.45%\n",
      "accuracy на test: 76.52%\n",
      "--------------------------------------------------\n",
      "CPU times: total: 2h 27min\n",
      "Wall time: 32min 56s\n"
     ]
    }
   ],
   "source": [
    "%%time\n",
    "part = 12\n",
    "for department in department_list[(part - 1) * 5:min(part * 5, len(department_list))]:\n",
    "    department_boosting(department=department)"
   ]
  },
  {
   "cell_type": "code",
   "execution_count": 18,
   "id": "06c99a89",
   "metadata": {},
   "outputs": [
    {
     "name": "stdout",
     "output_type": "stream",
     "text": [
      "департамент 060. наблюдений: 19743 \n",
      "accuracy на train: 88.16%\n",
      "accuracy на test: 76.31%\n",
      "--------------------------------------------------\n",
      "департамент 061. наблюдений: 17471 \n",
      "accuracy на train: 93.89%\n",
      "accuracy на test: 84.35%\n",
      "--------------------------------------------------\n",
      "департамент 062. наблюдений: 31877 \n",
      "accuracy на train: 88.60%\n",
      "accuracy на test: 75.95%\n",
      "--------------------------------------------------\n",
      "департамент 063. наблюдений: 27041 \n",
      "accuracy на train: 94.53%\n",
      "accuracy на test: 88.70%\n",
      "--------------------------------------------------\n",
      "департамент 064. наблюдений: 51949 \n",
      "accuracy на train: 92.88%\n",
      "accuracy на test: 89.06%\n",
      "--------------------------------------------------\n",
      "CPU times: total: 3h 8min 35s\n",
      "Wall time: 1h 1min 1s\n"
     ]
    }
   ],
   "source": [
    "%%time\n",
    "part = 13\n",
    "for department in department_list[(part - 1) * 5:min(part * 5, len(department_list))]:\n",
    "    department_boosting(department=department)"
   ]
  },
  {
   "cell_type": "code",
   "execution_count": 19,
   "id": "0b4a3bf0",
   "metadata": {},
   "outputs": [
    {
     "name": "stdout",
     "output_type": "stream",
     "text": [
      "департамент 065. наблюдений: 18733 \n",
      "accuracy на train: 95.34%\n",
      "accuracy на test: 87.37%\n",
      "--------------------------------------------------\n",
      "департамент 066. наблюдений: 16277 \n",
      "accuracy на train: 98.39%\n",
      "accuracy на test: 94.82%\n",
      "--------------------------------------------------\n",
      "департамент 067. наблюдений: 44922 \n",
      "accuracy на train: 86.55%\n",
      "accuracy на test: 81.98%\n",
      "--------------------------------------------------\n",
      "департамент 068. наблюдений: 29245 \n",
      "accuracy на train: 92.12%\n",
      "accuracy на test: 85.00%\n",
      "--------------------------------------------------\n",
      "департамент 069. наблюдений: 15308 \n",
      "accuracy на train: 96.84%\n",
      "accuracy на test: 84.01%\n",
      "--------------------------------------------------\n",
      "CPU times: total: 3h 1min 8s\n",
      "Wall time: 53min 19s\n"
     ]
    }
   ],
   "source": [
    "%%time\n",
    "part = 14\n",
    "for department in department_list[(part - 1) * 5:min(part * 5, len(department_list))]:\n",
    "    department_boosting(department=department)"
   ]
  },
  {
   "cell_type": "code",
   "execution_count": 20,
   "id": "86b18745",
   "metadata": {},
   "outputs": [
    {
     "name": "stdout",
     "output_type": "stream",
     "text": [
      "департамент 070. наблюдений: 11185 \n",
      "accuracy на train: 96.90%\n",
      "accuracy на test: 84.71%\n",
      "--------------------------------------------------\n",
      "департамент 071. наблюдений: 23260 \n",
      "accuracy на train: 96.14%\n",
      "accuracy на test: 87.99%\n",
      "--------------------------------------------------\n",
      "департамент 072. наблюдений: 16591 \n",
      "accuracy на train: 93.44%\n",
      "accuracy на test: 79.80%\n",
      "--------------------------------------------------\n",
      "департамент 073. наблюдений: 6745 \n",
      "accuracy на train: 98.66%\n",
      "accuracy на test: 94.45%\n",
      "--------------------------------------------------\n",
      "департамент 074. наблюдений: 8697 \n",
      "accuracy на train: 97.68%\n",
      "accuracy на test: 91.91%\n",
      "--------------------------------------------------\n",
      "CPU times: total: 2h 1min 50s\n",
      "Wall time: 22min 20s\n"
     ]
    }
   ],
   "source": [
    "%%time\n",
    "part = 15\n",
    "for department in department_list[(part - 1) * 5:min(part * 5, len(department_list))]:\n",
    "    department_boosting(department=department)"
   ]
  },
  {
   "cell_type": "code",
   "execution_count": 21,
   "id": "a61d13bf",
   "metadata": {},
   "outputs": [
    {
     "name": "stdout",
     "output_type": "stream",
     "text": [
      "департамент 076. наблюдений: 13061 \n",
      "accuracy на train: 94.10%\n",
      "accuracy на test: 79.86%\n",
      "--------------------------------------------------\n",
      "департамент 077. наблюдений: 20072 \n",
      "accuracy на train: 91.33%\n",
      "accuracy на test: 75.43%\n",
      "--------------------------------------------------\n",
      "департамент 078. наблюдений: 6905 \n",
      "accuracy на train: 96.05%\n",
      "accuracy на test: 77.30%\n",
      "--------------------------------------------------\n",
      "департамент 079. наблюдений: 36285 \n",
      "accuracy на train: 89.54%\n",
      "accuracy на test: 73.39%\n",
      "--------------------------------------------------\n",
      "департамент 080. наблюдений: 25423 \n",
      "accuracy на train: 86.90%\n",
      "accuracy на test: 71.50%\n",
      "--------------------------------------------------\n",
      "CPU times: total: 2h 54min 55s\n",
      "Wall time: 47min 36s\n"
     ]
    }
   ],
   "source": [
    "%%time\n",
    "part = 16\n",
    "for department in department_list[(part - 1) * 5:min(part * 5, len(department_list))]:\n",
    "    department_boosting(department=department)"
   ]
  },
  {
   "cell_type": "code",
   "execution_count": 22,
   "id": "b39c405e",
   "metadata": {},
   "outputs": [
    {
     "name": "stdout",
     "output_type": "stream",
     "text": [
      "департамент 081. наблюдений: 30412 \n",
      "accuracy на train: 93.52%\n",
      "accuracy на test: 77.46%\n",
      "--------------------------------------------------\n",
      "департамент 082. наблюдений: 25184 \n",
      "accuracy на train: 93.83%\n",
      "accuracy на test: 81.31%\n",
      "--------------------------------------------------\n",
      "департамент 083. наблюдений: 849 \n",
      "accuracy на train: 99.89%\n",
      "accuracy на test: 85.45%\n",
      "--------------------------------------------------\n",
      "департамент 084. наблюдений: 1760 \n",
      "accuracy на train: 99.18%\n",
      "accuracy на test: 83.17%\n",
      "--------------------------------------------------\n",
      "департамент 085. наблюдений: 26318 \n",
      "accuracy на train: 92.25%\n",
      "accuracy на test: 77.44%\n",
      "--------------------------------------------------\n",
      "CPU times: total: 2h 53min 50s\n",
      "Wall time: 53min 43s\n"
     ]
    }
   ],
   "source": [
    "%%time\n",
    "part = 17\n",
    "for department in department_list[(part - 1) * 5:min(part * 5, len(department_list))]:\n",
    "    department_boosting(department=department)"
   ]
  },
  {
   "cell_type": "code",
   "execution_count": 23,
   "id": "82877a1d",
   "metadata": {},
   "outputs": [
    {
     "name": "stdout",
     "output_type": "stream",
     "text": [
      "департамент 086. наблюдений: 36666 \n",
      "accuracy на train: 88.51%\n",
      "accuracy на test: 72.60%\n",
      "--------------------------------------------------\n",
      "департамент 087. наблюдений: 16176 \n",
      "accuracy на train: 93.66%\n",
      "accuracy на test: 82.08%\n",
      "--------------------------------------------------\n",
      "департамент 088. наблюдений: 8715 \n",
      "accuracy на train: 97.71%\n",
      "accuracy на test: 89.12%\n",
      "--------------------------------------------------\n",
      "департамент 089. наблюдений: 30815 \n",
      "accuracy на train: 88.54%\n",
      "accuracy на test: 75.11%\n",
      "--------------------------------------------------\n",
      "департамент 090. наблюдений: 1486 \n",
      "accuracy на train: 99.73%\n",
      "accuracy на test: 86.36%\n",
      "--------------------------------------------------\n",
      "CPU times: total: 2h 39min 6s\n",
      "Wall time: 48min 51s\n"
     ]
    }
   ],
   "source": [
    "%%time\n",
    "part = 18\n",
    "for department in department_list[(part - 1) * 5:min(part * 5, len(department_list))]:\n",
    "    department_boosting(department=department)"
   ]
  },
  {
   "cell_type": "code",
   "execution_count": 24,
   "id": "b0cf8406",
   "metadata": {},
   "outputs": [
    {
     "name": "stdout",
     "output_type": "stream",
     "text": [
      "департамент 091. наблюдений: 6571 \n",
      "accuracy на train: 96.59%\n",
      "accuracy на test: 75.77%\n",
      "--------------------------------------------------\n",
      "департамент 094. наблюдений: 104 \n",
      "accuracy на train: 100.00%\n",
      "accuracy на test: 76.47%\n",
      "--------------------------------------------------\n",
      "департамент 095. наблюдений: 2078 \n",
      "accuracy на train: 99.35%\n",
      "accuracy на test: 77.35%\n",
      "--------------------------------------------------\n",
      "CPU times: total: 39min 4s\n",
      "Wall time: 5min 39s\n"
     ]
    }
   ],
   "source": [
    "%%time\n",
    "part = 19\n",
    "for department in department_list[(part - 1) * 5:min(part * 5, len(department_list))]:\n",
    "    department_boosting(department=department)"
   ]
  }
 ],
 "metadata": {
  "kernelspec": {
   "display_name": "Python 3 (ipykernel)",
   "language": "python",
   "name": "python3"
  },
  "language_info": {
   "codemirror_mode": {
    "name": "ipython",
    "version": 3
   },
   "file_extension": ".py",
   "mimetype": "text/x-python",
   "name": "python",
   "nbconvert_exporter": "python",
   "pygments_lexer": "ipython3",
   "version": "3.10.9"
  }
 },
 "nbformat": 4,
 "nbformat_minor": 5
}
