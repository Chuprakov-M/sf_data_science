{
 "cells": [
  {
   "cell_type": "markdown",
   "id": "c8a6af25-08d3-487a-bd90-001772ac9161",
   "metadata": {},
   "source": [
    "## <center> **Анализ результатов A/B-тестирования**"
   ]
  },
  {
   "cell_type": "markdown",
   "id": "d7d45571-6545-4904-a86b-9b3b6b8163d3",
   "metadata": {},
   "source": [
    "Компания планирует запустить новую акцию, чтобы продать как можно больше туров. Команда разработала два варианта посадочной страницы официального сайта компании и провела A/B-тестирование. Собранные в результате проведения эксперимента данные вы можете найти здесь.\n",
    "\n",
    "Вам предстоит решить настоящую бизнес-задачу: проанализировать эффективность обоих вариантов посадочной страницы сразу по двум критериям: конверсии покупки и среднему чеку. На основе проведенного анализа вам будет необходимо сделать выводы и принять решение: какой из вариантов дизайна более предпочтительный.\n",
    "\n",
    "Итак, наша фирма предлагает следующие варианты туров и их соответствующие стоимости:\n",
    "* Таиланд — 100000 рублей;\n",
    "* Турция — 60000 рублей;\n",
    "* Мальдивы — 200000 рублей;\n",
    "* Санкт-Петербург — 10000 рублей;\n",
    "* Камчатка — 150000 рублей."
   ]
  },
  {
   "cell_type": "code",
   "execution_count": 1,
   "id": "a974b482-e192-4014-8520-8a5c0c946da6",
   "metadata": {},
   "outputs": [],
   "source": [
    "import pandas as pd\n",
    "import matplotlib.pyplot as plt\n",
    "import seaborn as sns\n",
    "from scipy.stats import norm\n",
    "from scipy.stats import t\n",
    "from scipy.stats import ttest_ind, shapiro, f_oneway, mannwhitneyu\n",
    "from statsmodels.stats.proportion import proportions_ztest"
   ]
  },
  {
   "cell_type": "markdown",
   "id": "55c84550-4162-4325-acc2-7d3c0aafe6f0",
   "metadata": {},
   "source": [
    "Прочитаем наши данные и посмотрим на столбцы таблицы:"
   ]
  },
  {
   "cell_type": "code",
   "execution_count": 2,
   "id": "b0d18245-b9da-44bd-8aea-d272ea74b63a",
   "metadata": {},
   "outputs": [
    {
     "data": {
      "text/html": [
       "<div>\n",
       "<style scoped>\n",
       "    .dataframe tbody tr th:only-of-type {\n",
       "        vertical-align: middle;\n",
       "    }\n",
       "\n",
       "    .dataframe tbody tr th {\n",
       "        vertical-align: top;\n",
       "    }\n",
       "\n",
       "    .dataframe thead th {\n",
       "        text-align: right;\n",
       "    }\n",
       "</style>\n",
       "<table border=\"1\" class=\"dataframe\">\n",
       "  <thead>\n",
       "    <tr style=\"text-align: right;\">\n",
       "      <th></th>\n",
       "      <th>user_id</th>\n",
       "      <th>date</th>\n",
       "      <th>group</th>\n",
       "      <th>purchase</th>\n",
       "      <th>price</th>\n",
       "    </tr>\n",
       "  </thead>\n",
       "  <tbody>\n",
       "    <tr>\n",
       "      <th>0</th>\n",
       "      <td>851104</td>\n",
       "      <td>2021-01-21</td>\n",
       "      <td>A</td>\n",
       "      <td>0</td>\n",
       "      <td>0</td>\n",
       "    </tr>\n",
       "    <tr>\n",
       "      <th>1</th>\n",
       "      <td>804228</td>\n",
       "      <td>2021-01-12</td>\n",
       "      <td>A</td>\n",
       "      <td>0</td>\n",
       "      <td>0</td>\n",
       "    </tr>\n",
       "    <tr>\n",
       "      <th>2</th>\n",
       "      <td>661590</td>\n",
       "      <td>2021-01-11</td>\n",
       "      <td>B</td>\n",
       "      <td>0</td>\n",
       "      <td>0</td>\n",
       "    </tr>\n",
       "    <tr>\n",
       "      <th>3</th>\n",
       "      <td>853541</td>\n",
       "      <td>2021-01-08</td>\n",
       "      <td>B</td>\n",
       "      <td>0</td>\n",
       "      <td>0</td>\n",
       "    </tr>\n",
       "    <tr>\n",
       "      <th>4</th>\n",
       "      <td>864975</td>\n",
       "      <td>2021-01-21</td>\n",
       "      <td>A</td>\n",
       "      <td>1</td>\n",
       "      <td>150000</td>\n",
       "    </tr>\n",
       "  </tbody>\n",
       "</table>\n",
       "</div>"
      ],
      "text/plain": [
       "   user_id        date group  purchase   price\n",
       "0   851104  2021-01-21     A         0       0\n",
       "1   804228  2021-01-12     A         0       0\n",
       "2   661590  2021-01-11     B         0       0\n",
       "3   853541  2021-01-08     B         0       0\n",
       "4   864975  2021-01-21     A         1  150000"
      ]
     },
     "execution_count": 2,
     "metadata": {},
     "output_type": "execute_result"
    }
   ],
   "source": [
    "data = pd.read_csv('data/ab_data_tourist.csv')\n",
    "data.head()"
   ]
  },
  {
   "cell_type": "markdown",
   "id": "2fc48225-26ac-49c4-b99d-8b2a03dd74a1",
   "metadata": {
    "tags": []
   },
   "source": [
    "## **Задание 7.1.**\n",
    "\n",
    "Начнем с исследования структуры наших данных. С помощью метода info() выведите информацию о типах данных и количестве непустых значений. Какой тип данных имеет столбец date?"
   ]
  },
  {
   "cell_type": "code",
   "execution_count": 3,
   "id": "23496521-4878-46e2-ab02-1a98be14884a",
   "metadata": {},
   "outputs": [
    {
     "name": "stdout",
     "output_type": "stream",
     "text": [
      "<class 'pandas.core.frame.DataFrame'>\n",
      "RangeIndex: 294478 entries, 0 to 294477\n",
      "Data columns (total 5 columns):\n",
      " #   Column    Non-Null Count   Dtype \n",
      "---  ------    --------------   ----- \n",
      " 0   user_id   294478 non-null  int64 \n",
      " 1   date      294478 non-null  object\n",
      " 2   group     294478 non-null  object\n",
      " 3   purchase  294478 non-null  int64 \n",
      " 4   price     294478 non-null  int64 \n",
      "dtypes: int64(3), object(2)\n",
      "memory usage: 11.2+ MB\n",
      "None\n",
      "Задание 7.2: object\n"
     ]
    }
   ],
   "source": [
    "#ваш код здесь\n",
    "print(data.info())\n",
    "print('Задание 7.2:', data.dtypes['date'])"
   ]
  },
  {
   "cell_type": "markdown",
   "id": "946d017d-b4fe-4a17-b91d-0ce369d1ab2e",
   "metadata": {
    "tags": []
   },
   "source": [
    "## **Задание 7.2.**\n",
    "\n",
    "Приведите столбец date к типу данных datetime. Убедитесь в равной длительности проведения тестирования для каждой из группы. Для этого сгруппируйте данные по признаку группы и определите первую и последнюю дату наблюдения для каждой из групп. \n",
    "\n",
    "В какой промежуток времени проводился A/B-тест?\n"
   ]
  },
  {
   "cell_type": "code",
   "execution_count": 4,
   "id": "604c619d-6338-45c8-8248-ac098a2366bb",
   "metadata": {},
   "outputs": [
    {
     "name": "stdout",
     "output_type": "stream",
     "text": [
      "максимальная разница в датах начала и датах конца теста по группам:\n",
      "0 days 00:00:00\n",
      "Задание 7.2: 2021-01-02 - 2021-01-24\n"
     ]
    }
   ],
   "source": [
    "#ваш код здесь\n",
    "data['date'] = pd.to_datetime(data['date'])\n",
    "\n",
    "date_range = data.groupby('group')['date'].agg(['min', 'max'])\n",
    "#максимальная разность дат начала и конца тестов в группах должна быть равна 0:\n",
    "print('максимальная разница в датах начала и датах конца теста по группам:')\n",
    "print(max(date_range['min'].iloc[0] - date_range['min'].iloc[1], date_range['max'].iloc[0] - date_range['max'].iloc[1]))\n",
    "\n",
    "print(f\"Задание 7.2: {date_range['min'].dt.date.iloc[0]} - {date_range['max'].dt.date.iloc[0]}\")"
   ]
  },
  {
   "cell_type": "markdown",
   "id": "e04eb341-52ae-48b3-9dc2-0578ca91641a",
   "metadata": {},
   "source": [
    "## **Задание 7.3.**\n",
    "\n",
    "* Чему равно количество посещений сайта в группах А и B?\n",
    "\n",
    "* Чему равно суммарное количество покупок в группах А и B?\n",
    "\n",
    "* Чему равна сумма всех покупок в группах А и B? Ответ приведите в миллионах рублей. Например, 185.52 млн. руб."
   ]
  },
  {
   "cell_type": "code",
   "execution_count": 5,
   "id": "02bf0148-488e-4f34-95bf-37794b2fa98b",
   "metadata": {},
   "outputs": [
    {
     "name": "stdout",
     "output_type": "stream",
     "text": [
      "Задание 7.3.\n",
      "в группе А: 147202 заходов\n",
      "в группе B: 147276 заходов\n",
      "в группе А: 17723 покупок\n",
      "в группе B: 17514 покупок\n",
      "в группе А: 1436.26 млн рублей\n",
      "в группе B: 1554.1 млн рублей\n"
     ]
    }
   ],
   "source": [
    "#ваш код здесь\n",
    "print('Задание 7.3.')\n",
    "print(f\"в группе А: {data[data['group'] == 'A'].shape[0]} заходов\")\n",
    "print(f\"в группе B: {data[data['group'] == 'B'].shape[0]} заходов\")\n",
    "print(f\"в группе А: {data[data['group'] == 'A']['purchase'].sum()} покупок\")\n",
    "print(f\"в группе B: {data[data['group'] == 'B']['purchase'].sum()} покупок\")\n",
    "print(f\"в группе А: {data[data['group'] == 'A']['price'].sum() / 1000000} млн рублей\")\n",
    "print(f\"в группе B: {data[data['group'] == 'B']['price'].sum() / 1000000} млн рублей\")"
   ]
  },
  {
   "cell_type": "markdown",
   "id": "2434db1b-17e6-4977-8e54-1df875c6f221",
   "metadata": {
    "tags": []
   },
   "source": [
    "## **Задание 7.4.**\n",
    "\n",
    "Проверьте, есть ли пользователи, которые в процессе A/B-теста попали в обе тестовые группы? Если да, то сколько таких уникальных пользователей, если нет - введите в поле для ответа 0?\n",
    "\n",
    "**Подсказка:**\n",
    "\n",
    "*Создайте множество пользователей группы А и множество пользователей группы B. Пересеките два этих множества (операция intersection) и вычислите количество элементов в полученном множестве.*\n"
   ]
  },
  {
   "cell_type": "code",
   "execution_count": 6,
   "id": "57a2d711-057d-4f8b-9f56-df0f772d41c8",
   "metadata": {},
   "outputs": [
    {
     "name": "stdout",
     "output_type": "stream",
     "text": [
      "Задание 7.4: 1895\n"
     ]
    }
   ],
   "source": [
    "# ваш код здесь\n",
    "# множества клиентов по группам\n",
    "set_group_a = set(data[data['group'] == 'A']['user_id'])\n",
    "set_group_b = set(data[data['group'] == 'B']['user_id'])\n",
    "\n",
    "#пересечение и его размер\n",
    "user_intersection = set_group_a.intersection(set_group_b)\n",
    "intersect_count = len(user_intersection)\n",
    "print('Задание 7.4:', intersect_count)"
   ]
  },
  {
   "cell_type": "markdown",
   "id": "118b1904-7d7a-4935-825e-535da45c611b",
   "metadata": {
    "tags": []
   },
   "source": [
    "## **Исключите пользователей, оказавшихся в обеих группах**\n",
    "\n",
    "Так как мы не можем определить, какая из версий сайта повлияла на принятие решения, исключим этих пользователей. Далее мы будем работать только с очищенными от пересечений данными.\n",
    "\n",
    "Возможный вариант исключения пользователей:"
   ]
  },
  {
   "cell_type": "code",
   "execution_count": 7,
   "id": "f618b34b-35a3-4bf1-8d6d-38b3401930b7",
   "metadata": {},
   "outputs": [],
   "source": [
    "updated_data = data[data['user_id'].apply(lambda x: x not in user_intersection)]"
   ]
  },
  {
   "cell_type": "markdown",
   "id": "2bce6c9a-6580-4250-b280-204d40d20da2",
   "metadata": {},
   "source": [
    "Где user_intersection - множество пересечений пользователей групп А и B."
   ]
  },
  {
   "attachments": {
    "95f235d2-6323-4799-bf69-697fc57f727b.png": {
     "image/png": "[encoded data removed]"
    }
   },
   "cell_type": "markdown",
   "id": "2ddf6b2c-7987-41f3-82b1-8992630ae97b",
   "metadata": {
    "tags": []
   },
   "source": [
    "## **Задание 7.5.**\n",
    "\n",
    "Для первичного анализа результатов A/B-тестирования нам понадобится таблица следующего вида:\n",
    "\n",
    "![image.png](attachment:95f235d2-6323-4799-bf69-697fc57f727b.png)\n",
    " \n",
    " \n",
    "Для того, чтобы получить такую таблицу, сгруппируйте данные по признаку группы. В каждой группе рассчитайте следующие показатели:\n",
    "* количество посещений (количество пользователей)\n",
    "* количество совершенных покупок\n",
    "* сумма всех покупок в группе\n",
    "\n",
    "В полученной сгруппированной таблице переименуйте столбцы на **count_visits, count_purchases и sum_price**.\n",
    "\n",
    "**Подсказка:**\n",
    "\n",
    "*Для переименования столбцов можно использовать метод rename() с параметром columns, в который передается словарь. Ключи этого словаря - старые имена столбцов, а значения - новые.*\n",
    "\n",
    "Чему на этот раз равно количество посещений сайта в группах А и B?\n"
   ]
  },
  {
   "cell_type": "code",
   "execution_count": 8,
   "id": "5c0c018e-a250-48e9-b72a-e3c7be586ebd",
   "metadata": {},
   "outputs": [
    {
     "name": "stdout",
     "output_type": "stream",
     "text": [
      "  group  count_visits  count_purchases   sum_price\n",
      "0     A        145307            17487  1417780000\n",
      "1     B        145381            17290  1533010000\n",
      "Задание 7.5.\n",
      "в группе А: 145307 заходов\n",
      "в группе B: 145381 заходов\n"
     ]
    }
   ],
   "source": [
    "#ваш код здесь\n",
    "#группировка и расчет показателей по группам\n",
    "date_grouped = updated_data.groupby('group').agg({\n",
    "    'user_id':'count',\n",
    "    'purchase': 'sum',\n",
    "    'price': 'sum'\n",
    "}).reset_index().rename(columns={\n",
    "    'user_id': 'count_visits',\n",
    "    'purchase': 'count_purchases',\n",
    "    'price': 'sum_price'\n",
    "})\n",
    "\n",
    "print(date_grouped)\n",
    "print('Задание 7.5.')\n",
    "print(f\"в группе А: {date_grouped[date_grouped['group'] == 'A']['count_visits'].iloc[0]} заходов\")\n",
    "print(f\"в группе B: {date_grouped[date_grouped['group'] == 'B']['count_visits'].iloc[0]} заходов\")"
   ]
  },
  {
   "cell_type": "markdown",
   "id": "b71e1390-9846-4a8e-b357-f82b847d1952",
   "metadata": {},
   "source": [
    "Приведите промежуточные выводы по построенной таблице. Сопоставимо ли количество посещений обоих вариантов посадочной странице, можно ли говорить о сбалансированности выборок?"
   ]
  },
  {
   "cell_type": "markdown",
   "id": "4ea1b65b-475e-4bff-9460-fac0acdb9620",
   "metadata": {},
   "source": [
    "ваши выводы здесь\n",
    "\n",
    "количество наблюдений совоставимо, разница менее 100."
   ]
  },
  {
   "cell_type": "markdown",
   "id": "afb2ee0a-31d1-45a5-be42-a2bf168b9448",
   "metadata": {
    "tags": []
   },
   "source": [
    "## **Задание 7.6.**\n",
    "\n",
    "Добавьте в сгруппированную таблицу столбцы conversion - конверсия покупки (отношение количества покупок к количеству посещений сайта в каждой группе, выраженное в процентах) и mean_check - средний чек (отношение суммы покупок к количеству покупок в каждой группе).\n",
    "\n",
    "* Чему равна конверсия в группах? Ответ приведите в процентах и округлите до сотых. Например, 75.12 %\n",
    "* Чему равен средний чек в группах? Ответ приведите в рублях и округлите до целых. Например, 120519 рублей."
   ]
  },
  {
   "cell_type": "code",
   "execution_count": 9,
   "id": "bd9c3b3e-5956-41a8-bae0-43693f6de1f2",
   "metadata": {},
   "outputs": [
    {
     "name": "stdout",
     "output_type": "stream",
     "text": [
      "Задание 7.6\n",
      "конверсия в A: 12.03 %\n",
      "конверсия в B: 11.89 %\n",
      "средний чек в A: 81076 руб\n",
      "средний чек в B: 88665 руб\n"
     ]
    }
   ],
   "source": [
    "#ваш код здесь\n",
    "#расчет конверсии ис среднего чека\n",
    "date_grouped['conversion'] = date_grouped['count_purchases'] / date_grouped['count_visits']\n",
    "date_grouped['mean_check'] = date_grouped['sum_price'] / date_grouped['count_purchases']\n",
    "\n",
    "print('Задание 7.6')\n",
    "print(f\"конверсия в A: {round(100 * date_grouped[date_grouped['group'] == 'A']['conversion'].iloc[0], 2)} %\")\n",
    "print(f\"конверсия в B: {round(100 * date_grouped[date_grouped['group'] == 'B']['conversion'].iloc[0], 2)} %\")\n",
    "print(f\"средний чек в A: {int(round(date_grouped[date_grouped['group'] == 'A']['mean_check'].iloc[0], 0))} руб\")\n",
    "print(f\"средний чек в B: {int(round(date_grouped[date_grouped['group'] == 'B']['mean_check'].iloc[0], 0))} руб\")"
   ]
  },
  {
   "cell_type": "markdown",
   "id": "1eb6e140-c702-43e0-b301-9914a7f49448",
   "metadata": {},
   "source": [
    "Приведите промежуточные выводы по таблице. По какому(им) показателю(ям) вариант А эффективнее варианта B и наоборот?"
   ]
  },
  {
   "cell_type": "markdown",
   "id": "9e88c883-84f9-44ec-accd-04d5d459b261",
   "metadata": {},
   "source": [
    "ваши выводы здесь\n",
    "\n",
    "При простом взятии среднего A эффективнее B по конверсии, а B эффективнее A по среднему чеку."
   ]
  },
  {
   "cell_type": "markdown",
   "id": "7f9f1ae0-f12f-49b3-8b57-1c299c208c49",
   "metadata": {
    "tags": []
   },
   "source": [
    "## **Задание 7.7.**\n",
    "\n",
    "Теперь давайте сравним варианты по покупательской способности туров. Для этого постройте сводную таблицу, которая покажет зависимость количества продаж от группы и цены тура. "
   ]
  },
  {
   "cell_type": "code",
   "execution_count": 10,
   "id": "78d46a02-cc30-4783-9b18-9fc9c6a08012",
   "metadata": {},
   "outputs": [
    {
     "name": "stdout",
     "output_type": "stream",
     "text": [
      "group      A     B\n",
      "price             \n",
      "10000   5182  5201\n",
      "60000   5271  1730\n",
      "100000  1832  5227\n",
      "150000  3478  3438\n",
      "200000  1724  1694\n"
     ]
    }
   ],
   "source": [
    "#ваш код здесь\n",
    "#сводная таблицы\n",
    "pivot_data = updated_data[updated_data['purchase'] == 1].pivot_table(\n",
    "    values='purchase',\n",
    "    index='price',\n",
    "    columns='group',\n",
    "    aggfunc='sum',\n",
    ").round()\n",
    "\n",
    "print(pivot_data)"
   ]
  },
  {
   "cell_type": "markdown",
   "id": "977423ed-8f8d-475c-b773-621edd95338d",
   "metadata": {},
   "source": [
    "Визуализируйте полученную сводную таблицу с помощью тепловой карты с аннотацией. \n",
    "Чему равно количество проданных туров за 60000 рублей в группах?"
   ]
  },
  {
   "cell_type": "code",
   "execution_count": 11,
   "id": "f634fa8d-585c-42e3-b7d5-78e8d9eaa8c5",
   "metadata": {},
   "outputs": [
    {
     "name": "stdout",
     "output_type": "stream",
     "text": [
      "человек в группе A за 60 000 рублей: 5271\n",
      "человек в группе B за 60 000 рублей: 1730\n"
     ]
    },
    {
     "data": {
      "image/png": "[encoded data removed]",
      "text/plain": [
       "<Figure size 800x400 with 2 Axes>"
      ]
     },
     "metadata": {},
     "output_type": "display_data"
    }
   ],
   "source": [
    "#ваш код здесь\n",
    "#Задание 7.7 Теперь давайте сравним варианты по покупательской способности туров.\n",
    "#Для этого постройте сводную таблицу, которая покажет зависимость количества продаж от группы и цены тура.\n",
    "#Визуализируйте полученную сводную таблицу с помощью тепловой карты с аннотацией.\n",
    "#Чему равно количество проданных туров за 60 000 рублей в группах?\n",
    "\n",
    "print(f\"человек в группе A за 60 000 рублей: {pivot_data['A'].loc[60000]}\")\n",
    "print(f\"человек в группе B за 60 000 рублей: {pivot_data['B'].loc[60000]}\")\n",
    "\n",
    "#Построение тепловой карты по своднику\n",
    "fig = plt.figure(figsize=(8, 4))\n",
    "heatmap = sns.heatmap(data=pivot_data, cmap='YlGnBu')\n",
    "heatmap.set_title('Тепловая карта зависимости количества купленных туров от тестовой группы и цеты тура')\n",
    "heatmap.set_ylabel('цена тура')\n",
    "heatmap.set_xlabel('тестовая группа');"
   ]
  },
  {
   "cell_type": "markdown",
   "id": "9caa92ca-e261-4b8f-a16c-2abc322c9ffb",
   "metadata": {},
   "source": [
    "Сделайте выводы по построенной таблице. По каким турам покупательская способность участников группы А выше, чем участников группы B и наоборот?"
   ]
  },
  {
   "cell_type": "markdown",
   "id": "6d13fd45-e3df-468f-9d32-1fc45d38b10c",
   "metadata": {},
   "source": [
    "ваши выводы здесь\n",
    "\n",
    "В Группе A покупательская способность заметно выше в категории \"60 000 рублей\".\n",
    "\n",
    "В Группе B покупательская способность заметно выше в категории \"100 000 рублей\".\n",
    "\n",
    "В данных группах разница в купленных турах кратная (в 2,5-3 раза). В остальных группах разница - несколько десятков человек (доли процентов продаж)."
   ]
  },
  {
   "cell_type": "markdown",
   "id": "8f021fb4-d0f6-4e43-b518-1a96c07a4531",
   "metadata": {
    "tags": []
   },
   "source": [
    "## **Задание 7.8.**\n",
    "\n",
    "Настало время поговорить о стабилизации кумулятивных метрик во времени. Но прежде, чем перейти к кумулятивным метрикам, нам необходимо построить таблицу с ежедневными данными результатов проведения A/B-тестирования.\n",
    "\n",
    "Сгруппируйте данные по дате и группе тестирования. В каждой группе вычислите количество посещений страницы, количество покупок и сумму покупок. \n",
    "\n",
    "Добавьте в таблицу информацию о ежедневной конверсии (ежедневное количество покупок / ежедневное количество посещений) в группе и ежедневном среднем чеке (ежедневная сумма покупок / ежедневное количество покупок)\n",
    "* Чему равна конверсия 3 января 2021 года? Ответ приведите в процентах и округлите до сотых.\n",
    "\n",
    "* Чему равен средний чек 3 января 2021 года? Ответ приведите в рублях и округлите до целого."
   ]
  },
  {
   "cell_type": "code",
   "execution_count": 12,
   "id": "4503b528-412e-433a-bc03-da7da52fa1a3",
   "metadata": {},
   "outputs": [
    {
     "name": "stdout",
     "output_type": "stream",
     "text": [
      "        date group  count_visits  count_purchases  sum_revenue  conversion  \\\n",
      "0 2021-01-02     A          2854              359     29410000   12.578837   \n",
      "1 2021-01-02     B          2861              345     29660000   12.058721   \n",
      "2 2021-01-03     A          6596              748     62000000   11.340206   \n",
      "3 2021-01-03     B          6619              754     65960000   11.391449   \n",
      "4 2021-01-04     A          6566              799     64250000   12.168748   \n",
      "\n",
      "      avg_price  \n",
      "0  81922.005571  \n",
      "1  85971.014493  \n",
      "2  82887.700535  \n",
      "3  87480.106101  \n",
      "4  80413.016270  \n",
      "Задание 7.8:\n",
      "конверсия 03.01.2021 в группе A: 11.34 %\n",
      "конверсия 03.01.2021 в группе B: 11.39 %\n",
      "средний чек 03.01.2021 в группе A: 82888 руб\n",
      "средний чек 03.01.2021 в группе B: 87480 руб\n"
     ]
    }
   ],
   "source": [
    "#ваш код здесь\n",
    "#сводная таблица\n",
    "daily_data = updated_data.groupby(['date','group']).agg({\n",
    "    'user_id':'count',\n",
    "    'purchase': 'sum',\n",
    "    'price': 'sum'\n",
    "}).reset_index().rename(columns={\n",
    "    'user_id': 'count_visits',\n",
    "    'purchase': 'count_purchases',\n",
    "    'price': 'sum_revenue'\n",
    "})\n",
    "\n",
    "#вычисляем ежедневную конверсию и средний чек\n",
    "daily_data['conversion'] = 100 * daily_data['count_purchases'] / daily_data['count_visits']\n",
    "daily_data['avg_price'] = daily_data['sum_revenue'] / daily_data['count_purchases']\n",
    "\n",
    "print(daily_data.head())\n",
    "\n",
    "data_day = daily_data[daily_data['date'] == '2021-01-03']\n",
    "\n",
    "print(f\"Задание 7.8:\")\n",
    "print(f\"конверсия 03.01.2021 в группе A: {round(data_day[data_day['group'] == 'A']['conversion'].iloc[0], 2)} %\")\n",
    "print(f\"конверсия 03.01.2021 в группе B: {round(data_day[data_day['group'] == 'B']['conversion'].iloc[0], 2)} %\")\n",
    "\n",
    "print(f\"средний чек 03.01.2021 в группе A: {int(round(data_day[data_day['group'] == 'A']['avg_price'].iloc[0], 0))} руб\")\n",
    "print(f\"средний чек 03.01.2021 в группе B: {int(round(data_day[data_day['group'] == 'B']['avg_price'].iloc[0], 0))} руб\")"
   ]
  },
  {
   "cell_type": "markdown",
   "id": "bc8e241b-1ef1-4f67-ab90-77251889b7f2",
   "metadata": {},
   "source": [
    "## **Задание 7.9.** \n",
    "\n",
    "Добавьте в таблицу с ежедневными показателями кумулятивные признаки:\n",
    "* кумулятивное количество посещений страницы\n",
    "* кумулятивное количество покупок\n",
    "* кумулятивную сумму покупок\n",
    "\n",
    "Не забудьте при расчете кумулятивной суммы сгруппировать данные по группам. \n",
    "\n",
    "Вычислите кумулятивную конверсию и кумулятивный средний чек на основе полученных кумулятивных показателей. \n",
    "\n",
    "* Какая **кумулятивная** конверсия была в группе B на 20 января? Ответ приведите в процентах, округлив до сотых.\n",
    "* Какой **кумулятивный** средний чек был в группе А на 12 января 2021 года? Ответ приведите в рублях, округлив до целых."
   ]
  },
  {
   "cell_type": "code",
   "execution_count": 13,
   "id": "afe59f9a-8d39-45c1-a14f-9f62091d81a1",
   "metadata": {},
   "outputs": [
    {
     "name": "stdout",
     "output_type": "stream",
     "text": [
      "Задание 7.9\n",
      "кумулятивная конверсия в группе B на 20 января: 11.9%\n",
      "кумулятивный средний чек в группе А на 12 января 2021 года: 81492\n"
     ]
    }
   ],
   "source": [
    "#ваш код здесь\n",
    "\n",
    "#вычисляем кумулятивную сумму количества посетителей\n",
    "daily_data['cum_visits'] = daily_data.groupby(['group'])['count_visits'].cumsum()\n",
    "#вычисляем кумулятивную сумму числа транзакций\n",
    "daily_data['cum_purchases'] = daily_data.groupby(['group'])['count_purchases'].cumsum()\n",
    "#вычисляем кумулятивную выручку\n",
    "daily_data['cum_revenue'] = daily_data.groupby(['group'])['sum_revenue'].cumsum()\n",
    "\n",
    "daily_data['cum_conv_sale'] = 100 * daily_data['cum_purchases'] / daily_data['cum_visits']\n",
    "daily_data['cum_avg_revenue'] = daily_data['cum_revenue'] / daily_data['cum_purchases']\n",
    "\n",
    "print('Задание 7.9')\n",
    "print(f\"\"\"кумулятивная конверсия в группе B на 20 января: {\n",
    "    round(daily_data['cum_conv_sale'][(daily_data['group'] == 'B') & (daily_data['date'] == '2021-01-20')].iloc[0], 2)\n",
    "}%\"\"\")\n",
    "print(f\"\"\"кумулятивный средний чек в группе А на 12 января 2021 года: {\n",
    "    int(round(daily_data['cum_avg_revenue'][(daily_data['group'] == 'A') & (daily_data['date'] == '2021-01-12')].iloc[0], 0))\n",
    "}\"\"\")"
   ]
  },
  {
   "cell_type": "markdown",
   "id": "c252b8ba-371b-4795-8fc3-a62317e9ba39",
   "metadata": {},
   "source": [
    "Постройте кумулятивные графики конверсии и среднего чека в каждой группе по дням. Сделайте выводы. Можно ли назвать A/B-тест завершенным - стабилизировались ли значения метрик во времени? Как соотносятся кумулятивные показатели в каждой группе?"
   ]
  },
  {
   "cell_type": "code",
   "execution_count": 14,
   "id": "27e23d20-7ed6-4a26-973d-6d0320b81adb",
   "metadata": {},
   "outputs": [
    {
     "data": {
      "image/png": "[encoded data removed]",
      "text/plain": [
       "<Figure size 800x400 with 1 Axes>"
      ]
     },
     "metadata": {},
     "output_type": "display_data"
    }
   ],
   "source": [
    "#ваш код здесь\n",
    "#создаём фигуру размером 8x4\n",
    "fig = plt.figure(figsize=(8, 4))\n",
    "#добавляем систему координат\n",
    "ax = fig.add_axes([1, 1, 1, 1])\n",
    "#строим lineplot для кумулятивной конверсии во времени в каждой группе\n",
    "sns.lineplot(x='date', y='cum_conv_sale', data=daily_data, hue='group', ax=ax)\n",
    "#задаём подпись к графику\n",
    "ax.set_title('График кумулятивной конверсии по дням')\n",
    "#задаём поворот меток на оси абсцисс\n",
    "ax.xaxis.set_tick_params(rotation = 45)\n",
    "#задаем подписи осей\n",
    "ax.set_xlabel('дата')\n",
    "ax.set_ylabel('кумулятивная конверсия')\n",
    "#задаём отображение сетки\n",
    "ax.grid(True);"
   ]
  },
  {
   "cell_type": "markdown",
   "id": "f645f8e5-ad16-4b3b-8228-fbdeeb286833",
   "metadata": {},
   "source": [
    "ваши выводы здесь\n",
    "\n",
    "Конверсия группы B стабильно хуже конверсии группы А практически на всём промежутке времени, за исключением одного дня 10.01.2021 - можно сказать, что метрики стабилизаровлись после этой даты, вертикальное расстояние между кривыми по группам стабилизировалось. Однако разница составляет десятые доли процентного пункта. При дальнейшей проверке мы можем получить незначимость такой разницы конверсий."
   ]
  },
  {
   "cell_type": "markdown",
   "id": "2ecaa382-56e2-47f4-b086-24b4742570a3",
   "metadata": {
    "tags": []
   },
   "source": [
    "## **Задание 7.10.**\n",
    "\n",
    "Настало время переходить к проверке статистической значимости разницы между метриками в группах. Начнем с конверсии.\n",
    "\n",
    "Какой тест вы примените для проверки гипотезы о равенстве конверсий в группах?\n",
    "\n",
    "Проведите тестирование при следующих нулевой и альтернативной гипотезе:\n",
    "* $H_0$: Конверсии в группах А и B равны; \n",
    "* $H_1$: Конверсия в группе А больше чем конверсия в группе B;\n",
    "\n",
    "Вычислите p-value вашего теста для конверсий в группах А и B. Сравните полученное значение p-value с уровнем значимости $\\alpha$=0.05. "
   ]
  },
  {
   "cell_type": "code",
   "execution_count": 15,
   "id": "9dd1f6fd-2fa0-4a2f-8181-dbed4c302bce",
   "metadata": {},
   "outputs": [
    {
     "name": "stdout",
     "output_type": "stream",
     "text": [
      "         sum   count\n",
      "group               \n",
      "A      17487  145307\n",
      "B      17290  145381\n",
      "p-value:  0.12\n",
      "Принимаем нулевую гипотезу. Конверсии в группах А и B равны\n",
      "полученное p_value > alpha\n"
     ]
    }
   ],
   "source": [
    "#ваш код здесь\n",
    "conversion_piv= updated_data.groupby('group')['purchase'].agg(\n",
    "    ['sum', 'count']\n",
    ")\n",
    "print(conversion_piv)\n",
    "\n",
    "# нулевая и альтернативная гипотезы\n",
    "H0 = 'Конверсии в группах А и B равны'\n",
    "H1 = 'Конверсия в группе А выше, чем конверсия в группе B'\n",
    "alpha = 0.05 # уровень значимости\n",
    "# вычисляем значение p-value для z-теста для пропорций\n",
    "_, p_value = proportions_ztest(\n",
    "    count=conversion_piv['sum'], #число \"успехов\"\n",
    "    nobs=conversion_piv['count'], #общее число наблюдений\n",
    "    alternative='larger',\n",
    ")\n",
    "# выводим результат на экран\n",
    "print('p-value: ', round(p_value, 2))\n",
    "# сравниваем полученное p-value с уровнем значимости\n",
    "if (p_value < alpha): \n",
    "    print(\"Отвергаем нулевую гипотезу. {}\".format(H0))\n",
    "    print(\"Альтернативная гипотеза. H1: {}\".format(H1))\n",
    "    print(\"полученное p_value < alpha\")\n",
    "else:\n",
    "    print(\"Принимаем нулевую гипотезу. {}\".format(H0))\n",
    "    print(\"полученное p_value > alpha\")"
   ]
  },
  {
   "cell_type": "markdown",
   "id": "da794b48-80e3-47af-aceb-084a1862c86b",
   "metadata": {},
   "source": [
    "Приведите свои выводы по результатам проведенного статистического теста. Есть ли статистическая разница между конверсиями в группах А и B?"
   ]
  },
  {
   "cell_type": "markdown",
   "id": "75dddb06-389d-4d65-92c7-425efa28e51a",
   "metadata": {},
   "source": [
    "ваши выводы здесь\n",
    "\n",
    "При уровне значимости 5% истинные значения конверсий в группах равны, разница в метрике в группах статистически не значима."
   ]
  },
  {
   "cell_type": "markdown",
   "id": "32c5a1af-8cb2-4f3c-a126-410b70fb3ff3",
   "metadata": {
    "tags": []
   },
   "source": [
    "## **Задание 7.11.**\n",
    "Убедитесь в своих рассуждениях, построив 95%-ый доверительный интервал для конверсий и разницы между ними. Используйте $z_{крит}$ в своих расчетах\n",
    "\n",
    "Укажите нижнюю и верхнюю границы доверительных интервалов. Границы приведите в процентах и округлите до 2 знака после запятой. Например: нижняя граница 89.24%, верхняя граница 91.25%."
   ]
  },
  {
   "cell_type": "code",
   "execution_count": 16,
   "id": "e9decb7d-ff5e-40a6-8b71-63627c4ef64a",
   "metadata": {},
   "outputs": [
    {
     "name": "stdout",
     "output_type": "stream",
     "text": [
      "Доверительный интервал для конверсии группы А: (11.87, 12.2)\n",
      "Доверительный интервал для конверсии группы B: (11.73, 12.06)\n",
      "Доверительный интервал для разности конверсий: (-0.38, 0.09)\n"
     ]
    }
   ],
   "source": [
    "# ваш код здесь\n",
    "#фильтруем данные группы А\n",
    "a_data = updated_data[updated_data['group'] == 'A']\n",
    "#фильтруем данные группы B\n",
    "b_data = updated_data[updated_data['group'] == 'B']\n",
    "\n",
    "def proportions_conf_interval(n, x_p, gamma=0.95):\n",
    "    alpha = 1 - gamma # уровень значимости\n",
    "    z_crit = -norm.ppf(alpha/2) # z критическое\n",
    "    eps = z_crit * (x_p * (1 - x_p) / n) ** 0.5 #погрешность\n",
    "    lower_bound = x_p - eps # левая (нижняя) граница\n",
    "    upper_bound = x_p + eps # правая (верхняя) граница\n",
    "    # возвращаем кортеж из округлённых границ интервала\n",
    "    return round(lower_bound * 100, 2), round(upper_bound * 100, 2)\n",
    "\n",
    "conf_interval_a = proportions_conf_interval(\n",
    "n=a_data['user_id'].count(), # размер выборки\n",
    "x_p=a_data['purchase'].mean() # выборочная пропорция\n",
    ")\n",
    "conf_interval_b = proportions_conf_interval(\n",
    "n=b_data['user_id'].count(), # размер выборки\n",
    "x_p=b_data['purchase'].mean() # выборочная пропорция\n",
    ")\n",
    "print('Доверительный интервал для конверсии группы А: {}'.format(conf_interval_a))\n",
    "print('Доверительный интервал для конверсии группы B: {}'.format(conf_interval_b))\n",
    "\n",
    "def diff_proportions_conf_interval(n, xp, gamma=0.95):\n",
    "    alpha = 1 - gamma # уровень значимости\n",
    "    diff = xp[1] - xp[0] # выборочная разница конверсий групп B и A\n",
    "    z_crit = -norm.ppf(alpha/2) # z критическое\n",
    "    eps = z_crit * (xp[0] * (1 - xp[0])/n[0] + xp[1] * (1 - xp[1])/n[1]) ** 0.5 # погрешность\n",
    "    lower_bound = diff - eps # левая (нижняя) граница\n",
    "    upper_bound = diff + eps # правая (верхняя) граница\n",
    "    # возвращаем кортеж из округлённых границ интервала\n",
    "    return round(lower_bound *100, 2), round(upper_bound * 100, 2)\n",
    "\n",
    "n = [a_data['user_id'].count(), b_data['user_id'].count()]\n",
    "# выборочная пропорция групп A и B\n",
    "xp = [a_data['purchase'].mean(), b_data['purchase'].mean()]\n",
    "# строим доверительный интервал для разности конверсий\n",
    "diff_inverval = diff_proportions_conf_interval(n, xp)\n",
    "print('Доверительный интервал для разности конверсий: {}'.format(diff_inverval))"
   ]
  },
  {
   "cell_type": "markdown",
   "id": "9332372d-66b2-45e9-a74c-f5d8b1d44afb",
   "metadata": {},
   "source": [
    "Проинтерпретируйте построенные доверительные интервалы для конверсий в группах. Есть ли перекрытие между доверительными интервалами для групп? Есть ли статистическая разница между конверсиями в группах А и B?"
   ]
  },
  {
   "cell_type": "markdown",
   "id": "fdc88f46",
   "metadata": {},
   "source": [
    "ваши выводы здесь\n",
    "\n",
    "Доверительные интервалы для конверсий по группам перекрываются, доверительный интервал для разности конверсий включает в себя 0 - отсутствие разницы между конверсиями в группах А и B подтверждается. "
   ]
  },
  {
   "cell_type": "markdown",
   "id": "73c54883-b919-4889-bbf2-e1bdeb0b7055",
   "metadata": {},
   "source": [
    "## **Задание 7.12.**\n",
    "\n",
    "Ранее мы построили таблицу с ежедневными показателями. Теперь она нам снова понадобится, так как нас интересует ежедневный средний чек.\n",
    "\n",
    "Проверьте гипотезу о нормальности распределения ежедневного среднего чека в каждой из групп тестирования. \n",
    "\n",
    "* Какой тест вы примените  для проверки гипотезы о нормальности распределения ежедневного среднего чека?\n",
    "* Как будут звучать нулевая и альтернативная гипотезы?\n",
    "* Каковы результаты статистического теста с уровнем значимости $\\alpha$ =0.05?"
   ]
  },
  {
   "cell_type": "code",
   "execution_count": 17,
   "id": "898041ae-de7e-4b74-975e-111d494fbb82",
   "metadata": {},
   "outputs": [
    {
     "data": {
      "image/png": "[encoded data removed]",
      "text/plain": [
       "<Figure size 1200x400 with 2 Axes>"
      ]
     },
     "metadata": {},
     "output_type": "display_data"
    },
    {
     "name": "stdout",
     "output_type": "stream",
     "text": [
      "p-value группы А 0.25\n",
      "p-value группы B 0.09\n",
      "По группе А принимаем нулевую гипотезу. Распределение нормальное\n",
      "По группе B принимаем нулевую гипотезу. Распределение нормальное\n"
     ]
    }
   ],
   "source": [
    "# ваш код здесь\n",
    "\n",
    "daily_data.head()\n",
    "\n",
    "#создаём 2 графика размером 12x4\n",
    "fig, axes = plt.subplots(1, 2, figsize=(12, 4))\n",
    "#строим гистограмму для времени на сайте в каждой группе\n",
    "sns.histplot(x='avg_price', data=daily_data[daily_data['group'] == 'A'], ax=axes[0])\n",
    "sns.histplot(x='avg_price', data=daily_data[daily_data['group'] == 'B'], ax=axes[1])\n",
    "#задаём названия графикам\n",
    "axes[0].set_title('Распределение среднего чека в группе А')\n",
    "axes[1].set_title('Распределение среднего чека в  группе B')\n",
    "plt.show()\n",
    "\n",
    "H0 = 'Распределение нормальное'\n",
    "H1 = 'Распределениеотлично от нормального'\n",
    "alpha = 0.05 # уровень значимости\n",
    "# вычисляем результат теста Шапиро-Уилка для выборок\n",
    "shapiro_result_a = shapiro(daily_data['avg_price'][daily_data['group'] == 'A'])\n",
    "shapiro_result_b = shapiro(daily_data['avg_price'][daily_data['group'] == 'B'])\n",
    "print('p-value группы А', round(shapiro_result_a.pvalue, 2))\n",
    "print('p-value группы B', round(shapiro_result_b.pvalue, 2))\n",
    "# сравниваем полученное p-value с уровнем значимости\n",
    "if shapiro_result_a.pvalue < alpha:\n",
    "    print(\"По группе А отвергаем нулевую гипотезу. {}\".format(H0))\n",
    "    print(\"Альтернативная гипотеза. H1: {}\".format(H1))\n",
    "else:\n",
    "    print(\"По группе А принимаем нулевую гипотезу. {}\".format(H0))\n",
    "    \n",
    "if shapiro_result_b.pvalue < alpha:\n",
    "    print(\"По группе B отвергаем нулевую гипотезу. {}\".format(H0))\n",
    "    print(\"Альтернативная гипотеза. H1: {}\".format(H1))\n",
    "else:\n",
    "    print(\"По группе B принимаем нулевую гипотезу. {}\".format(H0))"
   ]
  },
  {
   "cell_type": "markdown",
   "id": "cbddecf9-4d15-4ff1-84e9-46c4d98fc1e0",
   "metadata": {
    "tags": []
   },
   "source": [
    "## **Задание 7.13.**\n",
    "Настало время сравнить варианты дизайна страницы по метрике среднего чека. \n",
    "\n",
    "Какой тест вы примените для проверки гипотезы о равенстве средних чеков по дням в группах?\n",
    "\n",
    "Проведите тестирование при следующих нулевой и альтернативной гипотезе:\n",
    "* $H_0$: Ежедневные средние чеки в группах А и B равны; \n",
    "* $H_1$: Ежедневный средний чек в группе А меньше чем в группе B;\n",
    "\n",
    "Вычислите p-value вашего теста для ежедневного среднего чека в группах А и B. Сравните полученное значение p-value с уровнем значимости $\\alpha$ =0.05. "
   ]
  },
  {
   "cell_type": "code",
   "execution_count": 18,
   "id": "05d43f23-2c2d-4795-bb96-1ffbfe81c391",
   "metadata": {},
   "outputs": [
    {
     "name": "stdout",
     "output_type": "stream",
     "text": [
      "p-value: 0.0\n",
      "Отвергаем нулевую гипотезу. Ежедневные средние чеки в группах А и B равны\n",
      "Альтернативная гипотеза. H1: Ежедневный средний чек в группе А меньше, чем в группе B\n",
      "pvalue < alpha\n"
     ]
    }
   ],
   "source": [
    "# ваш код здесь\n",
    "# нулевая и альтернативная гипотезы\n",
    "H0 = 'Ежедневные средние чеки в группах А и B равны'\n",
    "H1 = 'Ежедневный средний чек в группе А меньше, чем в группе B'\n",
    "alpha = 0.05 #уровень значимости\n",
    "#вычисляем результат T-теста для выборок\n",
    "results = ttest_ind(\n",
    "    a=daily_data['avg_price'][daily_data['group'] == 'A'],\n",
    "    b=daily_data['avg_price'][daily_data['group'] == 'B'], \n",
    "    alternative='less'\n",
    ")\n",
    "print('p-value:', round(results.pvalue, 2))\n",
    " \n",
    "if results.pvalue < alpha:\n",
    "    print(\"Отвергаем нулевую гипотезу. {}\".format(H0))\n",
    "    print(\"Альтернативная гипотеза. H1: {}\".format(H1))\n",
    "    print('pvalue < alpha')\n",
    "else:\n",
    "    print(\"Принимаем нулевую гипотезу. {}\".format(H0))\n",
    "    print('pvalue > alpha')"
   ]
  },
  {
   "cell_type": "markdown",
   "id": "8534ab25-68b8-48f7-b2c1-ef1b72d8a767",
   "metadata": {},
   "source": [
    " Приведите свои выводы по проведенному статистическому тесту. Есть ли статистическая разница между ежедневными средними чеками в группах А и B?"
   ]
  },
  {
   "cell_type": "markdown",
   "id": "c4f05faa",
   "metadata": {},
   "source": [
    "ваши выводы здесь\n",
    "\n",
    "Статистическая разница в чеках есть: ежедневный средний чек в группе А меньше, чем в группе B.\n",
    "\n",
    "Такой результат хотелось видеть, т.к. к группе B все же покупали более дорогие путевки (согласно п.7.7)."
   ]
  },
  {
   "cell_type": "markdown",
   "id": "5e46c9a6-a943-48b4-ad72-935337469613",
   "metadata": {
    "tags": []
   },
   "source": [
    "## **Задание 7.14.**\n",
    "\n",
    "Постройте 95%-ый доверительный интервал для среднего чека в каждой группе. Так как выборка средних чеков небольшая, используйте  $t_{крит}$ в своих расчетах.\n",
    "\n",
    "Укажите нижнюю границу доверительного интервала для истинного среднего чека каждой из групп. Ответ приведите в процентах и округлите до целого."
   ]
  },
  {
   "cell_type": "code",
   "execution_count": 19,
   "id": "480430db-ffae-4aad-8e22-f5c70d4800b8",
   "metadata": {},
   "outputs": [
    {
     "name": "stdout",
     "output_type": "stream",
     "text": [
      "группа A: (79630 - 82308)\n",
      "группа B: (87626 - 89526)\n"
     ]
    }
   ],
   "source": [
    "# ваш код здесь\n",
    "alpha = 0.05 #100%-95%\n",
    "def interval_calc(group):\n",
    "    #отбор базы\n",
    "    data_for_interval = daily_data['avg_price'][daily_data['group'] == group]\n",
    "    \n",
    "    #t критическое\n",
    "    t_crit = -t.ppf(alpha/2, data_for_interval.shape[0] - 1)\n",
    "    #выборочное стандартное отклонение\n",
    "    std_calc = data_for_interval.std()\n",
    "    # погрешность\n",
    "    err = t_crit * std_calc/(data_for_interval.shape[0] ** 0.5)\n",
    "    lower_bound = round(data_for_interval.mean() - err) # левая (нижняя) граница\n",
    "    upper_bound = round(data_for_interval.mean() + err) # правая (верхняя) граница\n",
    "    print(f\"группа {group}: ({lower_bound} - {upper_bound})\")\n",
    "\n",
    "interval_calc(group = 'A')\n",
    "interval_calc(group = 'B')"
   ]
  },
  {
   "cell_type": "markdown",
   "id": "74a78db8-48f7-41d2-94cb-faefb30b8f76",
   "metadata": {},
   "source": [
    "Проинтерпретируйте построенные доверительные интервалы для ежедневных средних чеков в группах. Есть ли между ними пересечения?"
   ]
  },
  {
   "cell_type": "markdown",
   "id": "91cd0213",
   "metadata": {},
   "source": [
    "ваши выводы здесь\n",
    "\n",
    "Не только средний чек в группах разный. Доверительные интервалы для среднего чека тоже не пересекаются. Так и ожидалось, так как разница в среднем чеке из предыдущего упражнения тоже была значима."
   ]
  },
  {
   "cell_type": "markdown",
   "id": "c078852f-892f-42ed-8d78-73edf8eb1f5e",
   "metadata": {
    "tags": []
   },
   "source": [
    "## **Сделайте общий вывод по результатам A/B-теста**\n",
    "\n",
    "Какой варианта дизайна посадочной страницы является более эффективным в комплексе по метрикам конверсии и среднего чека и почему?\n",
    "\n",
    "Так как уровни конверсии по группам статистически незначимы, а средний чек в группе B значимо выше, то посадочная страница для группы B более эффективна.\n",
    "\n",
    "Так как разница в среднем чеке достигается за счет перевеса туров за 100000 в Тайланд в группе B над турами за 60000 в Турцию в группе A, а Тайланд идет выше Турции по алфавиту, то неужели просто рассортировали страны на странице по алфавиту так, чтобы, скажем, Турция оказывалась ниже Тайланда или вообще была видна толкьо после перемотки вниз?.."
   ]
  }
 ],
 "metadata": {
  "kernelspec": {
   "display_name": "Python 3 (ipykernel)",
   "language": "python",
   "name": "python3"
  },
  "language_info": {
   "codemirror_mode": {
    "name": "ipython",
    "version": 3
   },
   "file_extension": ".py",
   "mimetype": "text/x-python",
   "name": "python",
   "nbconvert_exporter": "python",
   "pygments_lexer": "ipython3",
   "version": "3.9.13"
  }
 },
 "nbformat": 4,
 "nbformat_minor": 5
}
