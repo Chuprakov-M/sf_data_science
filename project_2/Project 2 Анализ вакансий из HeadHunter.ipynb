{
 "cells": [
  {
   "cell_type": "markdown",
   "id": "42289889-bd57-434e-9637-d3e354756316",
   "metadata": {
    "id": "42289889-bd57-434e-9637-d3e354756316"
   },
   "source": [
    "<center> <img src = './img/hh label.jpg' alt=\"drawing\" style=\"width:400px;\" title='картинка перенесена в локальную папку'>"
   ]
  },
  {
   "cell_type": "markdown",
   "id": "829cb75b-f14e-4ba8-9195-7ba929a7d656",
   "metadata": {
    "id": "829cb75b-f14e-4ba8-9195-7ba929a7d656",
    "tags": []
   },
   "source": [
    "# <center> Проект: Анализ вакансий из HeadHunter"
   ]
  },
  {
   "cell_type": "code",
   "execution_count": 1,
   "id": "dccfde33-2452-43fb-a8a5-5c6ebc02a71d",
   "metadata": {
    "id": "dccfde33-2452-43fb-a8a5-5c6ebc02a71d"
   },
   "outputs": [],
   "source": [
    "import pandas as pd\n",
    "import psycopg2\n",
    "\n",
    "#удаление предупреждений по вопросам библиотек подключения к Ораклу\n",
    "import warnings\n",
    "warnings.filterwarnings(\"ignore\")"
   ]
  },
  {
   "cell_type": "code",
   "execution_count": 2,
   "id": "oVKH4ehvf8Ay",
   "metadata": {
    "id": "oVKH4ehvf8Ay"
   },
   "outputs": [],
   "source": [
    "# вставьте сюда параметры подключения из юнита 1. Работа с базой данных из Python\n",
    "# поместил параметры во внешнюю по отношению к папке проекта папку\n",
    "conn_data = pd.read_csv('../../secret_file.txt', sep=':', names=['parameter', 'value'], index_col=[0])\n",
    "\n",
    "# функция извлечения параметра подключения\n",
    "def parameter_extract(par):\n",
    "    par_value = conn_data.loc[par]['value'].strip()\n",
    "    return par_value\n",
    "\n",
    "# формирование параметров\n",
    "DBNAME = parameter_extract(par='DBNAME')\n",
    "USER = parameter_extract(par='USER')\n",
    "HOST = parameter_extract(par='HOST')\n",
    "PASSWORD = parameter_extract(par='PASSWORD')\n",
    "PORT = parameter_extract(par='PORT')\n",
    "\n",
    "del conn_data"
   ]
  },
  {
   "cell_type": "code",
   "execution_count": 3,
   "id": "G4X_q8KBf7SF",
   "metadata": {
    "id": "G4X_q8KBf7SF"
   },
   "outputs": [],
   "source": [
    "connection = psycopg2.connect(\n",
    "    dbname=DBNAME,\n",
    "    user=USER,\n",
    "    host=HOST,\n",
    "    password=PASSWORD,\n",
    "    port=PORT\n",
    "    )"
   ]
  },
  {
   "cell_type": "markdown",
   "id": "0dc6476b-7a00-44f1-ac93-6e3baed33a29",
   "metadata": {
    "id": "0dc6476b-7a00-44f1-ac93-6e3baed33a29"
   },
   "source": [
    "# Юнит 3. Предварительный анализ данных"
   ]
  },
  {
   "cell_type": "markdown",
   "id": "889782b6-8d1c-410e-8920-e57f27917c64",
   "metadata": {
    "id": "889782b6-8d1c-410e-8920-e57f27917c64"
   },
   "source": [
    "1. Напишите запрос, который посчитает количество вакансий в нашей базе (вакансии находятся в таблице vacancies). "
   ]
  },
  {
   "cell_type": "code",
   "execution_count": 4,
   "id": "bc39e68e-ed02-4ee2-9235-7258a2f867a8",
   "metadata": {
    "id": "bc39e68e-ed02-4ee2-9235-7258a2f867a8"
   },
   "outputs": [],
   "source": [
    "# текст запроса\n",
    "query_3_1 = f'''\n",
    "    select count(*) as n_valcancies\n",
    "    from public.vacancies\n",
    "'''"
   ]
  },
  {
   "cell_type": "code",
   "execution_count": 5,
   "id": "7mAwtsk4hEHY",
   "metadata": {
    "id": "7mAwtsk4hEHY"
   },
   "outputs": [
    {
     "name": "stdout",
     "output_type": "stream",
     "text": [
      "   n_valcancies\n",
      "0         49197\n",
      "Задание 3.1: 49197\n"
     ]
    }
   ],
   "source": [
    "# результат запроса\n",
    "df = pd.read_sql_query(query_3_1, connection)\n",
    "print(df.head())\n",
    "\n",
    "# Задание 3.1. Сколько вакансий есть в базе?\n",
    "print(f\"Задание 3.1: {df.loc[0]['n_valcancies']}\")"
   ]
  },
  {
   "cell_type": "markdown",
   "id": "b583485d-1f9e-494e-ada4-80ffff7c53d6",
   "metadata": {
    "id": "b583485d-1f9e-494e-ada4-80ffff7c53d6"
   },
   "source": [
    "2. Напишите запрос, который посчитает количество работодателей (таблица employers). "
   ]
  },
  {
   "cell_type": "code",
   "execution_count": 6,
   "id": "5408c52c-3407-4a63-b25b-1aafa2322d28",
   "metadata": {
    "id": "5408c52c-3407-4a63-b25b-1aafa2322d28"
   },
   "outputs": [],
   "source": [
    "# текст запроса\n",
    "query_3_2 = f'''\n",
    "    select count(*) as n_employers\n",
    "    from public.employers\n",
    "'''"
   ]
  },
  {
   "cell_type": "code",
   "execution_count": 7,
   "id": "jVL4eshKhdqc",
   "metadata": {
    "id": "jVL4eshKhdqc"
   },
   "outputs": [
    {
     "name": "stdout",
     "output_type": "stream",
     "text": [
      "   n_employers\n",
      "0        23501\n",
      "Задание 3.2: 23501\n"
     ]
    }
   ],
   "source": [
    "# результат запроса\n",
    "df = pd.read_sql_query(query_3_2, connection)\n",
    "print(df.head())\n",
    "\n",
    "# Задание 3.2. Сколько работодателей?\n",
    "print(f\"Задание 3.2: {df.loc[0]['n_employers']}\")"
   ]
  },
  {
   "cell_type": "markdown",
   "id": "a2bfff1f-c975-4bf6-84be-2185d79dcb76",
   "metadata": {
    "id": "a2bfff1f-c975-4bf6-84be-2185d79dcb76"
   },
   "source": [
    "3. Посчитате с помощью запроса количество регионов (таблица areas)."
   ]
  },
  {
   "cell_type": "code",
   "execution_count": 8,
   "id": "1m8QJwBYhey6",
   "metadata": {
    "id": "1m8QJwBYhey6"
   },
   "outputs": [],
   "source": [
    "# текст запроса\n",
    "query_3_3 = f'''\n",
    "    select count(distinct name) as n_areas\n",
    "    from public.areas\n",
    "'''"
   ]
  },
  {
   "cell_type": "code",
   "execution_count": 9,
   "id": "EZsn9tlfhe7f",
   "metadata": {
    "id": "EZsn9tlfhe7f"
   },
   "outputs": [
    {
     "name": "stdout",
     "output_type": "stream",
     "text": [
      "   n_areas\n",
      "0     1362\n",
      "Задание 3.3: 1362, но это же не регионы а города...\n"
     ]
    }
   ],
   "source": [
    "# результат запроса\n",
    "df = pd.read_sql_query(query_3_3, connection)\n",
    "print(df.head())\n",
    "\n",
    "# Задание 3.3. Сколько регионов?\n",
    "print(f\"Задание 3.3: {df.loc[0]['n_areas']}, но это же не регионы а города...\")"
   ]
  },
  {
   "cell_type": "markdown",
   "id": "41bb59f3-53cc-4a67-a5bc-bedf573955e4",
   "metadata": {
    "id": "41bb59f3-53cc-4a67-a5bc-bedf573955e4"
   },
   "source": [
    "4. Посчитате с помощью запроса количество сфер деятельности в базе (таблица industries)."
   ]
  },
  {
   "cell_type": "code",
   "execution_count": 10,
   "id": "d286cf4c-707b-4cd2-9190-7ab3587d04a1",
   "metadata": {
    "id": "d286cf4c-707b-4cd2-9190-7ab3587d04a1"
   },
   "outputs": [],
   "source": [
    "# текст запроса\n",
    "query_3_4 = f'''\n",
    "    select count(distinct id) as n_industries\n",
    "    from public.industries\n",
    "'''"
   ]
  },
  {
   "cell_type": "code",
   "execution_count": 11,
   "id": "JYAaoZ4qhfzW",
   "metadata": {
    "id": "JYAaoZ4qhfzW"
   },
   "outputs": [
    {
     "name": "stdout",
     "output_type": "stream",
     "text": [
      "   n_industries\n",
      "0           294\n",
      "Задание 3.4: 294\n"
     ]
    }
   ],
   "source": [
    "# результат запроса\n",
    "df = pd.read_sql_query(query_3_4, connection)\n",
    "print(df.head())\n",
    "\n",
    "# Задание 3.4. Сколько сфер деятельности?\n",
    "print(f\"Задание 3.4: {df.loc[0]['n_industries']}\")"
   ]
  },
  {
   "cell_type": "markdown",
   "id": "9a8a2181-6914-448b-85f1-38f5f18b8a93",
   "metadata": {
    "id": "9a8a2181-6914-448b-85f1-38f5f18b8a93"
   },
   "source": [
    "***"
   ]
  },
  {
   "cell_type": "markdown",
   "id": "8bd76366",
   "metadata": {
    "id": "be4e9bd3-a4db-4a20-82fb-6b02fc2957e0"
   },
   "source": [
    "# выводы по предварительному анализу данных\n",
    "Согласно базе, в среднем на 1 компанию приходится чуть более 2 (49197 / 23501) вакансий. Не очень много, хотя тут надо бы посмотреть на срерднесписочную численносить персонала  и оценить общий дефицит кадров по выборке."
   ]
  },
  {
   "cell_type": "markdown",
   "id": "8d62a9f3-f64e-4fe7-bdac-c4dffa16155e",
   "metadata": {
    "id": "8d62a9f3-f64e-4fe7-bdac-c4dffa16155e"
   },
   "source": [
    "# Юнит 4. Детальный анализ вакансий"
   ]
  },
  {
   "cell_type": "markdown",
   "id": "93053d3d-b284-481a-9cf7-012d7014c0e0",
   "metadata": {
    "id": "93053d3d-b284-481a-9cf7-012d7014c0e0"
   },
   "source": [
    "1. Напишите запрос, который позволит узнать, сколько (cnt) вакансий в каждом регионе (area).\n",
    "Отсортируйте по количеству вакансий в порядке убывания."
   ]
  },
  {
   "cell_type": "code",
   "execution_count": 12,
   "id": "3f069da6-fdc9-4ae7-b514-fafe2675efd3",
   "metadata": {
    "id": "3f069da6-fdc9-4ae7-b514-fafe2675efd3"
   },
   "outputs": [],
   "source": [
    "# текст запроса\n",
    "query_4_1 = f'''\n",
    "    select \n",
    "        t1.name,\n",
    "        count(*) as cnt\n",
    "\n",
    "    from public.areas as t1\n",
    "    left join public.vacancies as t2\n",
    "    on t1.id = t2.area_id\n",
    "    \n",
    "    group by t1.name\n",
    "    order by cnt desc\n",
    "'''"
   ]
  },
  {
   "cell_type": "code",
   "execution_count": 13,
   "id": "P7QL86hrjhRJ",
   "metadata": {
    "id": "P7QL86hrjhRJ"
   },
   "outputs": [
    {
     "name": "stdout",
     "output_type": "stream",
     "text": [
      "              name   cnt\n",
      "0           Москва  5333\n",
      "1  Санкт-Петербург  2851\n",
      "2            Минск  2112\n",
      "3      Новосибирск  2006\n",
      "4           Алматы  1892\n",
      "Задание 4.1: Москва, Санкт-Петербург, Минск, Новосибирск, Алматы\n"
     ]
    }
   ],
   "source": [
    "# результат запроса\n",
    "# Заданиие 4.1. Напишите запрос, который позволит узнать, сколько (cnt) вакансий в каждом регионе (area).\n",
    "# Выберите пятёрку лидеров по количеству вакансий:\n",
    "\n",
    "# выбор ответа в Задании 4.1 через фильтрацию dataframe:\n",
    "df = pd.read_sql_query(query_4_1, connection)\n",
    "print(df.head())\n",
    "\n",
    "# фильтрация по dataframe - отбор городов с количеством вакансий не меньше, чем в 5 строке, и занесение их в список\n",
    "city_list = list()\n",
    "\n",
    "for i in range(df[df['cnt'] >= df['cnt'].iloc[4]].shape[0]): #отбор значений не меньше, чем в пятой строке\n",
    "    city_list.append(df['name'].iloc[i])\n",
    "\n",
    "print(f\"Задание 4.1: {', '.join(city_list)}\")"
   ]
  },
  {
   "cell_type": "markdown",
   "id": "4266f0b6-1646-492a-88b4-2f6a46502135",
   "metadata": {
    "id": "4266f0b6-1646-492a-88b4-2f6a46502135"
   },
   "source": [
    "2. Напишите запрос, чтобы определить у какого количества вакансий заполнено хотя бы одно из двух полей с зарплатой."
   ]
  },
  {
   "cell_type": "code",
   "execution_count": 14,
   "id": "0c44b350-72eb-4d65-8b54-a1fc449ba9fd",
   "metadata": {
    "id": "0c44b350-72eb-4d65-8b54-a1fc449ba9fd"
   },
   "outputs": [],
   "source": [
    "# текст запроса\n",
    "query_4_2 = f'''\n",
    "    select count(*) as cnt\n",
    "    from public.vacancies\n",
    "    where coalesce(salary_from, salary_to) is not null\n",
    "'''"
   ]
  },
  {
   "cell_type": "code",
   "execution_count": 15,
   "id": "rhvwaMDkoWTi",
   "metadata": {
    "id": "rhvwaMDkoWTi"
   },
   "outputs": [
    {
     "name": "stdout",
     "output_type": "stream",
     "text": [
      "     cnt\n",
      "0  24073\n",
      "Задание 4.2: 24073\n"
     ]
    }
   ],
   "source": [
    "# результат запроса\n",
    "df = pd.read_sql_query(query_4_2, connection)\n",
    "print(df.head())\n",
    "\n",
    "# Задание 4.2. Посмотрим на зарплаты. У какого количества вакансий заполнено хотя бы одно из двух полей с зарплатой?\n",
    "print(f\"Задание 4.2: {df['cnt'][0]}\")"
   ]
  },
  {
   "cell_type": "markdown",
   "id": "635c4d5d-f323-4c66-b428-50a088120aa0",
   "metadata": {
    "id": "635c4d5d-f323-4c66-b428-50a088120aa0"
   },
   "source": [
    "3. Найдите средние значения для нижней и верхней границы зарплатной вилки. Округлите значения до целого."
   ]
  },
  {
   "cell_type": "code",
   "execution_count": 16,
   "id": "603cdbe4-0ec3-4106-8eaf-c73fcdd29165",
   "metadata": {
    "id": "603cdbe4-0ec3-4106-8eaf-c73fcdd29165"
   },
   "outputs": [],
   "source": [
    "# текст запроса\n",
    "query_4_3 = f'''\n",
    "    select\n",
    "        round(avg(salary_from), 0) as avg_min_salary,\n",
    "        round(avg(salary_to), 0) as avg_max_salary\n",
    "    from public.vacancies\n",
    "'''"
   ]
  },
  {
   "cell_type": "code",
   "execution_count": 17,
   "id": "pswpAb66ovZZ",
   "metadata": {
    "id": "pswpAb66ovZZ"
   },
   "outputs": [
    {
     "name": "stdout",
     "output_type": "stream",
     "text": [
      "   avg_min_salary  avg_max_salary\n",
      "0         71065.0        110537.0\n",
      "Задание 4.3:\n",
      "нижняя граница - 71065,\n",
      "верхняя граница - 110537\n"
     ]
    }
   ],
   "source": [
    "# результат запроса\n",
    "df = pd.read_sql_query(query_4_3, connection)\n",
    "print(df.head())\n",
    "\n",
    "# Задание 4.3. Найдите средние значения для нижней и верхней границы зарплатной вилки. Округлите значения до целого числа.\n",
    "print(f\"\"\"Задание 4.3:\n",
    "нижняя граница - {int(df['avg_min_salary'][0])},\n",
    "верхняя граница - {int(df['avg_max_salary'][0])}\"\"\")"
   ]
  },
  {
   "cell_type": "markdown",
   "id": "f3fdaec9-5fd3-4260-9cf5-1d7406b628a5",
   "metadata": {
    "id": "f3fdaec9-5fd3-4260-9cf5-1d7406b628a5"
   },
   "source": [
    "4. Напишите запрос, который выведет количество вакансий для каждого сочетания типа рабочего графика (schedule) и типа трудоустройства (employment), используемого в вакансиях. Результат отсортируйте по убыванию количества.\n"
   ]
  },
  {
   "cell_type": "code",
   "execution_count": 18,
   "id": "1ea710ec-871b-431e-9462-c7d0fd87011b",
   "metadata": {
    "id": "1ea710ec-871b-431e-9462-c7d0fd87011b"
   },
   "outputs": [],
   "source": [
    "# текст запроса\n",
    "query_4_4 = f'''\n",
    "    select\n",
    "        schedule,\n",
    "        employment,\n",
    "        count(*) as n\n",
    "        \n",
    "    from public.vacancies\n",
    "    group by schedule, employment\n",
    "    order by count(*) desc\n",
    "'''"
   ]
  },
  {
   "cell_type": "code",
   "execution_count": 19,
   "id": "lGUVqavdo4JQ",
   "metadata": {
    "id": "lGUVqavdo4JQ"
   },
   "outputs": [
    {
     "name": "stdout",
     "output_type": "stream",
     "text": [
      "           schedule           employment      n\n",
      "0       Полный день     Полная занятость  35367\n",
      "1  Удаленная работа     Полная занятость   7802\n",
      "2     Гибкий график     Полная занятость   1593\n",
      "3  Удаленная работа  Частичная занятость   1312\n",
      "4    Сменный график     Полная занятость    940\n",
      "Задание 4.4: Удаленная работа - Полная занятость\n"
     ]
    }
   ],
   "source": [
    "# результат запроса\n",
    "df = pd.read_sql_query(query_4_4, connection)\n",
    "print(df.head())\n",
    "\n",
    "# Задание 4.4. Напишите запрос, который выведет количество вакансий для каждого сочетания\n",
    "#типа рабочего графика (schedule) и типа трудоустройства (employment), используемого в вакансиях.\n",
    "#Какая пара находится на втором месте по популярности?\n",
    "print(f\"Задание 4.4: {df['schedule'].iloc[1]} - {df['employment'].iloc[1]}\")"
   ]
  },
  {
   "cell_type": "markdown",
   "id": "0136ffee-0ead-4a6b-b608-61d1c753a438",
   "metadata": {
    "id": "0136ffee-0ead-4a6b-b608-61d1c753a438"
   },
   "source": [
    "5. Напишите запрос, выводящий значения поля Требуемый опыт работы (experience) в порядке возрастания количества вакансий, в которых указан данный вариант опыта. "
   ]
  },
  {
   "cell_type": "code",
   "execution_count": 20,
   "id": "5b3a8e79-f7ab-4008-b767-12aea3a205ea",
   "metadata": {
    "id": "5b3a8e79-f7ab-4008-b767-12aea3a205ea"
   },
   "outputs": [],
   "source": [
    "# текст запроса\n",
    "query_4_5 = f'''\n",
    "    select\n",
    "        experience,\n",
    "        count(*) as n\n",
    "        \n",
    "    from public.vacancies\n",
    "    group by experience\n",
    "    order by count(*)\n",
    "'''"
   ]
  },
  {
   "cell_type": "code",
   "execution_count": 21,
   "id": "3Is64Y-hpDpq",
   "metadata": {
    "id": "3Is64Y-hpDpq"
   },
   "outputs": [
    {
     "name": "stdout",
     "output_type": "stream",
     "text": [
      "           experience      n\n",
      "0         Более 6 лет   1337\n",
      "1           Нет опыта   7197\n",
      "2       От 3 до 6 лет  14511\n",
      "3  От 1 года до 3 лет  26152\n",
      "Задание 4.5: Более 6 лет - Нет опыта - От 3 до 6 лет - От 1 года до 3 лет\n"
     ]
    }
   ],
   "source": [
    "# результат запроса\n",
    "df = pd.read_sql_query(query_4_5, connection)\n",
    "print(df.head())\n",
    "\n",
    "#выбор ответа в Задании 4.5:\n",
    "experience_list = list()\n",
    "\n",
    "for i in range(df.shape[0]):\n",
    "    experience_list.append(df['experience'].iloc[i])\n",
    "\n",
    "# Задание 4.5. Напишите запрос, выводящий значения поля Требуемый опыт работы (experience)\n",
    "# в порядке возрастания количества вакансий, в которых указан данный вариант опыта.\n",
    "print(f\"Задание 4.5: {' - '.join(experience_list)}\")"
   ]
  },
  {
   "cell_type": "markdown",
   "id": "oq2b7n1QpIka",
   "metadata": {
    "id": "oq2b7n1QpIka"
   },
   "source": [
    "***"
   ]
  },
  {
   "cell_type": "markdown",
   "id": "07ca36f9",
   "metadata": {
    "id": "e91f87ed-e25c-4f96-9f92-b642e8c0b4fa"
   },
   "source": [
    "# выводы по детальному анализу вакансий\n",
    "Ожидаемо на первых местах по количеству вакансий - крупнешие города, включая столицы государств ближнего зарубежья, в которых не будет языкового барьера\n",
    "При этом там есть потребность в русскоговорящих спецалистах.\n",
    "Если взять средние зарплаты (запрос ниже) по регионам с 20+ вакансиями, то в топ-10 российские города вообще не попадут, а в топ-20 таковых будет 8 с Москвой на 11 месте. Уровень зарплаты за границей высокий, и раз ищут на hh, то внутри страны найти не смогли. А если фирмы пытаются сэкономить, найдя российкого специалиста, то сколько же у коренных жителей на аналогичных должностях зарплата...\n",
    "По условиям работы в базе вне конкуренции - полный день, полная занятость - вакансий такого типа в 5 раз больше, чем у ближайшего преследователя (удаленка). Но интересно замерить динамику: сколько предалагалось удаленки лет 5 назад.\n",
    "В основном требуются специалисьы с опытом работы 1-3 и 3-6 лет. Это костяк коллектива, замена может быть непростой.\n",
    "БОльшие стажи - это свехропытные специалисты и руководители, там уже свои каналы поиска - необязательно такое публиковать, ищут через знакомства."
   ]
  },
  {
   "cell_type": "code",
   "execution_count": 22,
   "id": "1fa597c8",
   "metadata": {},
   "outputs": [
    {
     "name": "stdout",
     "output_type": "stream",
     "text": [
      "                 name     n        avg_min        avg_max\n",
      "0              Польша    53  257155.666667  257155.666667\n",
      "1                Кипр   136  209573.205128  237898.230769\n",
      "2             Армения   223  206207.943396  232931.613208\n",
      "3              Турция    39  204919.263158  265951.789474\n",
      "4              Сербия    26  203552.166667  213293.666667\n",
      "5             Тбилиси   474  184831.987500  229479.325000\n",
      "6             Кишинёв    23  171897.000000  201121.000000\n",
      "7           Иннополис    91  170529.411765  181235.294118\n",
      "8              Батуми    83  168575.777778  231093.111111\n",
      "9                Баку    91  143905.745098  167588.431373\n",
      "10             Москва  5333  122274.705402  146005.646357\n",
      "11            Магадан    25  116506.421053  117559.052632\n",
      "12         Зеленоград   132  108992.105263  124900.000000\n",
      "13        Новосибирск  2006   96992.685684  118560.757804\n",
      "14    Санкт-Петербург  2851   94802.326683  114017.224439\n",
      "15              Химки    77   91724.117647  105558.823529\n",
      "16  Аксай (Казахстан)    25   88187.600000   89408.000000\n",
      "17             Мытищи    94   87216.666667  101916.666667\n",
      "18              Томск   692   87082.457143  111554.582857\n",
      "19               Сочи   230   86933.645161  111940.754839\n"
     ]
    }
   ],
   "source": [
    "#запрос для выводов\n",
    "query_test = f'''\n",
    "    select \n",
    "        t1.name,\n",
    "        count(*) as n,\n",
    "        avg(coalesce(t2.salary_from, t2.salary_to)) as avg_min,\n",
    "        avg(coalesce(t2.salary_to, t2.salary_from)) as avg_max\n",
    "    \n",
    "    from public.areas as t1\n",
    "    inner join public.vacancies as t2\n",
    "    on t1.id = t2.area_id\n",
    "    \n",
    "    group by t1.name\n",
    "    having avg(coalesce(t2.salary_from, t2.salary_to)) > 0\n",
    "    and count(*) >= 20\n",
    "    order by avg(coalesce(t2.salary_from, t2.salary_to)) desc\n",
    "    limit 20\n",
    "'''\n",
    "df = pd.read_sql_query(query_test, connection)\n",
    "print(df.head(20))"
   ]
  },
  {
   "cell_type": "markdown",
   "id": "7ea20ab6-04a7-40a0-adec-443a0e5a42c3",
   "metadata": {
    "id": "7ea20ab6-04a7-40a0-adec-443a0e5a42c3"
   },
   "source": [
    "# Юнит 5. Анализ работодателей"
   ]
  },
  {
   "cell_type": "markdown",
   "id": "968aed80-74ef-4ffb-b5bf-c65b84e9caea",
   "metadata": {
    "id": "968aed80-74ef-4ffb-b5bf-c65b84e9caea"
   },
   "source": [
    "1. Напишите запрос, который позволит узнать, какие работодатели находятся на первом и пятом месте по количеству вакансий."
   ]
  },
  {
   "cell_type": "code",
   "execution_count": 23,
   "id": "f2d62796-d400-4ec1-a675-88112739a50e",
   "metadata": {
    "id": "f2d62796-d400-4ec1-a675-88112739a50e"
   },
   "outputs": [],
   "source": [
    "# текст запроса\n",
    "query_5_1 = f'''\n",
    "    -- именованный запрос - подсчет количества вакансий по работодателям и сортировка по убыванию количества\n",
    "    with emp_count as (\n",
    "        select\n",
    "            t1.name,\n",
    "            count(*) as n\n",
    "\n",
    "        from public.employers as t1\n",
    "        left join public.vacancies as t2\n",
    "        on t1.id = t2.employer_id\n",
    "\n",
    "        group by t1.name\n",
    "        order by count(*) desc)\n",
    "    \n",
    "    -- выбор работодателя / работодателей с наибольшим количеством ваканисий\n",
    "    select\n",
    "        name\n",
    "        from emp_count\n",
    "        where n in (\n",
    "            select n from emp_count\n",
    "            limit 1)\n",
    "            \n",
    "    union all\n",
    "    -- выбор работодателя / работодателей с 4 местом по количеству ваканисий    \n",
    "    select\n",
    "        name\n",
    "        from emp_count\n",
    "        where n in (\n",
    "            select n from emp_count\n",
    "            offset 4 limit 1)\n",
    "'''"
   ]
  },
  {
   "cell_type": "code",
   "execution_count": 24,
   "id": "64tOMkAxqkQk",
   "metadata": {
    "id": "64tOMkAxqkQk"
   },
   "outputs": [
    {
     "name": "stdout",
     "output_type": "stream",
     "text": [
      "            name\n",
      "0         Яндекс\n",
      "1  Газпром нефть\n",
      "Задание 5.1: Яндекс - Газпром нефть\n"
     ]
    }
   ],
   "source": [
    "# результат запроса\n",
    "df = pd.read_sql_query(query_5_1, connection)\n",
    "print(df.head())\n",
    "\n",
    "# Задание 5.1. Напишите запрос, который позволит узнать, какие работодатели находятся\n",
    "#на первом и пятом месте по количеству вакансий.\n",
    "# выбор ответа в Задании 5.1:\n",
    "emp_list = list()\n",
    "\n",
    "for i in range(df.shape[0]):\n",
    "    emp_list.append(df['name'].iloc[i])\n",
    "print(f\"Задание 5.1: {' - '.join(emp_list)}\")"
   ]
  },
  {
   "cell_type": "markdown",
   "id": "68377cfc-b378-43dc-ab7d-1195abf2c515",
   "metadata": {
    "id": "68377cfc-b378-43dc-ab7d-1195abf2c515"
   },
   "source": [
    "2. Напишите запрос, который для каждого региона выведет количество работодателей и вакансий в нём.\n",
    "Среди регионов, в которых нет вакансий, найдите тот, в котором наибольшее количество работодателей.\n"
   ]
  },
  {
   "cell_type": "code",
   "execution_count": 25,
   "id": "dd7df27a-e3e8-412e-a21a-5d389b71e891",
   "metadata": {
    "id": "dd7df27a-e3e8-412e-a21a-5d389b71e891"
   },
   "outputs": [],
   "source": [
    "# текст запроса\n",
    "query_5_2 = f'''\n",
    "    -- именованный запрос - регионы и количество работодателей в них (чтоб не пихать как подзапрос в джойнах)\n",
    "    with employee_count as (\n",
    "        select\n",
    "            area,\n",
    "            count(distinct id) as n_employers\n",
    "        from public.employers\n",
    "        group by area\n",
    "        ),\n",
    "    \n",
    "    -- именованный запрос - регионы и количество резюме в них (чтоб не пихать как подзапрос в джойнах)\n",
    "    vacancy_count as (\n",
    "        select\n",
    "            area_id,\n",
    "            count(*) as n_vacancies\n",
    "        from public.vacancies\n",
    "        group by area_id\n",
    "        )\n",
    "        \n",
    "    select\n",
    "        t1.name,\n",
    "        coalesce(t2.n_employers, 0) as n_employers,\n",
    "        coalesce(t3.n_vacancies, 0) as n_vacancies\n",
    "        \n",
    "    from public.areas as t1\n",
    "    left join employee_count as t2\n",
    "    on t1.id = t2.area\n",
    "    \n",
    "    left join vacancy_count as t3\n",
    "    on t1.id = t3.area_id\n",
    "'''\n",
    "\n",
    "#запрос, который выводит только регион для Задания 5.2\n",
    "query_5_2_sql = f'''\n",
    "    -- именованный запрос - регионы и количество работодателей в них (чтоб не писать как подзапрос в джойнах)\n",
    "    with employee_count as (\n",
    "        select\n",
    "            area,\n",
    "            count(distinct id) as n_employers\n",
    "        from public.employers\n",
    "        group by area\n",
    "        ),\n",
    "    \n",
    "    -- именованный запрос - регионы и количество резюме в них (чтоб не писать как подзапрос в джойнах)\n",
    "    vacancy_count as (\n",
    "        select\n",
    "            area_id,\n",
    "            count(*) as n_vacancies\n",
    "        from public.vacancies\n",
    "        group by area_id\n",
    "        )\n",
    "        \n",
    "    select\n",
    "        t1.name,\n",
    "        coalesce(t2.n_employers, 0) as n_employers,\n",
    "        coalesce(t3.n_vacancies, 0) as n_vacancies\n",
    "        \n",
    "    from public.areas as t1\n",
    "    left join employee_count as t2\n",
    "    on t1.id = t2.area\n",
    "    \n",
    "    left join vacancy_count as t3\n",
    "    on t1.id = t3.area_id\n",
    "    \n",
    "    where coalesce(t3.n_vacancies, 0) = 0\n",
    "    order by coalesce(t2.n_employers, 0) desc\n",
    "    limit 1\n",
    "'''"
   ]
  },
  {
   "cell_type": "code",
   "execution_count": 26,
   "id": "x1ikWbydrbf6",
   "metadata": {
    "id": "x1ikWbydrbf6"
   },
   "outputs": [
    {
     "name": "stdout",
     "output_type": "stream",
     "text": [
      "              name  n_employers  n_vacancies\n",
      "0           Москва         5864         5333\n",
      "1  Санкт-Петербург         2217         2851\n",
      "2     Екатеринбург          609         1698\n",
      "3      Новосибирск          573         2006\n",
      "4        Австралия            6            0\n",
      "Задание 5.2 через dataframe: Россия\n",
      "Задание 5.2 через SQL:  Россия\n"
     ]
    }
   ],
   "source": [
    "# результат запроса\n",
    "# вывод ответа в Задании 5.2 через dataframe:\n",
    "df = pd.read_sql_query(query_5_2, connection)\n",
    "print(df.head())\n",
    "max_empl_cnt = df[df['n_vacancies'] == 0]['n_employers'].max()\n",
    "print(f\"Задание 5.2 через dataframe: {df[df['n_employers'] == max_empl_cnt]['name'].iloc[0]}\")\n",
    "\n",
    "# вывод ответа в Задании 5.2 через SQL:\n",
    "df = pd.read_sql_query(query_5_2_sql, connection)\n",
    "print(f\"Задание 5.2 через SQL:  {df['name'].iloc[0]}\")"
   ]
  },
  {
   "cell_type": "markdown",
   "id": "f2fe0acb-ab1a-4e15-9326-2560e22d73c1",
   "metadata": {
    "id": "f2fe0acb-ab1a-4e15-9326-2560e22d73c1"
   },
   "source": [
    "3. Для каждого работодателя посчитайте количество регионов, в которых он публикует свои вакансии. Отсортируйте результат по убыванию количества.\n"
   ]
  },
  {
   "cell_type": "code",
   "execution_count": 27,
   "id": "6271f8ad-bd2e-4196-ae4a-5b39c4c1010e",
   "metadata": {
    "id": "6271f8ad-bd2e-4196-ae4a-5b39c4c1010e"
   },
   "outputs": [],
   "source": [
    "# текст запроса\n",
    "query_5_3 = f'''\n",
    "    select\n",
    "        t1.name,\n",
    "        count(distinct t2.area_id) as n_regions\n",
    "    \n",
    "    from public.employers as t1\n",
    "    left join public.vacancies as t2\n",
    "    on t1.id = t2.employer_id\n",
    "    \n",
    "    group by t1.name    \n",
    "    order by count(distinct t2.area_id) desc\n",
    "'''\n",
    "\n",
    "#запрос, который выводит только число для Задания 5.3\n",
    "query_5_3_sql = f'''\n",
    "    select\n",
    "        t1.name,\n",
    "        count(distinct t2.area_id) as n_regions\n",
    "    \n",
    "    from public.employers as t1\n",
    "    left join public.vacancies as t2\n",
    "    on t1.id = t2.employer_id\n",
    "    \n",
    "    group by t1.name    \n",
    "    order by count(distinct t2.area_id) desc\n",
    "    limit 1\n",
    "'''"
   ]
  },
  {
   "cell_type": "code",
   "execution_count": 28,
   "id": "1EIvX3HasH4F",
   "metadata": {
    "id": "1EIvX3HasH4F"
   },
   "outputs": [
    {
     "name": "stdout",
     "output_type": "stream",
     "text": [
      "                     name  n_regions\n",
      "0                  Яндекс        181\n",
      "1              Ростелеком        152\n",
      "2              Спецремонт        116\n",
      "3  Поляков Денис Иванович         88\n",
      "4               ООО ЕФИН          71\n",
      "Задание 5.3 через dataframe: 181\n",
      "Задание 5.3 через SQL: 181\n"
     ]
    }
   ],
   "source": [
    "# результат запроса\n",
    "df = pd.read_sql_query(query_5_3, connection)\n",
    "print(df.head())\n",
    "\n",
    "# Задание 5.3. Для каждого работодателя посчитайте количество регионов, в которых он публикует свои вакансии.\n",
    "# Выберите максимальное значение из получившегося списка.\n",
    "# вывод ответа в Задании 5.3 через dataframe:\n",
    "df = pd.read_sql_query(query_5_3, connection)\n",
    "\n",
    "print(f\"Задание 5.3 через dataframe: {df['n_regions'].iloc[0]}\")\n",
    "\n",
    "# вывод ответа в Задании 5.3 через SQL:\n",
    "df = pd.read_sql_query(query_5_3_sql, connection)\n",
    "\n",
    "print(f\"Задание 5.3 через SQL: {df['n_regions'].iloc[0]}\")"
   ]
  },
  {
   "cell_type": "markdown",
   "id": "eab2206d-d95b-468b-8e5f-34381abf0ce7",
   "metadata": {
    "id": "eab2206d-d95b-468b-8e5f-34381abf0ce7"
   },
   "source": [
    "4. Напишите запрос для подсчёта количества работодателей, у которых не указана сфера деятельности. "
   ]
  },
  {
   "cell_type": "code",
   "execution_count": 29,
   "id": "80defb23-bfb1-4a18-8be6-bf36aa7165d5",
   "metadata": {
    "id": "80defb23-bfb1-4a18-8be6-bf36aa7165d5"
   },
   "outputs": [],
   "source": [
    "# текст запроса\n",
    "query_5_4 = f'''\n",
    "    select count(*) as n_miss_industry\n",
    "    from (\n",
    "        select\n",
    "            t1.id,\n",
    "            count(t2.industry_id) as n_industries\n",
    "\n",
    "        from public.employers as t1\n",
    "        left join public.employers_industries as t2\n",
    "        on t1.id = t2.employer_id\n",
    "        group by t1.id\n",
    "        ) as t\n",
    "\n",
    "    where n_industries = 0\n",
    "'''"
   ]
  },
  {
   "cell_type": "code",
   "execution_count": 30,
   "id": "Dp_yCx6ysQSu",
   "metadata": {
    "id": "Dp_yCx6ysQSu"
   },
   "outputs": [
    {
     "name": "stdout",
     "output_type": "stream",
     "text": [
      "   n_miss_industry\n",
      "0             8419\n",
      "Задание 5.4: 8419\n"
     ]
    }
   ],
   "source": [
    "# результат запроса\n",
    "df = pd.read_sql_query(query_5_4, connection)\n",
    "print(df.head())\n",
    "\n",
    "# Задание 5.4. Напишите запрос для подсчёта количества работодателей, у которых не указана сфера деятельности.\n",
    "# Введите количество, которое вернул запрос, в поле ниже.\n",
    "print(f\"Задание 5.4: {df['n_miss_industry'].iloc[0]}\")"
   ]
  },
  {
   "cell_type": "markdown",
   "id": "0112af31-f6b0-4e3b-82ab-71296e752e5e",
   "metadata": {
    "id": "0112af31-f6b0-4e3b-82ab-71296e752e5e"
   },
   "source": [
    "5. Напишите запрос, чтобы узнать название компании, находящейся на третьем месте в алфавитном списке (по названию) компаний, у которых указано четыре сферы деятельности. "
   ]
  },
  {
   "cell_type": "code",
   "execution_count": 31,
   "id": "973b0cfc-a972-470a-8b4a-68744ef220c4",
   "metadata": {
    "id": "973b0cfc-a972-470a-8b4a-68744ef220c4"
   },
   "outputs": [],
   "source": [
    "# текст запроса\n",
    "query_5_5 = f'''\n",
    "    select\n",
    "        t1.name,\n",
    "        count(t2.industry_id) as n_industries\n",
    "\n",
    "    from public.employers as t1\n",
    "    left join public.employers_industries as t2\n",
    "    on t1.id = t2.employer_id\n",
    "    \n",
    "    group by t1.id\n",
    "    having count(t2.industry_id) = 4\n",
    "    \n",
    "    order by t1.name\n",
    "    offset 2\n",
    "    limit 1\n",
    "'''"
   ]
  },
  {
   "cell_type": "code",
   "execution_count": 32,
   "id": "xsPtpp8EsaED",
   "metadata": {
    "id": "xsPtpp8EsaED"
   },
   "outputs": [
    {
     "name": "stdout",
     "output_type": "stream",
     "text": [
      "   name  n_industries\n",
      "0  2ГИС             4\n",
      "Задание 5.5: 2ГИС\n"
     ]
    }
   ],
   "source": [
    "# результат запроса\n",
    "df = pd.read_sql_query(query_5_5, connection)\n",
    "print(df.head())\n",
    "\n",
    "# Задание 5.5. Напишите запрос, чтобы узнать название компании, находящейся на третьем месте\n",
    "# в алфавитном списке (по названию) компаний, у которых указано четыре сферы деятельности.\n",
    "# Введите в поле ниже название этой компании так же, как оно указано в результате запроса.\n",
    "print(f\"Задание 5.5: {df['name'].iloc[0]}\")"
   ]
  },
  {
   "cell_type": "markdown",
   "id": "3bfcfdaf-755d-4d2b-8ed8-326201dc07ab",
   "metadata": {
    "id": "3bfcfdaf-755d-4d2b-8ed8-326201dc07ab"
   },
   "source": [
    "6. С помощью запроса выясните, у какого количества работодателей в качестве сферы деятельности указана Разработка программного обеспечения.\n"
   ]
  },
  {
   "cell_type": "code",
   "execution_count": 33,
   "id": "ad3f270f-2991-47eb-929b-e8f88a55b0d1",
   "metadata": {
    "id": "ad3f270f-2991-47eb-929b-e8f88a55b0d1"
   },
   "outputs": [],
   "source": [
    "# текст запроса\n",
    "query_5_6 = f'''\n",
    "    select\n",
    "        count(distinct t1.id) as n_software_comp\n",
    "    \n",
    "    from public.employers as t1\n",
    "    left join public.employers_industries as t2\n",
    "    on t1.id = t2.employer_id\n",
    "    \n",
    "    left join public.industries as t3\n",
    "    on t2.industry_id = t3.id\n",
    "    \n",
    "    where t3.name = 'Разработка программного обеспечения'\n",
    "'''"
   ]
  },
  {
   "cell_type": "code",
   "execution_count": 34,
   "id": "H72qxWM0shPR",
   "metadata": {
    "id": "H72qxWM0shPR"
   },
   "outputs": [
    {
     "name": "stdout",
     "output_type": "stream",
     "text": [
      "   n_software_comp\n",
      "0             3553\n",
      "Задание 5.6: 3553\n"
     ]
    }
   ],
   "source": [
    "# результат запроса\n",
    "df = pd.read_sql_query(query_5_6, connection)\n",
    "print(df.head())\n",
    "\n",
    "# Задание 5.6. С помощью запроса выясните, у какого количества работодателей в качестве\n",
    "# сферы деятельности указана «Разработка программного обеспечения».\n",
    "print(f\"Задание 5.6: {df['n_software_comp'].iloc[0]}\")"
   ]
  },
  {
   "cell_type": "markdown",
   "id": "7b02bb86-0546-40fb-94a4-242f050a5c57",
   "metadata": {
    "id": "7b02bb86-0546-40fb-94a4-242f050a5c57"
   },
   "source": [
    "7. Для компании «Яндекс» выведите список регионов-миллионников, в которых представлены вакансии компании, вместе с количеством вакансий в этих регионах. Также добавьте строку Total с общим количеством вакансий компании. Результат отсортируйте по возрастанию количества.\n",
    "\n",
    "Список городов-милионников надо взять [отсюда](https://ru.wikipedia.org/wiki/%D0%93%D0%BE%D1%80%D0%BE%D0%B4%D0%B0-%D0%BC%D0%B8%D0%BB%D0%BB%D0%B8%D0%BE%D0%BD%D0%B5%D1%80%D1%8B_%D0%A0%D0%BE%D1%81%D1%81%D0%B8%D0%B8). \n",
    "\n",
    "Если возникнут трудности с этим задание посмотрите материалы модуля  PYTHON-17. Как получать данные из веб-источников и API. "
   ]
  },
  {
   "cell_type": "code",
   "execution_count": 35,
   "id": "ZdfrL6gIs1Pn",
   "metadata": {
    "id": "ZdfrL6gIs1Pn"
   },
   "outputs": [],
   "source": [
    "# код для получения списка городов-милионников\n",
    "import requests # Импортируем библиотеку requests\n",
    "from bs4 import BeautifulSoup # Импортируем библиотеку BeautifulSoup\n",
    "url = 'https://ru.wikipedia.org/wiki/Города-миллионеры_России' # Определяем адрес страницы\n",
    "response = requests.get(url) # Выполняем GET-запрос, содержимое ответа присваивается переменной response\n",
    "page = BeautifulSoup(response.text, 'html.parser') # Создаём объект BeautifulSoup, указывая html-парсер\n",
    "\n",
    "# извлечение содержимого по тэгу 'table' и классу 'standard sortable'\n",
    "strings = page.find('table', class_='standard sortable')\n",
    "# элементы таблицы находятся в теге <td>, причем в таблице 5 столбцов, а первый - номер строки\n",
    "# тогда надо брать каждый пятый элемент, начиная со второго\n",
    "city_list = list() #переменная списка городов\n",
    "for i in range(1, len(strings.find_all('td')), 5):\n",
    "    city = strings.find_all('td')[i].text\n",
    "    # у Воронежа есть доп. тег - ссылка в квадратных скобках, дающаая при выводе [а].\n",
    "    # удаляем это (но вот что еще может добавиться...)\n",
    "    if city.find('[') >=0:\n",
    "        city = city[0:city.find('[')]\n",
    "    \n",
    "    # добавление в список города\n",
    "    city_list.append(city)\n",
    "city_list = tuple(city_list)"
   ]
  },
  {
   "cell_type": "code",
   "execution_count": 36,
   "id": "5a0e32a4-e68a-4365-8a39-2fe24c542c36",
   "metadata": {
    "id": "5a0e32a4-e68a-4365-8a39-2fe24c542c36"
   },
   "outputs": [],
   "source": [
    "# текст запроса\n",
    "query_5_7 = f'''\n",
    "-- именованный запрос - кол-во вакансий Яндекса по городам-миллионерам\n",
    "    with yandex_vacancies as (\n",
    "        select\n",
    "            t2.name,\n",
    "            count(t1.id)::int as n_vacancies\n",
    "\n",
    "        from public.vacancies as t1\n",
    "        inner join public.areas as t2\n",
    "        on t1.area_id = t2.id\n",
    "\n",
    "        inner join public.employers as t3\n",
    "        on t1.employer_id = t3.id\n",
    "\n",
    "        where t2.name in {city_list}\n",
    "        and upper(t3.name) = 'ЯНДЕКС'\n",
    "\n",
    "        group by t2.name\n",
    "        order by count(t1.id)\n",
    "        )\n",
    "    select *\n",
    "    from yandex_vacancies\n",
    "    \n",
    "    union all\n",
    "    \n",
    "    select\n",
    "        'Total' as name,\n",
    "        sum(n_vacancies) as n_vacancies\n",
    "    from yandex_vacancies    \n",
    "'''"
   ]
  },
  {
   "cell_type": "code",
   "execution_count": 37,
   "id": "ttPhiO1rsvPq",
   "metadata": {
    "id": "ttPhiO1rsvPq"
   },
   "outputs": [
    {
     "name": "stdout",
     "output_type": "stream",
     "text": [
      "                 n_vacancies\n",
      "name                        \n",
      "Омск                      21\n",
      "Челябинск                 22\n",
      "Красноярск                23\n",
      "Волгоград                 24\n",
      "Пермь                     25\n",
      "Казань                    25\n",
      "Ростов-на-Дону            25\n",
      "Уфа                       26\n",
      "Самара                    26\n",
      "Краснодар                 30\n",
      "Воронеж                   32\n",
      "Новосибирск               35\n",
      "Нижний Новгород           36\n",
      "Екатеринбург              39\n",
      "Санкт-Петербург           42\n",
      "Москва                    54\n",
      "Total                    485\n",
      "Задание 5.7: 17 строк получилось\n",
      "Задание 5.7: 485 в строке Total\n"
     ]
    }
   ],
   "source": [
    "# результат запроса\n",
    "df = pd.read_sql_query(query_5_7, connection, index_col='name')\n",
    "print(df.head(df.shape[0]))\n",
    "\n",
    "# Задание 5.7. Для компании «Яндекс» выведите список регионов-миллионников,\n",
    "# в которых представлены вакансии компании, вместе с количеством вакансий в этих регионах.\n",
    "# Также добавьте строку Total с общим количеством вакансий компании.\n",
    "\n",
    "# Сколько строк получилось в вашей выборке?\n",
    "print(f\"Задание 5.7: {df['n_vacancies'].shape[0]} строк получилось\")\n",
    "\n",
    "# Какой результат получился в строке Total?\n",
    "print(f\"Задание 5.7: {df['n_vacancies'].loc['Total']} в строке Total\")"
   ]
  },
  {
   "cell_type": "markdown",
   "id": "04966e40-3bc3-4dc8-9ba2-e80580ce3abc",
   "metadata": {
    "id": "04966e40-3bc3-4dc8-9ba2-e80580ce3abc"
   },
   "source": [
    "***"
   ]
  },
  {
   "cell_type": "markdown",
   "id": "8ef57c04",
   "metadata": {},
   "source": [
    "# выводы по анализу работодателей\n",
    "\n",
    "Более трети работодателей не указывают отрасль. Это странно, так как так труднее найти их вакансии по желаемым отраслям.\n",
    "Вообще жля таких случаев можно использовтаь данные пот отрасли по ОКВЭД из СПАРК, например, сопоставив словарю видов экономической деятельности разбивку, используемую на hh.ru\n",
    "В топе (как по количеству вакансий - запрос ниже), так и по географии - высокотехнологичные компании и финансовый сектор: развивающиеся сектора, большая текучесть персонала."
   ]
  },
  {
   "cell_type": "code",
   "execution_count": 38,
   "id": "aGGyER-yt4SR",
   "metadata": {
    "id": "aGGyER-yt4SR"
   },
   "outputs": [
    {
     "name": "stdout",
     "output_type": "stream",
     "text": [
      "                       n_vacancies\n",
      "name                              \n",
      "Яндекс                        1933\n",
      "Ростелеком                     491\n",
      "Тинькофф                       444\n",
      "СБЕР                           428\n",
      "Газпром нефть                  331\n",
      "ИК СИБИНТЕК                    327\n",
      "МТС                            292\n",
      "DataArt                        247\n",
      "Совкомбанк Технологии          204\n",
      "Первый Бит                     176\n"
     ]
    }
   ],
   "source": [
    "# текст запроса - топ работодателей по вакансиям всего\n",
    "query_ = f'''\n",
    "    select\n",
    "        t1.name,\n",
    "        count (t2.name) as n_vacancies\n",
    "    \n",
    "    from public.employers as t1\n",
    "    left join public.vacancies as t2\n",
    "    on t1.id = t2.employer_id\n",
    "    \n",
    "    group by t1.name    \n",
    "    order by count(t2.name) desc\n",
    "'''\n",
    "\n",
    "df = pd.read_sql_query(query_, connection, index_col='name')\n",
    "print(df.head(10))"
   ]
  },
  {
   "cell_type": "markdown",
   "id": "b1ef156a-efcb-49ce-bb23-90763e7f35b2",
   "metadata": {
    "id": "b1ef156a-efcb-49ce-bb23-90763e7f35b2",
    "tags": []
   },
   "source": [
    "# Юнит 6. Предметный анализ"
   ]
  },
  {
   "cell_type": "markdown",
   "id": "b9cd50a0-992d-4988-8463-2b2b1c4629b4",
   "metadata": {
    "id": "b9cd50a0-992d-4988-8463-2b2b1c4629b4"
   },
   "source": [
    "1. Сколько вакансий имеет отношение к данным?\n",
    "\n",
    "Считаем, что вакансия имеет отношение к данным, если в её названии содержатся слова 'data' или 'данн'.\n",
    "\n",
    "*Подсказка: Обратите внимание, что названия вакансий могут быть написаны в любом регистре.* \n"
   ]
  },
  {
   "cell_type": "code",
   "execution_count": 39,
   "id": "54ab0e50-c0f1-47cc-a54b-bc5c8bc363f9",
   "metadata": {
    "id": "54ab0e50-c0f1-47cc-a54b-bc5c8bc363f9"
   },
   "outputs": [],
   "source": [
    "# текст запроса\n",
    "query_6_1 = f'''\n",
    "    select\n",
    "        count(*) as data_vacancies\n",
    "    from public.vacancies\n",
    "    where upper(name) like '%DATA%'\n",
    "    or upper(name) like '%ДАНН%'\n",
    "'''"
   ]
  },
  {
   "cell_type": "code",
   "execution_count": 40,
   "id": "9F1meAqsuUjd",
   "metadata": {
    "id": "9F1meAqsuUjd"
   },
   "outputs": [
    {
     "name": "stdout",
     "output_type": "stream",
     "text": [
      "   data_vacancies\n",
      "0            1771\n",
      "Задание 6.1: 1771\n"
     ]
    }
   ],
   "source": [
    "# результат запроса\n",
    "df = pd.read_sql_query(query_6_1, connection)\n",
    "print(df.head())\n",
    "\n",
    "# Задание 6.1. Сколько вакансий имеет отношение к данным?\n",
    "print(f\"Задание 6.1: {df['data_vacancies'].iloc[0]}\")"
   ]
  },
  {
   "cell_type": "markdown",
   "id": "4dea20cb-a36b-474a-a0b9-e08e8e3857a5",
   "metadata": {
    "id": "4dea20cb-a36b-474a-a0b9-e08e8e3857a5"
   },
   "source": [
    "2. Сколько есть подходящих вакансий для начинающего дата-сайентиста? \n",
    "Будем считать вакансиями для дата-сайентистов такие, в названии которых есть хотя бы одно из следующих сочетаний:\n",
    "* 'data scientist'\n",
    "* 'data science'\n",
    "* 'исследователь данных'\n",
    "* 'ML' (здесь не нужно брать вакансии по HTML)\n",
    "* 'machine learning'\n",
    "* 'машинн%обучен%'\n",
    "\n",
    "** В следующих заданиях мы продолжим работать с вакансиями по этому условию.*\n",
    "\n",
    "Считаем вакансиями для специалистов уровня Junior следующие:\n",
    "* в названии есть слово 'junior' *или*\n",
    "* требуемый опыт — Нет опыта *или*\n",
    "* тип трудоустройства — Стажировка.\n",
    " "
   ]
  },
  {
   "cell_type": "code",
   "execution_count": 41,
   "id": "9c61b3c0-bb66-46c9-ae1e-81d3f5752b4a",
   "metadata": {
    "id": "9c61b3c0-bb66-46c9-ae1e-81d3f5752b4a"
   },
   "outputs": [],
   "source": [
    "# текст запроса\n",
    "query_6_2 = f'''\n",
    "    select\n",
    "        count(*) as data_vacancies\n",
    "    from public.vacancies\n",
    "\n",
    "    where (\n",
    "        lower(name) like '%data scientist%'\n",
    "        or lower(name) like '%data science%'\n",
    "        or lower(name) like '%исследователь данных%'\n",
    "        or (name like '%ML%' and name not like '%HTML%')\n",
    "        or lower(name) like '%machine learning%'\n",
    "        or lower(name) like '%машинн%обучен%'\n",
    "        )\n",
    "\n",
    "    and (\n",
    "        lower(name) like '%junior%'\n",
    "        or experience = 'Нет опыта'\n",
    "        or employment = 'Стажировка'\n",
    "        )\n",
    "'''"
   ]
  },
  {
   "cell_type": "code",
   "execution_count": 42,
   "id": "ZNM-LLYuu1dj",
   "metadata": {
    "id": "ZNM-LLYuu1dj"
   },
   "outputs": [
    {
     "name": "stdout",
     "output_type": "stream",
     "text": [
      "   data_vacancies\n",
      "0              51\n",
      "Задание 6.2: 51\n"
     ]
    }
   ],
   "source": [
    "# результат запроса\n",
    "df = pd.read_sql_query(query_6_2, connection)\n",
    "print(df.head())\n",
    "\n",
    "# Задание 6.2. Сколько есть подходящих вакансий для начинающего дата-сайентиста?\n",
    "print(f\"Задание 6.2: {df['data_vacancies'].iloc[0]}\")"
   ]
  },
  {
   "cell_type": "markdown",
   "id": "eedceb80-c5ca-480e-b27a-278dfb8b4438",
   "metadata": {
    "id": "eedceb80-c5ca-480e-b27a-278dfb8b4438"
   },
   "source": [
    "3. Сколько есть вакансий для DS, в которых в качестве ключевого навыка указан SQL или postgres?\n",
    "\n",
    "** Критерии для отнесения вакансии к DS указаны в предыдущем задании.*"
   ]
  },
  {
   "cell_type": "code",
   "execution_count": 43,
   "id": "69621713-0cc5-4f1b-a1d7-bb144fa6148c",
   "metadata": {
    "id": "69621713-0cc5-4f1b-a1d7-bb144fa6148c"
   },
   "outputs": [],
   "source": [
    "# текст запроса\n",
    "query_6_3 = f'''\n",
    "    select count (id) as n\n",
    "    from public.vacancies\n",
    "\n",
    "    where (\n",
    "        lower(name) like '%data scientist%'\n",
    "        or lower(name) like '%data science%'\n",
    "        or lower(name) like '%исследователь данных%'\n",
    "        or (name like '%ML%' and name not like '%HTML%')\n",
    "        or lower(name) like '%machine learning%'\n",
    "        or lower(name) like '%машинн%обучен%'\n",
    "        )\n",
    "\n",
    "    and (\n",
    "        upper(key_skills) like '%SQL%'\n",
    "        or lower(key_skills) like '%postgres%'        \n",
    "        )\n",
    "'''"
   ]
  },
  {
   "cell_type": "code",
   "execution_count": 44,
   "id": "alA8WEAAvGdf",
   "metadata": {
    "id": "alA8WEAAvGdf"
   },
   "outputs": [
    {
     "name": "stdout",
     "output_type": "stream",
     "text": [
      "     n\n",
      "0  201\n",
      "Задание 6.3: 201\n"
     ]
    }
   ],
   "source": [
    "# результат запроса\n",
    "df = pd.read_sql_query(query_6_3, connection)\n",
    "print(df)\n",
    "\n",
    "# Задание 6.3. Сколько есть вакансий для DS, в которых в качестве ключевого навыка указан SQL или postgres?\n",
    "print(f\"Задание 6.3: {df['n'].iloc[0]}\")"
   ]
  },
  {
   "cell_type": "markdown",
   "id": "1be1e9c6-37cf-4a5f-bfeb-04cab799dc80",
   "metadata": {
    "id": "1be1e9c6-37cf-4a5f-bfeb-04cab799dc80"
   },
   "source": [
    "4. Проверьте, насколько популярен Python в требованиях работодателей к DS.Для этого вычислите количество вакансий, в которых в качестве ключевого навыка указан Python.\n",
    "\n",
    "** Это можно сделать помощью запроса, аналогичного предыдущему.*"
   ]
  },
  {
   "cell_type": "code",
   "execution_count": 45,
   "id": "0036a355-9ccf-4564-8b01-73d8194297e7",
   "metadata": {
    "id": "0036a355-9ccf-4564-8b01-73d8194297e7"
   },
   "outputs": [],
   "source": [
    "# текст запроса\n",
    "query_6_4 = f'''\n",
    "    select\n",
    "        count(*) as data_vacancies\n",
    "    from public.vacancies\n",
    "\n",
    "    where (\n",
    "        lower(name) like '%data scientist%'\n",
    "        or lower(name) like '%data science%'\n",
    "        or lower(name) like '%исследователь данных%'\n",
    "        or (name like '%ML%' and name not like '%HTML%')\n",
    "        or lower(name) like '%machine learning%'\n",
    "        or lower(name) like '%машинн%обучен%'\n",
    "        )\n",
    "\n",
    "    and lower(key_skills) like '%python%'\n",
    "'''"
   ]
  },
  {
   "cell_type": "code",
   "execution_count": 46,
   "id": "1i-5WyucvQ6v",
   "metadata": {
    "id": "1i-5WyucvQ6v"
   },
   "outputs": [
    {
     "name": "stdout",
     "output_type": "stream",
     "text": [
      "   data_vacancies\n",
      "0             351\n",
      "Задание 6.4: 351\n"
     ]
    }
   ],
   "source": [
    "# результат запроса\n",
    "df = pd.read_sql_query(query_6_4, connection)\n",
    "print(df.head())\n",
    "\n",
    "# Задание 6.4. Вычислите количество вакансий, в которых в качестве ключевого навыка указан Python.\n",
    "print(f\"Задание 6.4: {df['data_vacancies'].iloc[0]}\")"
   ]
  },
  {
   "cell_type": "markdown",
   "id": "ec3c8db7-fa21-4a41-a994-1af63742a642",
   "metadata": {
    "id": "ec3c8db7-fa21-4a41-a994-1af63742a642"
   },
   "source": [
    "5. Сколько ключевых навыков в среднем указывают в вакансиях для DS?\n",
    "Ответ округлите до двух знаков после точки-разделителя."
   ]
  },
  {
   "cell_type": "code",
   "execution_count": 47,
   "id": "949132bc-d5b6-4611-8218-0b9a504d74f4",
   "metadata": {
    "id": "949132bc-d5b6-4611-8218-0b9a504d74f4"
   },
   "outputs": [],
   "source": [
    "# текст запроса\n",
    "query_6_5 = f'''\n",
    "    --навыки разделены табом (\\t). кол-во навыков равно кол-ву табов плюс один\n",
    "    select\n",
    "       avg(length(key_skills) - length(replace(key_skills, '\\t', '')) + 1) as avg_skills\n",
    "    from public.vacancies\n",
    "\n",
    "    where (\n",
    "        lower(name) like '%data scientist%'\n",
    "        or lower(name) like '%data science%'\n",
    "        or lower(name) like '%исследователь данных%'\n",
    "        or (name like '%ML%' and name not like '%HTML%')\n",
    "        or lower(name) like '%machine learning%'\n",
    "        or lower(name) like '%машинн%обучен%'\n",
    "        )\n",
    "'''"
   ]
  },
  {
   "cell_type": "code",
   "execution_count": 48,
   "id": "a3V24Tvmviqk",
   "metadata": {
    "id": "a3V24Tvmviqk"
   },
   "outputs": [
    {
     "name": "stdout",
     "output_type": "stream",
     "text": [
      "   avg_skills\n",
      "0    6.406032\n",
      "Задание 6.5: 6.41\n"
     ]
    }
   ],
   "source": [
    "# результат запроса\n",
    "df = pd.read_sql_query(query_6_5, connection)\n",
    "print(df.head())\n",
    "\n",
    "# Задание 6.5 Сколько ключевых навыков в среднем указывают в вакансиях для DS?\n",
    "# Ответ округлите до двух знаков после точки-разделителя.\n",
    "print(f\"Задание 6.5: {round(df['avg_skills'].iloc[0], 2)}\")"
   ]
  },
  {
   "cell_type": "markdown",
   "id": "1041c17a-ca8f-4543-a0ca-32778914fb00",
   "metadata": {
    "id": "1041c17a-ca8f-4543-a0ca-32778914fb00"
   },
   "source": [
    "6. Напишите запрос, позволяющий вычислить, какую зарплату для DS в **среднем** указывают для каждого типа требуемого опыта (уникальное значение из поля *experience*). \n",
    "\n",
    "При решении задачи примите во внимание следующее:\n",
    "1. Рассматриваем только вакансии, у которых заполнено хотя бы одно из двух полей с зарплатой.\n",
    "2. Если заполнены оба поля с зарплатой, то считаем зарплату по каждой вакансии как сумму двух полей, делённую на 2. Если заполнено только одно из полей, то его и считаем зарплатой по вакансии.\n",
    "3. Если в расчётах участвует null, в результате он тоже даст null (посмотрите, что возвращает запрос select 1 + null). Чтобы избежать этой ситуацию, мы воспользуемся функцией [coalesce](https://postgrespro.ru/docs/postgresql/9.5/functions-conditional#functions-coalesce-nvl-ifnull), которая заменит null на значение, которое мы передадим. Например, посмотрите, что возвращает запрос `select 1 + coalesce(null, 0)`\n",
    "\n",
    "Выясните, на какую зарплату в среднем может рассчитывать дата-сайентист с опытом работы от 3 до 6 лет. Результат округлите до целого числа. "
   ]
  },
  {
   "cell_type": "code",
   "execution_count": 49,
   "id": "6a743d39-5204-48d3-8271-b9f88e68d40e",
   "metadata": {
    "id": "6a743d39-5204-48d3-8271-b9f88e68d40e"
   },
   "outputs": [],
   "source": [
    "# текст запроса\n",
    "query_6_6 = f'''\n",
    "    select\n",
    "        experience,\n",
    "        --чтобы посчитать среднюю з/п по вакансии, если нет какого-то значения из вилки,\n",
    "        --то вместо Null на месте отсутствующего значения берем имеющееся.\n",
    "        --если нет обоих значений, то Null по итогу ((Null+Null)/2) в расчет среднего не возьмется\n",
    "        round(avg((coalesce(salary_from, salary_to) + coalesce(salary_to, salary_from)) / 2), 2) as avg_salsry\n",
    "    from public.vacancies\n",
    "\n",
    "    where (\n",
    "        lower(name) like '%data scientist%'\n",
    "        or lower(name) like '%data science%'\n",
    "        or lower(name) like '%исследователь данных%'\n",
    "        or (name like '%ML%' and name not like '%HTML%')\n",
    "        or lower(name) like '%machine learning%'\n",
    "        or lower(name) like '%машинн%обучен%'\n",
    "        )\n",
    "    group by experience\n",
    "    order by experience\n",
    "'''"
   ]
  },
  {
   "cell_type": "code",
   "execution_count": 50,
   "id": "aRIJ0mZEwU1_",
   "metadata": {
    "id": "aRIJ0mZEwU1_"
   },
   "outputs": [
    {
     "name": "stdout",
     "output_type": "stream",
     "text": [
      "           experience  avg_salsry\n",
      "0         Более 6 лет         NaN\n",
      "1           Нет опыта    74642.86\n",
      "2  От 1 года до 3 лет   139674.75\n",
      "3       От 3 до 6 лет   243114.67\n",
      "Задание 6.6: 243115\n"
     ]
    }
   ],
   "source": [
    "# результат запроса\n",
    "df = pd.read_sql_query(query_6_6, connection)\n",
    "print(df.head())\n",
    "\n",
    "print(f\"Задание 6.6: {int(round(df[df['experience'] == 'От 3 до 6 лет']['avg_salsry'].iloc[0], 0))}\")"
   ]
  },
  {
   "cell_type": "markdown",
   "id": "6a7892b4-4113-4746-adce-18aa2844f18e",
   "metadata": {
    "id": "6a7892b4-4113-4746-adce-18aa2844f18e"
   },
   "source": [
    "***"
   ]
  },
  {
   "cell_type": "markdown",
   "id": "cf94b6b0",
   "metadata": {},
   "source": [
    "# выводы по предметному анализу\n",
    "\n",
    "Профессия дата-сайентиста очень неплохо оплачивается. Даже без опыта средняя зарплата составляет 75 000 рублей (по сути очень хорошо оплачиваемая стажировка - набор опыта, да еще и дают неплохие деньги), за год-полтора работы ставка удваивается, а еще через полтора-два года утраивается от начальной. У спецов от 6 лет зарплату даже и не пишут - чтоб не расстраивать топ-менеджеров Газпрома и Сбербанка, не иначе.\n",
    "\n",
    "Язык python является must have-навыком: он требуется почти в 75% вакансий (351/480, где 480 - вакансий на дата-сайентиста всего из запроса query_6_add_1 ниже). Так что учить его полезно и выгодно в перспективе (но это пока [ChatGPT](https://www.youtube.com/watch?v=bPKw6fY23SU) не успел вытеснить...)"
   ]
  },
  {
   "cell_type": "code",
   "execution_count": 51,
   "id": "UjLWUptVwY1o",
   "metadata": {
    "id": "UjLWUptVwY1o"
   },
   "outputs": [
    {
     "name": "stdout",
     "output_type": "stream",
     "text": [
      "   data_vacancies\n",
      "0             480\n"
     ]
    }
   ],
   "source": [
    "# текст запроса - количество вакансий дата-сайентиста всего\n",
    "query_6_add_1 = f'''\n",
    "    select\n",
    "        count(*) as data_vacancies\n",
    "    from public.vacancies\n",
    "\n",
    "    where (\n",
    "        lower(name) like '%data scientist%'\n",
    "        or lower(name) like '%data science%'\n",
    "        or lower(name) like '%исследователь данных%'\n",
    "        or (name like '%ML%' and name not like '%HTML%')\n",
    "        or lower(name) like '%machine learning%'\n",
    "        or lower(name) like '%машинн%обучен%'\n",
    "        )\n",
    "'''\n",
    "df = pd.read_sql_query(query_6_add_1, connection)\n",
    "print(df.head())"
   ]
  },
  {
   "cell_type": "markdown",
   "id": "c0ED6fh7wiBT",
   "metadata": {
    "id": "c0ED6fh7wiBT"
   },
   "source": [
    "# Общий вывод по проекту"
   ]
  },
  {
   "cell_type": "code",
   "execution_count": 52,
   "id": "c6bfcbda",
   "metadata": {
    "id": "h9B3BL-wwj18"
   },
   "outputs": [],
   "source": [
    "# подведем итог исследования, обобщите выводы\n",
    "# здесь можно (это будет плюсом) провести дополнительные исследования данных, \n",
    "# сделать прогнозы, продумать варианты продолжения исследования"
   ]
  },
  {
   "cell_type": "markdown",
   "id": "08fdf408",
   "metadata": {},
   "source": [
    "Интересный срез рынка труда. Можно сравнить оплату по вакансиям с оплатой в своей текущей сфере работы.\n",
    "\n",
    "Востребованность программистов python растет, зарплаты в сфере высокие: чтобы получать хорошие деньги, нужно выучить язык, попасть на начальную похицию и уже через год-два с портфолио выполненных проектов получать достойную зарплату.\n",
    "Интересно посмотреть динамику зарплаты во времени, а также доли вакансий с python в требованиях.\n",
    "\n",
    "Всьма логично получилось распределение по количеству вакансий и по средней предлагаемой зарплате.\n",
    "Чтобы много зарабатывать, нужно искать работу в столицах. Но там же мест и больше всего."
   ]
  },
  {
   "cell_type": "code",
   "execution_count": 53,
   "id": "e4cf8061",
   "metadata": {},
   "outputs": [],
   "source": [
    "connection.close()"
   ]
  }
 ],
 "metadata": {
  "colab": {
   "collapsed_sections": [
    "8d62a9f3-f64e-4fe7-bdac-c4dffa16155e"
   ],
   "provenance": []
  },
  "kernelspec": {
   "display_name": "base",
   "language": "python",
   "name": "python3"
  },
  "language_info": {
   "codemirror_mode": {
    "name": "ipython",
    "version": 3
   },
   "file_extension": ".py",
   "mimetype": "text/x-python",
   "name": "python",
   "nbconvert_exporter": "python",
   "pygments_lexer": "ipython3",
   "version": "3.9.13"
  },
  "vscode": {
   "interpreter": {
    "hash": "36ab7f9348c7d0662a1965af503f4376fbff05df74ea3a3ead8d3abcf8650cb8"
   }
  }
 },
 "nbformat": 4,
 "nbformat_minor": 5
}
